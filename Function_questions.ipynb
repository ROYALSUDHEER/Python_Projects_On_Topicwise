{
 "cells": [
  {
   "cell_type": "markdown",
   "id": "863aeb85-505e-4d32-a3ff-b41adff73f84",
   "metadata": {},
   "source": [
    "## function_questions"
   ]
  },
  {
   "cell_type": "markdown",
   "id": "92df1b5c-d9d0-484e-b238-dc01453d2371",
   "metadata": {},
   "source": [
    "### Q.1\tWrite a function to return the square of a number"
   ]
  },
  {
   "cell_type": "code",
   "execution_count": 5,
   "id": "a2c493df-e66a-43d2-b920-2e1d440c2cdd",
   "metadata": {},
   "outputs": [
    {
     "name": "stdin",
     "output_type": "stream",
     "text": [
      "Enter a number:  5\n"
     ]
    },
    {
     "name": "stdout",
     "output_type": "stream",
     "text": [
      "25\n"
     ]
    }
   ],
   "source": [
    "user_input = int(input(\"Enter a number: \"))\n",
    "\n",
    "def square_num(user_input):\n",
    "    return user_input ** 2\n",
    "\n",
    "result = square_num(user_input)\n",
    "print(result)"
   ]
  },
  {
   "cell_type": "markdown",
   "id": "36d33fc3-a17f-4e30-9fd8-061ea682ee6f",
   "metadata": {},
   "source": [
    "## Q.2.\tWrite a function that takes two numbers and returns their sum."
   ]
  },
  {
   "cell_type": "code",
   "execution_count": 8,
   "id": "e609f3cd-ee31-4452-9dd9-081ae1914bef",
   "metadata": {},
   "outputs": [
    {
     "name": "stdin",
     "output_type": "stream",
     "text": [
      "Enter your first number:  5\n",
      "Enter your second number:  5\n"
     ]
    },
    {
     "name": "stdout",
     "output_type": "stream",
     "text": [
      "10\n"
     ]
    }
   ],
   "source": [
    "first_num = int(input(\"Enter your first number: \"))\n",
    "second_num = int(input(\"Enter your second number: \"))\n",
    "\n",
    "def sum_numbers(first_num, second_num):\n",
    "    return first_num + second_num\n",
    "sum_result = sum_numbers(first_num, second_num)\n",
    "print(sum_result)"
   ]
  },
  {
   "cell_type": "markdown",
   "id": "120b4755-34d2-4e8c-b6ed-23b2e59977ee",
   "metadata": {},
   "source": [
    "### Q.3 Write a function to check if a number is even or odd."
   ]
  },
  {
   "cell_type": "code",
   "execution_count": 19,
   "id": "9f52e102-a60a-4016-8dc8-3ca9592d68b0",
   "metadata": {},
   "outputs": [
    {
     "name": "stdin",
     "output_type": "stream",
     "text": [
      "Enter a number:  2\n"
     ]
    },
    {
     "name": "stdout",
     "output_type": "stream",
     "text": [
      "even\n"
     ]
    }
   ],
   "source": [
    "user_input  = int(input(\"Enter a number: \"))\n",
    "\n",
    "def even_odd(user_input):\n",
    "    if(user_input % 2 == 0):\n",
    "        return \"even\"\n",
    "    else:\n",
    "        return \"odd\"\n",
    "\n",
    "even_odd_result = even_odd(user_input)\n",
    "print(even_odd_result)"
   ]
  },
  {
   "cell_type": "markdown",
   "id": "b7acb67e-b91b-446e-a159-70299cb48539",
   "metadata": {},
   "source": [
    "## Q.4.\tWrite a function that accepts a string and returns it reversed."
   ]
  },
  {
   "cell_type": "code",
   "execution_count": 53,
   "id": "4d8c91a1-0445-4dbf-8eb2-57d4a5c2e304",
   "metadata": {},
   "outputs": [
    {
     "name": "stdin",
     "output_type": "stream",
     "text": [
      "Enter something:  python\n"
     ]
    },
    {
     "name": "stdout",
     "output_type": "stream",
     "text": [
      "nohtyp\n"
     ]
    }
   ],
   "source": [
    "user_string = input(\"Enter something: \")\n",
    "\n",
    "def reverse_fun(user_string):\n",
    "   return user_string[::-1]\n",
    "\n",
    "reverse_strings = reverse_fun(user_string)\n",
    "print(reverse_strings)"
   ]
  },
  {
   "cell_type": "markdown",
   "id": "48eb0d3b-c5bf-43b1-9c94-c032fc74fd5d",
   "metadata": {},
   "source": [
    "## Q.5.\tWrite a recursive function to calculate the factorial of a number."
   ]
  },
  {
   "cell_type": "code",
   "execution_count": 64,
   "id": "c79f587c-3a18-471c-9b3e-543c1932f1ae",
   "metadata": {},
   "outputs": [
    {
     "name": "stdin",
     "output_type": "stream",
     "text": [
      "enter a factorial number:  5\n"
     ]
    },
    {
     "name": "stdout",
     "output_type": "stream",
     "text": [
      "120\n"
     ]
    }
   ],
   "source": [
    "user_input = int(input(\"enter a factorial number: \"))\n",
    "\n",
    "def fact_num(user_input):\n",
    "    if user_input == 0 or user_input == 1:\n",
    "        return 1\n",
    "    else:\n",
    "        return (user_input) * fact_num(user_input - 1 )\n",
    "\n",
    "fact_result = fact_num(user_input)\n",
    "print(fact_result)"
   ]
  },
  {
   "cell_type": "markdown",
   "id": "81080fef-ef0d-4ae4-b5ea-66574496bd1e",
   "metadata": {},
   "source": [
    "## Q.6.\tWrite a function that takes a list and returns the largest element."
   ]
  },
  {
   "cell_type": "code",
   "execution_count": 146,
   "id": "f03d917c-3257-4a30-ae39-7092af8ae1ed",
   "metadata": {},
   "outputs": [
    {
     "name": "stdout",
     "output_type": "stream",
     "text": [
      "10\n"
     ]
    }
   ],
   "source": [
    "l1 = [5,7,4,9,10,6]\n",
    "\n",
    "def largest_num(l1):\n",
    "    temp = l1[0]\n",
    "    for i in l1:\n",
    "        if (i > temp):\n",
    "            temp = i\n",
    "    print(temp)\n",
    "largest_num(l1)"
   ]
  },
  {
   "cell_type": "markdown",
   "id": "1689b5af-a86f-4efc-96c9-0a2c9335722a",
   "metadata": {},
   "source": [
    "## Q.7 Write a function to check if a string is a palindrome."
   ]
  },
  {
   "cell_type": "code",
   "execution_count": 163,
   "id": "3483c81c-f588-4c45-be5d-c7d5fd86e772",
   "metadata": {},
   "outputs": [
    {
     "name": "stdin",
     "output_type": "stream",
     "text": [
      "Enter something:  madam\n"
     ]
    },
    {
     "name": "stdout",
     "output_type": "stream",
     "text": [
      "Entered text is palindrome\n"
     ]
    }
   ],
   "source": [
    "user_input = input(\"Enter something: \")\n",
    "\n",
    "def is_palindrome(user_input):\n",
    "    copy_input = user_input\n",
    "    reverse_text =  user_input[::-1]\n",
    "    if(reverse_text == copy_input):\n",
    "        print(\"Entered text is palindrome\")\n",
    "    else:\n",
    "        print(\"Entered text is not palindrome\")\n",
    "\n",
    "is_palindrome(user_input)\n",
    "        "
   ]
  },
  {
   "cell_type": "markdown",
   "id": "c0f309c6-46a0-4612-864c-9d1eea0b8784",
   "metadata": {},
   "source": [
    "## Q.8.\tWrite a function that counts the number of vowels in a string."
   ]
  },
  {
   "cell_type": "code",
   "execution_count": 172,
   "id": "fdd9e23d-35d3-44d7-8aa8-a09fdb971e8f",
   "metadata": {},
   "outputs": [
    {
     "name": "stdin",
     "output_type": "stream",
     "text": [
      "Enter something:  sudheer\n"
     ]
    },
    {
     "name": "stdout",
     "output_type": "stream",
     "text": [
      "Total 3 vowels are in sudheer\n"
     ]
    }
   ],
   "source": [
    "user_text = input(\"Enter something: \")\n",
    "\n",
    "def vowels_count(user_text):\n",
    "    vowels = ['a','e','i','o','u']\n",
    "    count = 0\n",
    "    for letter in user_text:\n",
    "        if letter in vowels:\n",
    "            count += 1\n",
    "    print(f\"Total {count} vowels are in {user_text}\")\n",
    "\n",
    "vowels_count(user_text)"
   ]
  },
  {
   "cell_type": "markdown",
   "id": "7e64c922-c26d-4aba-b316-f58937f706f3",
   "metadata": {},
   "source": [
    "## Q.9.\tWrite a function with default arguments to greet a user."
   ]
  },
  {
   "cell_type": "code",
   "execution_count": 179,
   "id": "026cb8ca-1395-48da-bd28-36cfe7dc7e24",
   "metadata": {},
   "outputs": [
    {
     "name": "stdin",
     "output_type": "stream",
     "text": [
      "Enter your name:  sudheer\n"
     ]
    },
    {
     "name": "stdout",
     "output_type": "stream",
     "text": [
      "sudheer good morning\n"
     ]
    }
   ],
   "source": [
    "user_input = input(\"Enter your name: \")\n",
    "\n",
    "def def_greet(user_input,b=\" good morning\"):\n",
    "    print(user_input + b)\n",
    "\n",
    "\n",
    "def_greet(user_input)"
   ]
  },
  {
   "cell_type": "markdown",
   "id": "3e23624d-8f14-45cc-844b-d4deb24c07a7",
   "metadata": {},
   "source": [
    "## Q.10 Write a function to find the Fibonacci sequence up to n terms."
   ]
  },
  {
   "cell_type": "code",
   "execution_count": 184,
   "id": "164b3b48-cd0b-43b5-b260-dab0b8bfbdb9",
   "metadata": {},
   "outputs": [
    {
     "name": "stdin",
     "output_type": "stream",
     "text": [
      "Enter a number:  10\n"
     ]
    },
    {
     "name": "stdout",
     "output_type": "stream",
     "text": [
      "55\n"
     ]
    }
   ],
   "source": [
    "user_input = int(input(\"Enter a number: \"))\n",
    "\n",
    "def find_fibonacci(user_input):\n",
    "    if user_input == 0:\n",
    "        return 0\n",
    "    elif user_input == 1:\n",
    "        return 1\n",
    "    else:\n",
    "        return find_fibonacci(user_input - 1) + find_fibonacci(user_input - 2)\n",
    "\n",
    "fibonacci_result = find_fibonacci(user_input)\n",
    "print(fibonacci_result)"
   ]
  },
  {
   "cell_type": "markdown",
   "id": "27252460-a58c-4366-9244-22deadf4d2ce",
   "metadata": {},
   "source": [
    "### Q.11.\tWrite a function that accepts arbitrary number of arguments and returns their sum."
   ]
  },
  {
   "cell_type": "code",
   "execution_count": 132,
   "id": "461551d6-edc6-4ec0-85c6-5c4525525db8",
   "metadata": {},
   "outputs": [
    {
     "name": "stdout",
     "output_type": "stream",
     "text": [
      "14\n"
     ]
    }
   ],
   "source": [
    "def arbitary_num(*num):\n",
    "    return sum(num)\n",
    "\n",
    "result = arbitary_num(2,3,4,5)\n",
    "print(result)"
   ]
  },
  {
   "cell_type": "markdown",
   "id": "a562de3d-005a-4a30-b99f-218061eac779",
   "metadata": {},
   "source": [
    "### Q.12.\tWrite a lambda function to multiply two numbers."
   ]
  },
  {
   "cell_type": "code",
   "execution_count": 9,
   "id": "ac7d016b-f39d-4148-b533-7fd5e05ab2e2",
   "metadata": {},
   "outputs": [
    {
     "name": "stdin",
     "output_type": "stream",
     "text": [
      "Enter your first number:  6\n",
      "Enter your second number:  6\n"
     ]
    },
    {
     "name": "stdout",
     "output_type": "stream",
     "text": [
      "36\n"
     ]
    }
   ],
   "source": [
    "first_number = int(input(\"Enter your first number: \"))\n",
    "second_number = int(input(\"Enter your second number: \"))\n",
    "\n",
    "mul_results = lambda first_number,second_number : first_number * second_number\n",
    "print(mul_results(first_number,second_number))"
   ]
  },
  {
   "cell_type": "markdown",
   "id": "e3e0b89a-2e67-4ec5-b22a-4f2a3477eaaf",
   "metadata": {},
   "source": [
    "### Q.13.\tWrite a function that takes a list of numbers and returns a list with each number squared."
   ]
  },
  {
   "cell_type": "code",
   "execution_count": 14,
   "id": "7fe003eb-e3c9-45d5-96ff-8ee594ba2a8f",
   "metadata": {},
   "outputs": [
    {
     "name": "stdout",
     "output_type": "stream",
     "text": [
      "4 9 16 25 36 49 64 81 "
     ]
    }
   ],
   "source": [
    "l1 = [2,3,4,5,6,7,8,9]\n",
    "\n",
    "def num_squared(l1):\n",
    "    for l2 in l1:\n",
    "        print(l2 ** 2 , end = \" \")\n",
    "\n",
    "num_squared(l1)"
   ]
  },
  {
   "cell_type": "markdown",
   "id": "2cca61af-c932-437f-9c59-1473f378e251",
   "metadata": {},
   "source": [
    "### Q.14.\tWrite a function that removes duplicates from a list."
   ]
  },
  {
   "cell_type": "code",
   "execution_count": 79,
   "id": "14423b77-5b72-4094-a021-bb265b0c40ee",
   "metadata": {},
   "outputs": [
    {
     "name": "stdout",
     "output_type": "stream",
     "text": [
      "[1, 2, 3, 4, 5, 7, 8, 9]\n"
     ]
    }
   ],
   "source": [
    "l1 = [1,2,3,4,5,5,7,8,9,9]\n",
    "\n",
    "def rem_duplicates(l1):\n",
    "    without_dup_values = []    \n",
    "    for value in l1:\n",
    "        if value not in without_dup_values:\n",
    "            without_dup_values.append(value)\n",
    "\n",
    "    print(without_dup_values)\n",
    "    \n",
    "rem_duplicates(l1)\n",
    "        "
   ]
  },
  {
   "cell_type": "markdown",
   "id": "0ed5f9ba-fb99-4e80-92eb-b2c8c50c8aaa",
   "metadata": {},
   "source": [
    "### Q.15.\tWrite a function to check if a number is prime.\n"
   ]
  },
  {
   "cell_type": "code",
   "execution_count": 112,
   "id": "9905dcc4-5940-4440-9716-931403c556e6",
   "metadata": {},
   "outputs": [
    {
     "name": "stdin",
     "output_type": "stream",
     "text": [
      "Enter a number:  23\n"
     ]
    },
    {
     "name": "stdout",
     "output_type": "stream",
     "text": [
      "prime\n"
     ]
    }
   ],
   "source": [
    "user_input = int(input(\"Enter a number: \"))\n",
    "\n",
    "def is_prime(user_input):\n",
    "    for value in range(2,user_input):\n",
    "        if user_input % value == 0:\n",
    "            print(\"Not prime\")\n",
    "            break\n",
    "    else:\n",
    "        print(\"prime\")\n",
    "\n",
    "is_prime(user_input)"
   ]
  },
  {
   "cell_type": "markdown",
   "id": "e8ee3676-62ed-40cf-a6ff-6ca03b3777a4",
   "metadata": {},
   "source": [
    "## Q.16.\tWrite a function to merge two dictionaries."
   ]
  },
  {
   "cell_type": "code",
   "execution_count": 127,
   "id": "5eb13b9e-13df-48b8-9282-e179fc945a04",
   "metadata": {},
   "outputs": [
    {
     "name": "stdout",
     "output_type": "stream",
     "text": [
      "{'name': 'Sudheer', 'age': 24, 'City': 'Markapuram', 'fruit1': 'apple', 'fruit2': 'mango', 'fruit3': 'pineapple'}\n"
     ]
    }
   ],
   "source": [
    "dict1 = {\"name\" : \"Sudheer\",\"age\" : 24, \"City\" : \"Markapuram\"}\n",
    "dict2 = {\"fruit1\" : \"apple\" , \"fruit2\" : \"mango\" , \"fruit3\" : \"pineapple\"}\n",
    "\n",
    "def merge_dict(dict1,dict2):\n",
    "    dict3 = dict1.copy()\n",
    "    dict3.update(dict2)\n",
    "    print(dict3)\n",
    "merge_dict(dict1,dict2)"
   ]
  },
  {
   "cell_type": "markdown",
   "id": "57d70650-6fe8-4c2d-8d0d-072d70b4e41f",
   "metadata": {},
   "source": [
    "## Q.17.\tWrite a function to find the GCD of two numbers."
   ]
  },
  {
   "cell_type": "code",
   "execution_count": 175,
   "id": "8c33842a-b486-4c39-ac53-ce914ba0b2de",
   "metadata": {},
   "outputs": [
    {
     "name": "stdin",
     "output_type": "stream",
     "text": [
      "Enter first number:  48\n",
      "Enter second number:  18\n"
     ]
    },
    {
     "name": "stdout",
     "output_type": "stream",
     "text": [
      "6\n"
     ]
    }
   ],
   "source": [
    "num1 = int(input(\"Enter first number: \"))\n",
    "num2 = int(input(\"Enter second number: \"))\n",
    "\n",
    "def gcd_value(num1,num2):\n",
    "    while(num2):\n",
    "        num1, num2 = num2, num1 % num2\n",
    "    return(num1)\n",
    "\n",
    "result = gcd_value(num1,num2)\n",
    "print(result)"
   ]
  },
  {
   "cell_type": "markdown",
   "id": "42c1caab-1402-42e4-ae86-80c263349208",
   "metadata": {},
   "source": [
    "## Q.18.\tWrite a function to convert Celsius to Fahrenheit."
   ]
  },
  {
   "cell_type": "code",
   "execution_count": 153,
   "id": "63f9598e-0022-4abd-a030-c604cbae560c",
   "metadata": {},
   "outputs": [
    {
     "name": "stdin",
     "output_type": "stream",
     "text": [
      "Enter your celsius number:  30\n"
     ]
    },
    {
     "name": "stdout",
     "output_type": "stream",
     "text": [
      "86.0\n"
     ]
    }
   ],
   "source": [
    "user_input = int(input(\"Enter your celsius number: \"))\n",
    "\n",
    "result = (user_input * 9/5) + 32\n",
    "print(result)"
   ]
  },
  {
   "cell_type": "markdown",
   "id": "9772cbfb-a943-4395-830a-0b0a83914a19",
   "metadata": {},
   "source": [
    "## Q.19.\tWrite a function that counts the frequency of characters in a string."
   ]
  },
  {
   "cell_type": "code",
   "execution_count": 144,
   "id": "b19d05bc-ff68-4e15-81b2-f53517776b7e",
   "metadata": {},
   "outputs": [
    {
     "name": "stdin",
     "output_type": "stream",
     "text": [
      "Enter something:  sudheer\n"
     ]
    },
    {
     "name": "stdout",
     "output_type": "stream",
     "text": [
      "{'s': 1, 'u': 1, 'd': 1, 'h': 1, 'e': 2, 'r': 1}\n"
     ]
    }
   ],
   "source": [
    "user_text = input(\"Enter something: \")\n",
    "\n",
    "def fre_value(user_text):\n",
    "    final_result = {}\n",
    "    for value in user_text:\n",
    "        if value in final_result:\n",
    "            final_result[value] += 1\n",
    "        else:\n",
    "            final_result[value] = 1\n",
    "\n",
    "    return final_result\n",
    "\n",
    "final_output = fre_value(user_text)\n",
    "print(final_output)"
   ]
  },
  {
   "cell_type": "markdown",
   "id": "aa86137e-a895-4b7f-b13b-48c88f93bd59",
   "metadata": {},
   "source": [
    "### Q.20.\tWrite a function that returns True if a list is sorted, else False."
   ]
  },
  {
   "cell_type": "code",
   "execution_count": 6,
   "id": "9b27c4e7-b1bd-4959-8874-0c88bcfcde08",
   "metadata": {},
   "outputs": [
    {
     "name": "stdout",
     "output_type": "stream",
     "text": [
      "False\n"
     ]
    }
   ],
   "source": [
    "l1 = [1,2,3,4,5,8,4,5,6]\n",
    "\n",
    "def is_sorted(l1):\n",
    "   return l1 == sorted(l1)\n",
    "\n",
    "result = is_sorted(l1)\n",
    "print(result)"
   ]
  },
  {
   "cell_type": "markdown",
   "id": "7ee52a74-0e4d-4ce8-8ad5-06826c62f93b",
   "metadata": {},
   "source": [
    "## Q.21.\tWrite a recursive function to find the sum of digits of a number."
   ]
  },
  {
   "cell_type": "code",
   "execution_count": 11,
   "id": "9462e546-76a1-462f-8f2d-12fb3dfa9f0e",
   "metadata": {},
   "outputs": [
    {
     "name": "stdin",
     "output_type": "stream",
     "text": [
      "Enter first number:  15\n"
     ]
    },
    {
     "name": "stdout",
     "output_type": "stream",
     "text": [
      "6\n"
     ]
    }
   ],
   "source": [
    "num = int(input(\"Enter first number: \"))\n",
    "\n",
    "def sum_num(num):\n",
    "    if num == 0:\n",
    "        return 0\n",
    "    else:\n",
    "       return  num % 10 + sum_num(num // 10)\n",
    "\n",
    "sum_digits = sum_num(num)\n",
    "print(sum_digits)\n"
   ]
  },
  {
   "cell_type": "markdown",
   "id": "c88d8d95-77e7-4508-87ea-c93501759300",
   "metadata": {},
   "source": [
    "## Q.22.\tWrite a function that returns the nth power of a number."
   ]
  },
  {
   "cell_type": "code",
   "execution_count": 14,
   "id": "17d626f7-ff80-47de-bcd8-012673082de6",
   "metadata": {},
   "outputs": [
    {
     "name": "stdin",
     "output_type": "stream",
     "text": [
      "Enter base number:  2\n",
      "Enter exponent number:  3\n"
     ]
    },
    {
     "name": "stdout",
     "output_type": "stream",
     "text": [
      "8\n"
     ]
    }
   ],
   "source": [
    "base_num = int(input(\"Enter base number: \"))\n",
    "exponent_num = int(input(\"Enter exponent number: \"))\n",
    "\n",
    "def power_num(base_num, exponent_num):\n",
    "    return base_num ** exponent_num\n",
    "\n",
    "power_result = power_num(base_num, exponent_num)\n",
    "print(power_result)"
   ]
  },
  {
   "cell_type": "markdown",
   "id": "4d89f238-09e9-46f2-b540-7c3767355632",
   "metadata": {},
   "source": [
    "## Q.23.\tWrite a function that takes a list of strings and returns a list of their lengths."
   ]
  },
  {
   "cell_type": "code",
   "execution_count": 37,
   "id": "a7a2968b-69e0-4651-84fd-5bd06337e9ac",
   "metadata": {},
   "outputs": [
    {
     "name": "stdout",
     "output_type": "stream",
     "text": [
      "{'Python': 6, 'C#': 2, 'C': 1, 'Java': 4}\n"
     ]
    }
   ],
   "source": [
    "l1_strings = [\"Python\", \"C#\", \"C\", \"Java\"]\n",
    "\n",
    "def len_str(l1_strings):\n",
    "    len_str1 = {}\n",
    "    for words in l1_strings:\n",
    "        len_str1[words] = len(words)\n",
    "    print(len_str1)\n",
    "    \n",
    "len_str(l1_strings)\n"
   ]
  },
  {
   "cell_type": "markdown",
   "id": "fd10b74e-04f1-4b15-94c7-98b4fb992853",
   "metadata": {},
   "source": [
    "## Q.24.\tWrite a function to check if two strings are anagrams."
   ]
  },
  {
   "cell_type": "code",
   "execution_count": 68,
   "id": "fda504b0-ebec-4a8e-aae0-32c601df994b",
   "metadata": {},
   "outputs": [
    {
     "name": "stdin",
     "output_type": "stream",
     "text": [
      "Enter your first word:  hello\n",
      "Enter your second word:  world\n"
     ]
    },
    {
     "name": "stdout",
     "output_type": "stream",
     "text": [
      "False\n"
     ]
    }
   ],
   "source": [
    "first_string = input(\"Enter your first word: \")\n",
    "second_string = input(\"Enter your second word: \")\n",
    "\n",
    "def is_anagram(first_string, second_string):\n",
    "    return sorted(first_string) == sorted(second_string)\n",
    "\n",
    "final_result = is_anagram(first_string, second_string)\n",
    "print(final_result)"
   ]
  },
  {
   "cell_type": "markdown",
   "id": "bfee8075-886e-4ff7-bfb2-6c940b7e2e20",
   "metadata": {},
   "source": [
    "## Q.25.\tWrite a function that flattens a nested list."
   ]
  },
  {
   "cell_type": "code",
   "execution_count": 178,
   "id": "4844a208-c31b-4faf-bbd1-57efb4dc56d2",
   "metadata": {},
   "outputs": [
    {
     "name": "stdout",
     "output_type": "stream",
     "text": [
      "[1, 2, 3, 4, 5, 6]\n"
     ]
    }
   ],
   "source": [
    "nested_list = [1, [2, 3], [4, [5, 6]]]\n",
    "\n",
    "def flatten_list(nested_list):\n",
    "    flat_list = []\n",
    "    for item in nested_list:\n",
    "        if isinstance(item, list):\n",
    "            flat_list.extend(flatten_list(item))\n",
    "        else:\n",
    "            flat_list.append(item)\n",
    "    return flat_list\n",
    "\n",
    "\n",
    "flat_list = flatten_list(nested_list)\n",
    "print(flat_list)"
   ]
  },
  {
   "cell_type": "markdown",
   "id": "b2054cc3-59c6-4234-a8c1-9d5ba5c32fd7",
   "metadata": {},
   "source": [
    "## Q.26.\tWrite a function that prints a multiplication table for a number."
   ]
  },
  {
   "cell_type": "code",
   "execution_count": 74,
   "id": "545eafbb-31b9-44ac-b3c6-f1e4423112e5",
   "metadata": {},
   "outputs": [
    {
     "name": "stdin",
     "output_type": "stream",
     "text": [
      "Enter a number:  5\n"
     ]
    },
    {
     "name": "stdout",
     "output_type": "stream",
     "text": [
      "5 10 15 20 25 30 35 40 45 50 "
     ]
    }
   ],
   "source": [
    "user_input = int(input(\"Enter a number: \"))\n",
    "\n",
    "def mul_table(user_input):\n",
    "    init_value = 1\n",
    "    while init_value <= 10:\n",
    "        print(user_input * init_value , end = \" \")\n",
    "        init_value += 1\n",
    "\n",
    "mul_table(user_input)"
   ]
  },
  {
   "cell_type": "markdown",
   "id": "5716d76c-3cf8-4dd6-b0fc-8ca4d18981b9",
   "metadata": {},
   "source": [
    "### Q.27.\tWrite a function that swaps two variables without using a temporary variable."
   ]
  },
  {
   "cell_type": "code",
   "execution_count": 121,
   "id": "08816c23-ec0e-4f47-afd7-9996a91c6973",
   "metadata": {},
   "outputs": [
    {
     "name": "stdin",
     "output_type": "stream",
     "text": [
      "Enter your first number:  4\n",
      "Enter your second number:  5\n"
     ]
    },
    {
     "name": "stdout",
     "output_type": "stream",
     "text": [
      "Before swap  4 5\n",
      "After swap  (5, 4)\n"
     ]
    }
   ],
   "source": [
    "first_number = int(input(\"Enter your first number: \"))\n",
    "second_number = int(input(\"Enter your second number: \"))\n",
    "\n",
    "\n",
    "def swap_num(first_number, second_number):\n",
    "    first_number = first_number + second_number\n",
    "    second_number = first_number - second_number\n",
    "    first_number = first_number - second_number\n",
    "    return first_number , second_number\n",
    "\n",
    "swap_numbers = swap_num(first_number, second_number)\n",
    "print(\"Before swap \" , first_number , second_number)\n",
    "print(\"After swap \",swap_numbers)"
   ]
  },
  {
   "cell_type": "markdown",
   "id": "53bf4eba-e7d4-41cf-b2cb-05a61cdda949",
   "metadata": {},
   "source": [
    "## Q.28.Write a function to find the second largest number in a list."
   ]
  },
  {
   "cell_type": "code",
   "execution_count": 144,
   "id": "502d835a-e686-4e6b-8369-1c7376b00b40",
   "metadata": {},
   "outputs": [
    {
     "name": "stdout",
     "output_type": "stream",
     "text": [
      "9\n"
     ]
    }
   ],
   "source": [
    "l1 = [4,6,8,9,10,4]\n",
    "\n",
    "def second_lar(l1):\n",
    "    l2 = sorted(l1)\n",
    "    return l2[-2]\n",
    "\n",
    "final_result = second_lar(l1)\n",
    "print(final_result)"
   ]
  },
  {
   "cell_type": "markdown",
   "id": "f3197372-bab8-4ae6-ba21-257d8aa0b69f",
   "metadata": {},
   "source": [
    "## Q.29.\tWrite a function that returns the intersection of two lists."
   ]
  },
  {
   "cell_type": "code",
   "execution_count": 149,
   "id": "c9e3bf2b-95df-4173-8d4a-6c770a637158",
   "metadata": {},
   "outputs": [
    {
     "name": "stdout",
     "output_type": "stream",
     "text": [
      "[3, 4]\n"
     ]
    }
   ],
   "source": [
    "l1 = [1,2,3,4]\n",
    "l2 = [3,4,5,6]\n",
    "\n",
    "def intersection_lists(l1, l2):\n",
    "    l3 = []\n",
    "    for number in l1:\n",
    "        if number in l2:\n",
    "            l3.append(number)\n",
    "    return l3\n",
    "\n",
    "\n",
    "final_result = intersection_lists(l1,l2)\n",
    "print(final_result)"
   ]
  },
  {
   "cell_type": "code",
   "execution_count": null,
   "id": "60694df0-8dea-45f0-b157-bca3c45c21ed",
   "metadata": {},
   "outputs": [],
   "source": []
  },
  {
   "cell_type": "code",
   "execution_count": null,
   "id": "1d6dfac0-dc65-4a01-8f06-ec4452aeb312",
   "metadata": {},
   "outputs": [],
   "source": []
  }
 ],
 "metadata": {
  "kernelspec": {
   "display_name": "Python [conda env:base] *",
   "language": "python",
   "name": "conda-base-py"
  },
  "language_info": {
   "codemirror_mode": {
    "name": "ipython",
    "version": 3
   },
   "file_extension": ".py",
   "mimetype": "text/x-python",
   "name": "python",
   "nbconvert_exporter": "python",
   "pygments_lexer": "ipython3",
   "version": "3.12.7"
  }
 },
 "nbformat": 4,
 "nbformat_minor": 5
}
