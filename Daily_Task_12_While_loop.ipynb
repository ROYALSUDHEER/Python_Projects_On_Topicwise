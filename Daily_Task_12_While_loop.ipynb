{
 "cells": [
  {
   "cell_type": "markdown",
   "id": "c65ac555-7d30-4dfd-a053-161b708c21b9",
   "metadata": {},
   "source": [
    "### Q.1 Keep Saying Hello Until You Say Stop!\n",
    "###  Ask the user to enter text continuously. Stop only when they type \"stop\" (case insensitive).\n"
   ]
  },
  {
   "cell_type": "code",
   "execution_count": 3,
   "id": "6c11a1af-ad4c-44a3-81b6-71c898426316",
   "metadata": {},
   "outputs": [
    {
     "name": "stdin",
     "output_type": "stream",
     "text": [
      "Enter your text untill you say 'Stop' :  ha\n"
     ]
    },
    {
     "name": "stdout",
     "output_type": "stream",
     "text": [
      "Hello\n"
     ]
    },
    {
     "name": "stdin",
     "output_type": "stream",
     "text": [
      "Enter your text untill you say 'Stop' :  ha\n"
     ]
    },
    {
     "name": "stdout",
     "output_type": "stream",
     "text": [
      "Hello\n"
     ]
    },
    {
     "name": "stdin",
     "output_type": "stream",
     "text": [
      "Enter your text untill you say 'Stop' :  aha\n"
     ]
    },
    {
     "name": "stdout",
     "output_type": "stream",
     "text": [
      "Hello\n"
     ]
    },
    {
     "name": "stdin",
     "output_type": "stream",
     "text": [
      "Enter your text untill you say 'Stop' :  Stop\n"
     ]
    }
   ],
   "source": [
    "while True:\n",
    "    Greetings = input(\"Enter your text untill you say 'Stop' : \")\n",
    "    if (Greetings.lower()) == \"stop\":\n",
    "        break\n",
    "    print(\"Hello\")"
   ]
  },
  {
   "cell_type": "markdown",
   "id": "436c2c12-dbdc-4192-ad69-994b1ffc8d44",
   "metadata": {},
   "source": [
    "### Q.2 Print Numbers Until 50\n",
    "### Start from 1 and print numbers continuously using a while loop until you hit 50."
   ]
  },
  {
   "cell_type": "code",
   "execution_count": 6,
   "id": "518410d6-c8ff-440b-b81b-92419abad3ac",
   "metadata": {},
   "outputs": [
    {
     "name": "stdout",
     "output_type": "stream",
     "text": [
      "1\n",
      "2\n",
      "3\n",
      "4\n",
      "5\n",
      "6\n",
      "7\n",
      "8\n",
      "9\n",
      "10\n",
      "11\n",
      "12\n",
      "13\n",
      "14\n",
      "15\n",
      "16\n",
      "17\n",
      "18\n",
      "19\n",
      "20\n",
      "21\n",
      "22\n",
      "23\n",
      "24\n",
      "25\n",
      "26\n",
      "27\n",
      "28\n",
      "29\n",
      "30\n",
      "31\n",
      "32\n",
      "33\n",
      "34\n",
      "35\n",
      "36\n",
      "37\n",
      "38\n",
      "39\n",
      "40\n",
      "41\n",
      "42\n",
      "43\n",
      "44\n",
      "45\n",
      "46\n",
      "47\n",
      "48\n",
      "49\n",
      "50\n"
     ]
    }
   ],
   "source": [
    "number = 1 \n",
    "while number <= 50:\n",
    "    print(number)\n",
    "    number += 1"
   ]
  },
  {
   "cell_type": "markdown",
   "id": "f47717d2-869f-486a-a301-1112fa3b6dbd",
   "metadata": {},
   "source": [
    "### Q.3 Count Down from a Number\n",
    "#### Take a user input number n. Print a countdown to 1 using a while loop."
   ]
  },
  {
   "cell_type": "code",
   "execution_count": 9,
   "id": "d6c5ded3-1515-4c63-8f26-cb406e7a5566",
   "metadata": {},
   "outputs": [
    {
     "name": "stdin",
     "output_type": "stream",
     "text": [
      "Enter Count Down from a number:  20\n"
     ]
    },
    {
     "name": "stdout",
     "output_type": "stream",
     "text": [
      "Count Down 20\n",
      "Count Down 19\n",
      "Count Down 18\n",
      "Count Down 17\n",
      "Count Down 16\n",
      "Count Down 15\n",
      "Count Down 14\n",
      "Count Down 13\n",
      "Count Down 12\n",
      "Count Down 11\n",
      "Count Down 10\n",
      "Count Down 9\n",
      "Count Down 8\n",
      "Count Down 7\n",
      "Count Down 6\n",
      "Count Down 5\n",
      "Count Down 4\n",
      "Count Down 3\n",
      "Count Down 2\n",
      "Count Down 1\n"
     ]
    }
   ],
   "source": [
    "User_input = int(input(\"Enter Count Down from a number: \"))\n",
    "\n",
    "while User_input >= 1:\n",
    "    print(f\"Count Down {User_input}\")\n",
    "    User_input -= 1"
   ]
  },
  {
   "cell_type": "markdown",
   "id": "31b4e2b1-a589-421e-bba8-eda276b4a335",
   "metadata": {},
   "source": [
    "### Q.4 Sum of First N Natural Numbers\n",
    "### Input a number n, then use a while loop to calculate the sum of numbers from 1 to n."
   ]
  },
  {
   "cell_type": "code",
   "execution_count": 7,
   "id": "7b7b3027-3b36-44fb-97e2-f7ff40c95888",
   "metadata": {},
   "outputs": [
    {
     "name": "stdin",
     "output_type": "stream",
     "text": [
      "Enter a number:  5\n"
     ]
    },
    {
     "name": "stdout",
     "output_type": "stream",
     "text": [
      "15\n"
     ]
    }
   ],
   "source": [
    "a = int(input(\"Enter a number: \"))\n",
    "\n",
    "n = 0\n",
    "while a >=1 :\n",
    "    n = n + a\n",
    "    a -=1 \n",
    "\n",
    "print(n)"
   ]
  },
  {
   "cell_type": "markdown",
   "id": "7bea57b9-8268-4f0c-ab3e-3b38854a9c8e",
   "metadata": {},
   "source": [
    "### Q.5 Guess the Secret Number\n",
    "### Secret number is fixed (say, 17). Keep asking the user to guess it using a while loop until they get it right.\n"
   ]
  },
  {
   "cell_type": "code",
   "execution_count": 7,
   "id": "2e3b4aaa-1386-418b-a87d-7e6ce34e51e3",
   "metadata": {},
   "outputs": [
    {
     "name": "stdin",
     "output_type": "stream",
     "text": [
      "Enter your guess number:  5\n"
     ]
    },
    {
     "name": "stdout",
     "output_type": "stream",
     "text": [
      "Your guess number is wrong , can you try it once again\n"
     ]
    },
    {
     "name": "stdin",
     "output_type": "stream",
     "text": [
      "Enter your guess number:  6\n"
     ]
    },
    {
     "name": "stdout",
     "output_type": "stream",
     "text": [
      "Your guess number is wrong , can you try it once again\n"
     ]
    },
    {
     "name": "stdin",
     "output_type": "stream",
     "text": [
      "Enter your guess number:  7\n"
     ]
    },
    {
     "name": "stdout",
     "output_type": "stream",
     "text": [
      "Your guess number is wrong , can you try it once again\n"
     ]
    },
    {
     "name": "stdin",
     "output_type": "stream",
     "text": [
      "Enter your guess number:  17\n"
     ]
    },
    {
     "name": "stdout",
     "output_type": "stream",
     "text": [
      "Your guess number is absolutely correct\n"
     ]
    }
   ],
   "source": [
    "Secret_number = 17\n",
    "\n",
    "while True:\n",
    "    guess_number = int(input(\"Enter your guess number: \"))\n",
    "    if(guess_number == Secret_number):\n",
    "        print(\"Your guess number is absolutely correct\")\n",
    "        break\n",
    "    print(\"Your guess number is wrong , can you try it once again\")"
   ]
  },
  {
   "cell_type": "markdown",
   "id": "64235b2e-f2c7-4561-ba68-88965298776d",
   "metadata": {},
   "source": [
    "### Q.6 Reverse a Number\n",
    "### Input: 1234\n",
    "### Output: 4321\n",
    "### Use a while loop to reverse a number without converting it to a string."
   ]
  },
  {
   "cell_type": "code",
   "execution_count": 11,
   "id": "264f7f63-7339-4c95-a489-9447f80b424e",
   "metadata": {},
   "outputs": [
    {
     "name": "stdout",
     "output_type": "stream",
     "text": [
      "4321\n"
     ]
    }
   ],
   "source": [
    "Input = 1234\n",
    "\n",
    "Output = 0\n",
    "while Input > 0:\n",
    "    rem = Input % 10 \n",
    "    Output = Output * 10 + rem\n",
    "    Input = Input//10\n",
    "print(Output)"
   ]
  },
  {
   "cell_type": "markdown",
   "id": "01b95da2-ca68-4a64-85e5-98e428fa4373",
   "metadata": {},
   "source": [
    "### Q.7 Print Even Numbers Only Until 100\n",
    "### Print only even numbers between 1 and 100 using a while loop."
   ]
  },
  {
   "cell_type": "code",
   "execution_count": 1,
   "id": "1965d5b8-7fd4-46c7-b4fc-ec043fa3fd0f",
   "metadata": {},
   "outputs": [
    {
     "name": "stdout",
     "output_type": "stream",
     "text": [
      "100 is even\n",
      "98 is even\n",
      "96 is even\n",
      "94 is even\n",
      "92 is even\n",
      "90 is even\n",
      "88 is even\n",
      "86 is even\n",
      "84 is even\n",
      "82 is even\n",
      "80 is even\n",
      "78 is even\n",
      "76 is even\n",
      "74 is even\n",
      "72 is even\n",
      "70 is even\n",
      "68 is even\n",
      "66 is even\n",
      "64 is even\n",
      "62 is even\n",
      "60 is even\n",
      "58 is even\n",
      "56 is even\n",
      "54 is even\n",
      "52 is even\n",
      "50 is even\n",
      "48 is even\n",
      "46 is even\n",
      "44 is even\n",
      "42 is even\n",
      "40 is even\n",
      "38 is even\n",
      "36 is even\n",
      "34 is even\n",
      "32 is even\n",
      "30 is even\n",
      "28 is even\n",
      "26 is even\n",
      "24 is even\n",
      "22 is even\n",
      "20 is even\n",
      "18 is even\n",
      "16 is even\n",
      "14 is even\n",
      "12 is even\n",
      "10 is even\n",
      "8 is even\n",
      "6 is even\n",
      "4 is even\n",
      "2 is even\n"
     ]
    }
   ],
   "source": [
    "num = 100\n",
    "while num >= 1:\n",
    "    if (num) % 2 == 0:\n",
    "        print(f\"{num} is even\")\n",
    "    num -= 1"
   ]
  },
  {
   "cell_type": "markdown",
   "id": "18314ba0-69be-4479-bb84-fd08ab383f3f",
   "metadata": {},
   "source": [
    "### Q.8 Sum of Digits\n",
    "### Input a number and calculate the sum of its digits using a while loop.\n",
    "### Example: Input = 543 → Output = 12"
   ]
  },
  {
   "cell_type": "code",
   "execution_count": 24,
   "id": "df5b375b-b4ad-48ae-877e-05e784773741",
   "metadata": {},
   "outputs": [
    {
     "name": "stdin",
     "output_type": "stream",
     "text": [
      "Enter your calculate number:  531\n"
     ]
    },
    {
     "name": "stdout",
     "output_type": "stream",
     "text": [
      "9\n"
     ]
    }
   ],
   "source": [
    "input_number = int(input(\"Enter your calculate number: \"))\n",
    "\n",
    "Output_Sum = 0\n",
    "while input_number > 0:\n",
    "    rem = input_number % 10\n",
    "    Output_Sum = Output_Sum + rem\n",
    "    input_number = input_number // 10\n",
    "\n",
    "print(Output_Sum)"
   ]
  },
  {
   "cell_type": "markdown",
   "id": "61e755be-2582-41f0-b39c-a3f41a715440",
   "metadata": {},
   "source": [
    "### Q.9 Multiplication Table of a Number\n",
    "### Take input n, print its multiplication table till 10 using a while loop.\n",
    "### Example: n = 3 → 3 6 9 12 ... 30"
   ]
  },
  {
   "cell_type": "code",
   "execution_count": 52,
   "id": "192e618d-7606-4b05-857d-11e7713c237a",
   "metadata": {},
   "outputs": [
    {
     "name": "stdin",
     "output_type": "stream",
     "text": [
      "Enter your multiplication number:  5\n"
     ]
    },
    {
     "name": "stdout",
     "output_type": "stream",
     "text": [
      "5 10 15 20 25 30 35 40 45 50 "
     ]
    }
   ],
   "source": [
    "num = int(input(\"Enter your multiplication number: \"))\n",
    "\n",
    "rep = 1\n",
    "while rep <= 10:\n",
    "    print(num * rep , end = \" \" )\n",
    "    rep += 1"
   ]
  },
  {
   "cell_type": "markdown",
   "id": "ee12176e-5061-4897-8271-1f89b4a14a09",
   "metadata": {},
   "source": [
    "### Q.10 How Many Attempts Did You Take?\n",
    "### Ask a user to guess a number until they get it right. At the end, print how many attempts"
   ]
  },
  {
   "cell_type": "code",
   "execution_count": 11,
   "id": "77a0b8f2-1e24-4a77-9bb7-220463d9bc57",
   "metadata": {},
   "outputs": [
    {
     "name": "stdin",
     "output_type": "stream",
     "text": [
      "Enter your guess number:  100000000\n"
     ]
    },
    {
     "name": "stdout",
     "output_type": "stream",
     "text": [
      "Your guess number is not correct , please try it once.\n"
     ]
    },
    {
     "name": "stdin",
     "output_type": "stream",
     "text": [
      "Enter your guess number:  399\n"
     ]
    },
    {
     "name": "stdout",
     "output_type": "stream",
     "text": [
      "Congratulations you have successfully guessed with the 2 attempts\n"
     ]
    }
   ],
   "source": [
    "fixed_number = 399\n",
    "\n",
    "attempts = 0\n",
    "while True:\n",
    "    num = int(input(\"Enter your guess number: \"))\n",
    "    attempts += 1\n",
    "    if(num == fixed_number):\n",
    "        print(f\"Congratulations you have successfully guessed with the {attempts} attempts\" )\n",
    "        break\n",
    "    print(\"Your guess number is not correct , please try it once.\" )\n",
    "    "
   ]
  },
  {
   "cell_type": "markdown",
   "id": "ee485d29-f3e5-408b-85de-f7dd9418a959",
   "metadata": {},
   "source": [
    "### Q.11 Palindrome Check (Number)\n",
    "### Input a number and check whether it's a palindrome using a while loop.\n",
    "### (Don't use string conversion)"
   ]
  },
  {
   "cell_type": "code",
   "execution_count": 113,
   "id": "8cb9cc9c-a07f-4be9-b387-4389bbbd02b6",
   "metadata": {},
   "outputs": [
    {
     "name": "stdin",
     "output_type": "stream",
     "text": [
      "Enter your number:  1771\n"
     ]
    },
    {
     "name": "stdout",
     "output_type": "stream",
     "text": [
      "The entered number is palindrome\n"
     ]
    }
   ],
   "source": [
    "User_input = int(input(\"Enter your number: \"))\n",
    "\n",
    "Copy_number = User_input\n",
    "check_number = 0\n",
    "while User_input > 0:\n",
    "    rem = User_input % 10\n",
    "    check_number = check_number * 10 + rem\n",
    "    User_input = User_input // 10\n",
    "\n",
    "if(check_number == Copy_number):\n",
    "    print(\"The entered number is palindrome\")\n",
    "else:\n",
    "    print(\"The entered number is not palindrome\")"
   ]
  },
  {
   "cell_type": "markdown",
   "id": "fd75525d-422b-4caa-9b83-86c00d0bca9e",
   "metadata": {},
   "source": [
    "### Q.12 Digit Frequency Counter\n",
    "### Input a number, and count how many times each digit appears.\n",
    "### Example: 122333 → 1:1, 2:2, 3:3 (just logic using while, no dicts)"
   ]
  },
  {
   "cell_type": "code",
   "execution_count": 1,
   "id": "e1bfef3c-d5e4-4be9-abd6-411e98ccbb58",
   "metadata": {},
   "outputs": [
    {
     "name": "stdin",
     "output_type": "stream",
     "text": [
      "Enter your number:  122333\n"
     ]
    },
    {
     "name": "stdout",
     "output_type": "stream",
     "text": [
      "[3, 3, 3]\n",
      "[2, 2]\n",
      "[1]\n"
     ]
    }
   ],
   "source": [
    "num = int(input(\"Enter your number: \"))\n",
    "list1 = []\n",
    "list2 = []\n",
    "list3 = []\n",
    "while num > 0:\n",
    "\n",
    "    r = num % 10\n",
    "    if (r) == 3:\n",
    "        list1.append(r)\n",
    "    elif(r) == 2:\n",
    "        list2.append(r)\n",
    "    elif(r) == 1:\n",
    "        list3.append(r)\n",
    "    else:\n",
    "        print(\"wrong number\")\n",
    "    num = num // 10\n",
    "\n",
    "print(list1)\n",
    "print(list2)\n",
    "print(list3)\n"
   ]
  },
  {
   "cell_type": "markdown",
   "id": "3e482c8d-8631-4cca-a5f2-8a7409416a2d",
   "metadata": {},
   "source": [
    "### Q.13 Find the First Number Divisible by 7 and 11\n",
    "### Start from a user-given number and find the first number greater than it that is divisible by both 7 and 11 using a while loop.\n"
   ]
  },
  {
   "cell_type": "code",
   "execution_count": 15,
   "id": "483c83e4-0a1d-43de-9c2c-71fe316993ae",
   "metadata": {},
   "outputs": [
    {
     "name": "stdin",
     "output_type": "stream",
     "text": [
      "Enter your number:  77\n"
     ]
    },
    {
     "name": "stdout",
     "output_type": "stream",
     "text": [
      "You entered number is greater than 7 & 11 the number is divisible by both 7 and 11\n"
     ]
    }
   ],
   "source": [
    "num = int(input(\"Enter your number: \"))\n",
    "\n",
    "while num > 0:\n",
    "    if (num >= 7 & num % 7 == 0 & num % 11 == 0):\n",
    "        print(\"You entered number is greater than 7 & 11 the number is divisible by both 7 and 11\")\n",
    "        break\n",
    "    else:\n",
    "        print(\"You entered number is not exactly divisible by both 7 and 11\")\n",
    "        break\n",
    "        "
   ]
  },
  {
   "cell_type": "markdown",
   "id": "48086772-cdd0-43f1-a2ff-3910acf96da1",
   "metadata": {},
   "source": [
    "### Q.14 Number Reduction Game\n",
    "### Start from a number n. If it's even, divide it by 2, else subtract 1. Keep doing this until n becomes 0. Count how many steps it took.\n"
   ]
  },
  {
   "cell_type": "code",
   "execution_count": 9,
   "id": "3ff436c3-1923-461a-92ad-dd2d7afb91b7",
   "metadata": {},
   "outputs": [
    {
     "name": "stdin",
     "output_type": "stream",
     "text": [
      "Enter a number:  18\n"
     ]
    },
    {
     "name": "stdout",
     "output_type": "stream",
     "text": [
      "6\n"
     ]
    }
   ],
   "source": [
    "num = int(input(\"Enter a number: \"))\n",
    "\n",
    "step_count = 0\n",
    "while num > 0:\n",
    "    if(num % 2 == 0):\n",
    "        num //= 2\n",
    "    else:\n",
    "        num -= 1\n",
    "    step_count += 1\n",
    "\n",
    "print(step_count)"
   ]
  },
  {
   "cell_type": "markdown",
   "id": "40ec3582-94cf-447f-93c8-a6f30d8fe4d1",
   "metadata": {},
   "source": [
    "### Q.15 Simulate ATM Withdrawal (with limits)\n",
    "### You have ₹10000 in balance. Keep asking the user how much they want to withdraw until they exceed the limit or input 0.\n",
    "### Conditions:\n",
    "### Can’t withdraw more than balance.\n",
    "### Can’t withdraw negative or 0.\n",
    "### Exit when balance is 0 or user enters 0.\n"
   ]
  },
  {
   "cell_type": "code",
   "execution_count": 49,
   "id": "fe77ab44-b017-4bdd-96fe-3ffdad905b67",
   "metadata": {},
   "outputs": [
    {
     "name": "stdin",
     "output_type": "stream",
     "text": [
      "Enter how much amount you want:  500\n",
      "Enter how much amount you want:  1500\n",
      "Enter how much amount you want:  0\n"
     ]
    },
    {
     "name": "stdout",
     "output_type": "stream",
     "text": [
      "Entered amount is not valid please once cross check it\n",
      "Updated balance :   8000\n"
     ]
    }
   ],
   "source": [
    "User_balance = 10000\n",
    "while True:\n",
    "    Entered_balance = int(input(\"Enter how much amount you want: \"))\n",
    "    if(Entered_balance >= User_balance):\n",
    "        print(\"Entered amount is exceed than your original balance\")\n",
    "        break\n",
    "    elif (Entered_balance <= 0):\n",
    "        print(\"Entered amount is not valid please once cross check it\")\n",
    "        break\n",
    "    elif (Entered_balance <= 10000):\n",
    "        User_balance -= Entered_balance\n",
    "        if(User_balance == 0):\n",
    "            break\n",
    "    else:\n",
    "        print(\"your entered balance is not correct\")\n",
    "\n",
    "print(\"Updated balance :  \",User_balance)"
   ]
  },
  {
   "cell_type": "markdown",
   "id": "8e823c04-719e-4ace-950a-9432c67ae99b",
   "metadata": {},
   "source": [
    "### Q.16 Question 1: Student Grade Evaluator\n",
    "### You are given a list of student scores. For each score, follow the steps below:\n",
    "### If the score is less than 0 or more than 100, print: \"Invalid score\".\n",
    "### If the score is below 40, print: \"Fail\".\n",
    "### If score is between 40–59, print: \"Pass\".\n",
    "### If score is between 60–79, print: \"Merit\".\n",
    "### If score is between 80–100, print: \"Distinction\".\n",
    "### But here's the twist:\n",
    "### 🔁 Use a while loop to ensure the user can enter multiple scores. Inside the while loop, use a for loop to process a list of scores (comma-separated).\n",
    "### Use nested if-elif-else to determine the result for each score.\n",
    "### 📝 Input Example:\n",
    "### Enter scores separated by comma: 45,82,101,-3,67\n",
    "### 📌 Hint: Loop over the scores using a for loop and validate inside if-elif-else. Continue until user types \"exit\".\n"
   ]
  },
  {
   "cell_type": "code",
   "execution_count": 13,
   "id": "ca5442bf-c282-4d0d-be07-ab384615d960",
   "metadata": {},
   "outputs": [
    {
     "name": "stdin",
     "output_type": "stream",
     "text": [
      "Enter scores seperated by comma:  10,20,30,40,88,95,86,78\n"
     ]
    },
    {
     "name": "stdout",
     "output_type": "stream",
     "text": [
      "You fail with the score 10\n",
      "You fail with the score 20\n",
      "You fail with the score 30\n",
      "You pass with the score 40\n",
      "you reached the distinction level with the score 88\n",
      "you reached the distinction level with the score 95\n",
      "you reached the distinction level with the score 86\n",
      "you reached to the merit class with the score 78\n"
     ]
    }
   ],
   "source": [
    "Student_marks = input(\"Enter scores seperated by comma: \")\n",
    "Student_marks_list =  list(map(int, Student_marks.split(\",\")))\n",
    "\n",
    "iteration = 1\n",
    "while iteration <= len(Student_marks_list):\n",
    "    for marks in Student_marks_list:\n",
    "        if (marks < 0 or marks > 100):\n",
    "            print(\"Your Score is Invalid\")\n",
    "            \n",
    "        elif (marks < 40):\n",
    "            print(f\"You fail with the score {marks}\")\n",
    "            \n",
    "        elif (marks < 59):\n",
    "            print(f\"You pass with the score {marks}\")\n",
    "            \n",
    "        elif(marks < 79):\n",
    "            print(f\"you reached to the merit class with the score {marks}\")\n",
    "           \n",
    "        elif (marks <= 100):\n",
    "            print(f\"you reached the distinction level with the score {marks}\")\n",
    "            \n",
    "        else:\n",
    "            print(\"Out of scores\")\n",
    "        iteration += 1\n"
   ]
  },
  {
   "cell_type": "code",
   "execution_count": null,
   "id": "c2969589-3a1c-4676-aff0-929e431b8869",
   "metadata": {},
   "outputs": [],
   "source": []
  },
  {
   "cell_type": "markdown",
   "id": "1c9aa984-6c99-4e9f-a6d2-a60cf61a004a",
   "metadata": {},
   "source": [
    "### Q.17 Question 2: Mystery Number Finder\n",
    "### There’s a hidden number between 10 and 99 that you need to guess.\n",
    "### The program should:\n",
    "### Allow 5 chances.\n",
    "### For each guess:\n",
    "### If guess is not a two-digit number, print: \"Enter a valid two-digit number!\".\n",
    "### If guess is higher than mystery number, print: \"Too High!\".\n",
    "### If guess is lower than mystery number, print: \"Too Low!\".\n",
    "### If guess is correct, print: \"You got it!\" and break the loop.\n",
    "### Use:\n",
    "### An outer for loop for number of attempts (5 attempts).\n",
    "### A while loop inside to make sure only valid two-digit input is accepted.\n",
    "### Nested if-elif-else to compare the guess with the mystery number.\n",
    "### 📌 Hint: Fix the mystery number as 37 for now. Break early if guessed correctly."
   ]
  },
  {
   "cell_type": "code",
   "execution_count": 13,
   "id": "a9071fdf-7beb-4267-8535-e8332827019d",
   "metadata": {},
   "outputs": [
    {
     "name": "stdin",
     "output_type": "stream",
     "text": [
      "Enter your guessing number:  1\n"
     ]
    },
    {
     "name": "stdout",
     "output_type": "stream",
     "text": [
      "Enter a valid two digit number\n"
     ]
    },
    {
     "name": "stdin",
     "output_type": "stream",
     "text": [
      "Enter your guessing number:  2\n"
     ]
    },
    {
     "name": "stdout",
     "output_type": "stream",
     "text": [
      "Enter a valid two digit number\n"
     ]
    },
    {
     "name": "stdin",
     "output_type": "stream",
     "text": [
      "Enter your guessing number:  3\n"
     ]
    },
    {
     "name": "stdout",
     "output_type": "stream",
     "text": [
      "Enter a valid two digit number\n"
     ]
    },
    {
     "name": "stdin",
     "output_type": "stream",
     "text": [
      "Enter your guessing number:  4\n"
     ]
    },
    {
     "name": "stdout",
     "output_type": "stream",
     "text": [
      "Enter a valid two digit number\n"
     ]
    },
    {
     "name": "stdin",
     "output_type": "stream",
     "text": [
      "Enter your guessing number:  88\n"
     ]
    },
    {
     "name": "stdout",
     "output_type": "stream",
     "text": [
      "Too high & ramaining chances are 0\n",
      "Game over! Your all chances are done.\n"
     ]
    }
   ],
   "source": [
    "mystery_number = 37\n",
    "for chances in range(5,0,-1):\n",
    "    \n",
    "    guessing_number = int(input(\"Enter your guessing number: \"))\n",
    "    if (guessing_number < 10 or guessing_number > 99):\n",
    "        print(\"Enter a valid two digit number\")\n",
    "    elif (guessing_number > mystery_number):\n",
    "        print(f\"Too high & ramaining chances are {chances - 1}\")\n",
    "    elif (guessing_number < mystery_number):\n",
    "        print(f\"Too low & ramaining chances are {chances - 1}\")\n",
    "    elif (guessing_number == mystery_number ):\n",
    "        print(\"You got it\")\n",
    "        break\n",
    "else:\n",
    "    print(\"Game over! Your all chances are done.\")"
   ]
  },
  {
   "cell_type": "code",
   "execution_count": null,
   "id": "7f35ca1e-656b-4b9f-8f78-83be85029d68",
   "metadata": {},
   "outputs": [],
   "source": []
  },
  {
   "cell_type": "code",
   "execution_count": null,
   "id": "9b74ce98-7e1a-4bc1-9d59-9de2a8b689c7",
   "metadata": {},
   "outputs": [],
   "source": []
  }
 ],
 "metadata": {
  "kernelspec": {
   "display_name": "Python [conda env:base] *",
   "language": "python",
   "name": "conda-base-py"
  },
  "language_info": {
   "codemirror_mode": {
    "name": "ipython",
    "version": 3
   },
   "file_extension": ".py",
   "mimetype": "text/x-python",
   "name": "python",
   "nbconvert_exporter": "python",
   "pygments_lexer": "ipython3",
   "version": "3.12.7"
  }
 },
 "nbformat": 4,
 "nbformat_minor": 5
}
