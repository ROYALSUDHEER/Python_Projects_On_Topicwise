{
 "cells": [
  {
   "cell_type": "markdown",
   "id": "c819dda3-f00d-47d6-8fde-4f2be3834521",
   "metadata": {},
   "source": [
    "### Q.1 Print Your Name 5 Times\n",
    "### Write a for loop to print your name 5 times using range().\n"
   ]
  },
  {
   "cell_type": "code",
   "execution_count": 9,
   "id": "56848026-8827-4655-9c42-b5ade8c56af5",
   "metadata": {},
   "outputs": [
    {
     "name": "stdout",
     "output_type": "stream",
     "text": [
      "Python\n",
      "Python\n",
      "Python\n",
      "Python\n",
      "Python\n"
     ]
    }
   ],
   "source": [
    "name = \"Python\"\n",
    "\n",
    "for names in range(5):\n",
    "    print(name)"
   ]
  },
  {
   "cell_type": "markdown",
   "id": "a34b68dd-2631-4473-92d0-0bd997620f3c",
   "metadata": {},
   "source": [
    "### Q.2 Count to 10\n",
    "### Use a for loop and range() to print numbers from 1 to 10."
   ]
  },
  {
   "cell_type": "code",
   "execution_count": 14,
   "id": "08d3bc21-796d-4674-85b1-9837c021bd7e",
   "metadata": {},
   "outputs": [
    {
     "name": "stdout",
     "output_type": "stream",
     "text": [
      "1 2 3 4 5 6 7 8 9 10 "
     ]
    }
   ],
   "source": [
    "for numbers in range(1,11):\n",
    "    print(numbers , end = \" \")"
   ]
  },
  {
   "cell_type": "markdown",
   "id": "847e9ef1-6217-44e1-848d-d911dd7f123e",
   "metadata": {},
   "source": [
    "### Q.3 Even Steps\n",
    "### Print all even numbers from 2 to 20 using range(start, stop, step)"
   ]
  },
  {
   "cell_type": "code",
   "execution_count": 21,
   "id": "c69a24ed-f05b-4463-9941-7bc49e116b2e",
   "metadata": {},
   "outputs": [
    {
     "name": "stdout",
     "output_type": "stream",
     "text": [
      "2 4 6 8 10 12 14 16 18 "
     ]
    }
   ],
   "source": [
    "for even_numbers in range(2, 20, 2):\n",
    "    print(even_numbers, end = \" \")"
   ]
  },
  {
   "cell_type": "markdown",
   "id": "a62635fa-e91a-4b48-ab1b-03f8ca0b2b21",
   "metadata": {},
   "source": [
    "### Q.4 Backward March\n",
    "### Print numbers from 10 to 1 using a reverse range()."
   ]
  },
  {
   "cell_type": "code",
   "execution_count": 32,
   "id": "3caf6e51-5f55-4da1-9348-d53948fb8f48",
   "metadata": {},
   "outputs": [
    {
     "name": "stdout",
     "output_type": "stream",
     "text": [
      "10 9 8 7 6 5 4 3 2 1 "
     ]
    }
   ],
   "source": [
    "for reverse_numbers in range(10,0,-1):\n",
    "    print(reverse_numbers , end = \" \")"
   ]
  },
  {
   "cell_type": "markdown",
   "id": "85138b4c-e1a6-4da5-b127-1568a0e9809e",
   "metadata": {},
   "source": [
    "### Q.5 Letters in a Word\n",
    "### Given a word = \"HELLO\", print each letter using a for loop with range() and len()."
   ]
  },
  {
   "cell_type": "code",
   "execution_count": 47,
   "id": "40babc86-bab2-4f58-b2a3-30ad92ab9349",
   "metadata": {},
   "outputs": [
    {
     "name": "stdout",
     "output_type": "stream",
     "text": [
      "H E L L O "
     ]
    }
   ],
   "source": [
    "word = \"HELLO\"\n",
    "\n",
    "for characters in range(len(word)):\n",
    "    print(word[characters], end = \" \")"
   ]
  },
  {
   "cell_type": "markdown",
   "id": "ecb37cd2-0f92-4916-ba28-e68d2968f35f",
   "metadata": {},
   "source": [
    "### Q.6 Index This!\n",
    "### Given a list = [5, 10, 15, 20], print each value along with its index using range() and len().\n"
   ]
  },
  {
   "cell_type": "code",
   "execution_count": 68,
   "id": "131a17b8-f468-4404-8886-30c3fb0a1b99",
   "metadata": {},
   "outputs": [
    {
     "name": "stdout",
     "output_type": "stream",
     "text": [
      "0 5\n",
      "1 10\n",
      "2 15\n",
      "3 20\n"
     ]
    }
   ],
   "source": [
    "list1 = [5, 10, 15, 20]\n",
    "\n",
    "for value_index in range(len(list1)):\n",
    "    print(value_index ,list1[value_index])"
   ]
  },
  {
   "cell_type": "markdown",
   "id": "e1e4a585-b60e-4e9d-b3ad-40206d453308",
   "metadata": {},
   "source": [
    "### Q.7 Repeat the Pattern\n",
    "### Print the pattern * five times, one in each line.\n"
   ]
  },
  {
   "cell_type": "code",
   "execution_count": 81,
   "id": "c22ea247-cc7e-4624-9958-c87a75a947f1",
   "metadata": {},
   "outputs": [
    {
     "name": "stdout",
     "output_type": "stream",
     "text": [
      "* * * * * \n",
      "* * * * * \n",
      "* * * * * \n",
      "* * * * * \n",
      "* * * * * \n"
     ]
    }
   ],
   "source": [
    "for i in range(5):\n",
    "    for j in range(5):\n",
    "        print(\"*\", end = \" \")\n",
    "    print()"
   ]
  },
  {
   "cell_type": "markdown",
   "id": "268fe795-2484-4c71-bb69-348245edd1a3",
   "metadata": {},
   "source": [
    "### Q.8 Step Skip\n",
    "### Use range() to print every 3rd number from 3 to 30.\n"
   ]
  },
  {
   "cell_type": "code",
   "execution_count": 88,
   "id": "2de88eac-0f22-46ae-99ed-8b2a124a5323",
   "metadata": {},
   "outputs": [
    {
     "name": "stdout",
     "output_type": "stream",
     "text": [
      "3 6 9 12 15 18 21 24 27 "
     ]
    }
   ],
   "source": [
    "for step_skip in range(3,30,3):\n",
    "    print(step_skip, end = \" \")"
   ]
  },
  {
   "cell_type": "markdown",
   "id": "be7d9a21-bfa8-4e93-9fe0-786361da03cf",
   "metadata": {},
   "source": [
    "### Q.9 Square Roots\n",
    "### Print the square of each number from 1 to 5 using a for loop."
   ]
  },
  {
   "cell_type": "code",
   "execution_count": 95,
   "id": "23c95894-de74-47c6-a9f4-f3942b2945d2",
   "metadata": {},
   "outputs": [
    {
     "name": "stdout",
     "output_type": "stream",
     "text": [
      "1 4 9 16 25 "
     ]
    }
   ],
   "source": [
    "for square_root in range(1,6):\n",
    "    print(square_root ** 2, end = \" \")"
   ]
  },
  {
   "cell_type": "markdown",
   "id": "5053f701-cc8a-4121-84b1-d47c38871f41",
   "metadata": {},
   "source": [
    "### Q.10 Sum Show\n",
    "### Use range() and a loop to add numbers from 1 to 10 and print the total.\n"
   ]
  },
  {
   "cell_type": "code",
   "execution_count": 104,
   "id": "ce033344-913f-402b-8c09-eef41bbf5e65",
   "metadata": {},
   "outputs": [
    {
     "name": "stdout",
     "output_type": "stream",
     "text": [
      "55\n"
     ]
    }
   ],
   "source": [
    "\n",
    "total = 0\n",
    "for add_numbers in range(1,11):\n",
    "    \n",
    "    total += add_numbers\n",
    "\n",
    "print(total)"
   ]
  },
  {
   "cell_type": "markdown",
   "id": "410d763f-807c-4c59-bf7d-f2f9c495e51c",
   "metadata": {},
   "source": [
    "### Q.11 Spelling Bee\n",
    "### Given a word from the user, print each letter on a new line using len() and range().\n"
   ]
  },
  {
   "cell_type": "code",
   "execution_count": 115,
   "id": "dc353bf6-f5cd-43fe-9cbc-e24d2a3988e3",
   "metadata": {},
   "outputs": [
    {
     "name": "stdin",
     "output_type": "stream",
     "text": [
      "Enter a word:  sudheer\n"
     ]
    },
    {
     "name": "stdout",
     "output_type": "stream",
     "text": [
      "s\n",
      "u\n",
      "d\n",
      "h\n",
      "e\n",
      "e\n",
      "r\n"
     ]
    }
   ],
   "source": [
    "user_input = input(\"Enter a word: \")\n",
    "\n",
    "for slipt_word in range(len(user_input)):\n",
    "    print(user_input[slipt_word])"
   ]
  },
  {
   "cell_type": "markdown",
   "id": "67dd8110-23ff-4506-a2d1-801f31089991",
   "metadata": {},
   "source": [
    "### Q.12 Countdown to Launch\n",
    "### Print a countdown from 5 to 1, followed by \"Lift Off!\".\n"
   ]
  },
  {
   "cell_type": "code",
   "execution_count": 128,
   "id": "39408273-8a5c-44ec-af0b-dcbc8d1b7589",
   "metadata": {},
   "outputs": [
    {
     "name": "stdout",
     "output_type": "stream",
     "text": [
      "5  - light off\n",
      "4  - light off\n",
      "3  - light off\n",
      "2  - light off\n",
      "1  - light off\n"
     ]
    }
   ],
   "source": [
    "for light_indicator in range(5,0,-1):\n",
    "    print(light_indicator,\" - light off\")"
   ]
  },
  {
   "cell_type": "markdown",
   "id": "5af83340-9a34-4612-a1a1-8ea00e01ba7a",
   "metadata": {},
   "source": [
    "### Q.13 Roll Call\n",
    "### Given a list of 5 student names, print them one by one using a loop."
   ]
  },
  {
   "cell_type": "code",
   "execution_count": 131,
   "id": "55575ea4-e4ab-43b9-b3d9-71f1e416b4ba",
   "metadata": {},
   "outputs": [
    {
     "name": "stdout",
     "output_type": "stream",
     "text": [
      "Sudheer\n",
      "Sai\n",
      "Nagesh\n",
      "Uday\n",
      "Jayavardhan\n"
     ]
    }
   ],
   "source": [
    "list_of_students = [\"Sudheer\", \"Sai\", \"Nagesh\", \"Uday\", \"Jayavardhan\"]\n",
    "for students in list_of_students:\n",
    "    print(students)"
   ]
  },
  {
   "cell_type": "markdown",
   "id": "718f9fd7-4514-4076-8a49-c6dd8866960f",
   "metadata": {},
   "source": [
    "### Q.14 Repeat After Me\n",
    "### Ask the user to enter a sentence and print it letter by letter.\n"
   ]
  },
  {
   "cell_type": "code",
   "execution_count": 136,
   "id": "23b14c3b-170d-4d1f-87ea-f83bb497365e",
   "metadata": {},
   "outputs": [
    {
     "name": "stdin",
     "output_type": "stream",
     "text": [
      "Enter something:  my self sudheeer kumar\n"
     ]
    },
    {
     "name": "stdout",
     "output_type": "stream",
     "text": [
      "m\n",
      "y\n",
      " \n",
      "s\n",
      "e\n",
      "l\n",
      "f\n",
      " \n",
      "s\n",
      "u\n",
      "d\n",
      "h\n",
      "e\n",
      "e\n",
      "e\n",
      "r\n",
      " \n",
      "k\n",
      "u\n",
      "m\n",
      "a\n",
      "r\n"
     ]
    }
   ],
   "source": [
    "user_sentence = input(\"Enter something: \")\n",
    "\n",
    "for split_sentence in range(len(user_sentence)):\n",
    "    print(user_sentence[split_sentence])"
   ]
  },
  {
   "cell_type": "code",
   "execution_count": null,
   "id": "f10e4e6c-b3df-4db3-addf-72abafcbe0de",
   "metadata": {},
   "outputs": [],
   "source": []
  }
 ],
 "metadata": {
  "kernelspec": {
   "display_name": "Python [conda env:base] *",
   "language": "python",
   "name": "conda-base-py"
  },
  "language_info": {
   "codemirror_mode": {
    "name": "ipython",
    "version": 3
   },
   "file_extension": ".py",
   "mimetype": "text/x-python",
   "name": "python",
   "nbconvert_exporter": "python",
   "pygments_lexer": "ipython3",
   "version": "3.12.7"
  }
 },
 "nbformat": 4,
 "nbformat_minor": 5
}
