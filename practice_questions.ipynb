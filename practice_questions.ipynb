{
 "cells": [
  {
   "cell_type": "markdown",
   "id": "929f08c9-afd2-42f0-a4d1-250415e21120",
   "metadata": {},
   "source": [
    "#### Q.1. Password Pattern\n",
    "#### password = \"P@ss1234\"\n",
    "#### Question:\n",
    "#### Check if the password:\n",
    "#### Starts with an uppercase letter\n",
    "#### Contains @\n",
    "#### Ends with a digit\n",
    "#### Print \"Strong\" if all true, \"Medium\" if two are true, otherwise \"Weak\".\n",
    "#### Hint: Use string slicing and in, isupper(), isdigit().\n"
   ]
  },
  {
   "cell_type": "code",
   "execution_count": 126,
   "id": "0cc6ffe7-9520-45a8-95ee-43d8f59339ba",
   "metadata": {},
   "outputs": [
    {
     "name": "stdout",
     "output_type": "stream",
     "text": [
      "P@ss1234 Your password is Strong\n"
     ]
    }
   ],
   "source": [
    "password = \"P@ss1234\"\n",
    "\n",
    "if len(password) >= 8:\n",
    "    if password[0].isupper():\n",
    "        if password[1] == '@':\n",
    "            if password[2:4].islower():\n",
    "                if password[4:8].isdigit():\n",
    "                    print(f\"{password} Your password is Strong\")\n",
    "                else:\n",
    "                    print(\"Your password should contains digits\")\n",
    "            else:\n",
    "                print(\"password should contain small letters\")\n",
    "        else:\n",
    "            print(\"Password is medium but password should contain second letter of the special character like '@' \")\n",
    "    else:\n",
    "        print(\"password at least starts with one uppercase-letter\")\n",
    "else:\n",
    "    print(\"password should contains atleast eight characters\")"
   ]
  },
  {
   "cell_type": "markdown",
   "id": "75daea15-f5b0-4c52-afd9-bafe6a1bf31d",
   "metadata": {},
   "source": [
    "#### Q.2 Nested List Type Check\n",
    "#### data = [[1, 2], [3, 4], 5]\n",
    "#### Question:\n",
    "#### Check if all elements are lists.\n",
    "#### If yes, print \"Fully Nested\"\n",
    "#### If only the first two are lists, print \"Partially Nested\"\n",
    "#### Else print \"Not Nested\".\n",
    "#### Hint: Use type() and indexing.\n"
   ]
  },
  {
   "cell_type": "code",
   "execution_count": null,
   "id": "247ee10c-fbad-4adf-bf7c-51b2e0743032",
   "metadata": {},
   "outputs": [],
   "source": []
  },
  {
   "cell_type": "markdown",
   "id": "e4a5e76d-7872-4744-85b6-39af00b5b6f2",
   "metadata": {},
   "source": [
    "#### Q.3. String Puzzle\n",
    "#### msg = \"Hi@2025\"\n",
    "#### Question:\n",
    "#### Check the following:\n",
    "#### If msg[0] is uppercase\n",
    "#### If length is 7\n",
    "#### If '@' is in the middle\n",
    "#### Then print \"Valid Code\", \"Almost Valid\", or \"Invalid\".\n",
    "#### Hint: Use len(), slicing, in, and isupper().\n"
   ]
  },
  {
   "cell_type": "code",
   "execution_count": 140,
   "id": "72c4113e-8de7-42d2-9236-1f258de82a27",
   "metadata": {},
   "outputs": [
    {
     "name": "stdout",
     "output_type": "stream",
     "text": [
      "Hi@2025 Successfully you entered is Valid Code\n"
     ]
    }
   ],
   "source": [
    "msg = \"Hi@2025\"\n",
    "\n",
    "if len(msg) >= 7:\n",
    "    if msg[0].isupper():\n",
    "        if '@' in msg:\n",
    "            if '2025' in msg:\n",
    "                print(f\"{msg} Successfully you entered is Valid Code\")\n",
    "            else:\n",
    "                print(\"message shoud contais digits\")\n",
    "        else:\n",
    "            print(\"Message contains atlease one special character\")\n",
    "    else:\n",
    "        print(\"message should starts with one uppercase_character\")\n",
    "else:\n",
    "    print(\"message should contains 7 characters\")"
   ]
  },
  {
   "cell_type": "markdown",
   "id": "ca647194-cb56-4a05-9bd1-8ab4f60576f2",
   "metadata": {},
   "source": [
    "#### Q.4 Three Conditions Challenge\n",
    "#### a, b, c = 10, 20, 30\n",
    "#### Question:\n",
    "#### If a < b and b < c, print \"Increasing\"\n",
    "#### If a > b and b > c, print \"Decreasing\"\n",
    "#### If all values are equal, print \"Constant\"\n",
    "#### Else print \"Mixed\"\n",
    "#### Hint: Use chained comparisons.\n"
   ]
  },
  {
   "cell_type": "code",
   "execution_count": 151,
   "id": "1f80f1d5-b7f2-4ebd-bcf0-31b9e2d0c93d",
   "metadata": {},
   "outputs": [
    {
     "name": "stdin",
     "output_type": "stream",
     "text": [
      "Enter your first value:  40\n",
      "Enter your second value:  30\n",
      "Enter your third value:  10\n"
     ]
    },
    {
     "name": "stdout",
     "output_type": "stream",
     "text": [
      "40,30,10 values are Decreasing\n"
     ]
    }
   ],
   "source": [
    "a = int(input(\"Enter your first value: \"))\n",
    "b = int(input(\"Enter your second value: \"))\n",
    "c = int(input(\"Enter your third value: \"))\n",
    "\n",
    "if a < b and b < c:\n",
    "    print(f\"{a},{b},{c} values are Increasing\")\n",
    "elif a > b and b > c:\n",
    "    print(f\"{a},{b},{c} values are Decreasing\")\n",
    "elif a == b == c:\n",
    "    print(f\"{a},{b},{c} values are Constant\")\n",
    "else:\n",
    "    print(\"Entered the value are Mixed\")"
   ]
  },
  {
   "cell_type": "markdown",
   "id": "e9b5e605-aba9-447e-8836-cb9fc9e61a45",
   "metadata": {},
   "source": [
    "#### Q.5 List Comparison\n",
    "#### x = [1, 2, 3]\n",
    "#### y = [1, 2, 3]\n",
    "#### Question:\n",
    "#### Compare x and y:\n",
    "#### If x == y and x is y, print \"Same Memory\"\n",
    "#### If only values are same, print \"Equal but Different\"\n",
    "#### Else print \"Different\"\n",
    "#### Hint: Use == and is.\n"
   ]
  },
  {
   "cell_type": "code",
   "execution_count": null,
   "id": "0a8dffce-0e6c-4c94-a400-b6d532205f9a",
   "metadata": {},
   "outputs": [],
   "source": []
  }
 ],
 "metadata": {
  "kernelspec": {
   "display_name": "Python [conda env:base] *",
   "language": "python",
   "name": "conda-base-py"
  },
  "language_info": {
   "codemirror_mode": {
    "name": "ipython",
    "version": 3
   },
   "file_extension": ".py",
   "mimetype": "text/x-python",
   "name": "python",
   "nbconvert_exporter": "python",
   "pygments_lexer": "ipython3",
   "version": "3.12.7"
  }
 },
 "nbformat": 4,
 "nbformat_minor": 5
}
