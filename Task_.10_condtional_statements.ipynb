{
 "cells": [
  {
   "cell_type": "markdown",
   "id": "1406a6a5-4f7e-4307-8c81-5186064671dd",
   "metadata": {},
   "source": [
    "#### Q.1 Check Positive Number\n",
    "#### Take a number and check if it's positive.\n",
    "#### Hint: Use if num > 0.\n"
   ]
  },
  {
   "cell_type": "code",
   "execution_count": 6,
   "id": "0603e0cd-58f3-42b9-9df7-15ecd5cc630e",
   "metadata": {},
   "outputs": [
    {
     "name": "stdin",
     "output_type": "stream",
     "text": [
      "Enter a number:  5\n"
     ]
    },
    {
     "name": "stdout",
     "output_type": "stream",
     "text": [
      "5 is positive\n"
     ]
    }
   ],
   "source": [
    "check_number = int(input(\"Enter a number: \"))\n",
    "if(check_number) > 0:\n",
    "    print(f\"{check_number} is positive\")"
   ]
  },
  {
   "cell_type": "markdown",
   "id": "a89c81d0-351b-48d6-a3d8-79176c5dd998",
   "metadata": {},
   "source": [
    "#### Q.2 Odd or Even Checker\n",
    "#### Check if a number is odd or even.\n",
    "#### Hint: Use num % 2 == 0.\n"
   ]
  },
  {
   "cell_type": "code",
   "execution_count": 9,
   "id": "6ab1d4e0-9154-4fc4-bdda-06ea6e9a4f33",
   "metadata": {},
   "outputs": [
    {
     "name": "stdin",
     "output_type": "stream",
     "text": [
      "Enter a number:  3\n"
     ]
    },
    {
     "name": "stdout",
     "output_type": "stream",
     "text": [
      "3 is Odd.\n"
     ]
    }
   ],
   "source": [
    "chec_num = int(input(\"Enter a number: \"))\n",
    "if(chec_num) % 2 == 0:\n",
    "    print(f\"{chec_num} is Even.\")\n",
    "else:\n",
    "    print(f\"{chec_num} is Odd.\")\n"
   ]
  },
  {
   "cell_type": "markdown",
   "id": "01f2350e-434f-4bf7-8305-fd74f59ff3ed",
   "metadata": {},
   "source": [
    "#### Q.3Find Greater of Two Numbers\n",
    "#### Compare two numbers and print which one is greater.\n",
    "#### Hint: Use if-else with >."
   ]
  },
  {
   "cell_type": "code",
   "execution_count": 21,
   "id": "2f493d0a-4e6c-4440-b992-1a3b51a8c443",
   "metadata": {},
   "outputs": [
    {
     "name": "stdin",
     "output_type": "stream",
     "text": [
      "Enter firs number:  5\n",
      "Enter second number:  6\n"
     ]
    },
    {
     "name": "stdout",
     "output_type": "stream",
     "text": [
      "6 is greater 5 \n"
     ]
    }
   ],
   "source": [
    "first_number = int(input(\"Enter firs number: \"))\n",
    "second_number = int(input(\"Enter second number: \"))\n",
    "if (first_number) > (second_number):\n",
    "    print(f\"{first_number} is greater than {second_number}\")\n",
    "else:\n",
    "    print(f\"{second_number} is greater {first_number} \")"
   ]
  },
  {
   "cell_type": "markdown",
   "id": "92ff728a-4c64-496f-bb71-677e51176c22",
   "metadata": {},
   "source": [
    "#### Q.4 Check if Number is Zero, Positive, or Negative\n",
    "#### Use if-elif-else to print the result.\n",
    "#### Hint: Use conditions == 0, < 0, > 0."
   ]
  },
  {
   "cell_type": "code",
   "execution_count": 34,
   "id": "ffa6da32-a090-47f7-a607-cda5aab4f0e4",
   "metadata": {},
   "outputs": [
    {
     "name": "stdin",
     "output_type": "stream",
     "text": [
      "Enter a number:  0\n"
     ]
    },
    {
     "name": "stdout",
     "output_type": "stream",
     "text": [
      "Entered the number is zero\n"
     ]
    }
   ],
   "source": [
    "number = int(input(\"Enter a number: \"))\n",
    "if number > 0:\n",
    "    print(f\"{number} is Positive\")\n",
    "elif number < 0:\n",
    "    print(f\"{number} is Negative\")\n",
    "else:\n",
    "    print(\"Entered the number is zero\")"
   ]
  },
  {
   "cell_type": "markdown",
   "id": "f5cb786e-54eb-4643-bc6e-7340d71cc9b3",
   "metadata": {},
   "source": [
    "#### Q.5 Check Divisibility by 3 and 5\n",
    "#### Print \"Divisible by both\" or \"Not divisible\".\n",
    "#### Hint: Use if num % 3 == 0 and num % 5 == 0."
   ]
  },
  {
   "cell_type": "code",
   "execution_count": 39,
   "id": "ecb4f80d-5f8e-48c2-b0d4-67ad7fafed9b",
   "metadata": {},
   "outputs": [
    {
     "name": "stdin",
     "output_type": "stream",
     "text": [
      "Enter a number:  9\n"
     ]
    },
    {
     "name": "stdout",
     "output_type": "stream",
     "text": [
      "9 is not divisible by 3 and 5\n"
     ]
    }
   ],
   "source": [
    "number = int(input(\"Enter a number: \"))\n",
    "if (number % 3 == 0) and (number % 5 == 0):\n",
    "    print(f\"{number} is divisible by both 3 and 5\")\n",
    "else:\n",
    "    print(f\"{number} is not divisible by 3 and 5\")"
   ]
  },
  {
   "cell_type": "markdown",
   "id": "298c9fc1-bc14-4658-b724-5813a5c65fab",
   "metadata": {},
   "source": [
    "#### Q.6 Grade Evaluator\n",
    "#### Given marks, print grade:\n",
    "#### 90+: A\n",
    "#### 75-89: B\n",
    "#### 50-74: C\n",
    "#### <50: Fail\n",
    "#### Hint: Use if-elif-else with >=, <."
   ]
  },
  {
   "cell_type": "code",
   "execution_count": 50,
   "id": "f7a348ea-3356-4c71-8aa4-9ce378a5035e",
   "metadata": {},
   "outputs": [
    {
     "name": "stdin",
     "output_type": "stream",
     "text": [
      "Enter your marks :  50\n"
     ]
    },
    {
     "name": "stdout",
     "output_type": "stream",
     "text": [
      "your grade is C\n"
     ]
    }
   ],
   "source": [
    "marks = int(input(\"Enter your marks : \"))\n",
    "if (marks) >= 90:\n",
    "    print(f\"your grade is A\")\n",
    "elif (marks) >= 75:\n",
    "    print(f\"your grade is B\")\n",
    "elif (marks) >= 50:\n",
    "    print(f\"your grade is C\")\n",
    "else:\n",
    "    print(\"You fail\")"
   ]
  },
  {
   "cell_type": "markdown",
   "id": "65733e82-3b45-4f53-ade1-5309c4118f67",
   "metadata": {},
   "source": [
    "#### Q.7 Check Character Case\n",
    "#### Input a character and check if it's uppercase or lowercase.\n",
    "#### Hint: Use .isupper() or ASCII comparisons."
   ]
  },
  {
   "cell_type": "code",
   "execution_count": 61,
   "id": "bbc2d301-dfd1-4963-b92d-1d812497cbfe",
   "metadata": {},
   "outputs": [
    {
     "name": "stdin",
     "output_type": "stream",
     "text": [
      "Enter your single character:  H\n"
     ]
    },
    {
     "name": "stdout",
     "output_type": "stream",
     "text": [
      "H is uppercase-character\n"
     ]
    }
   ],
   "source": [
    "check_char = input(\"Enter your single character: \")\n",
    "if check_char.isupper():\n",
    "    print(f\"{check_char} is uppercase-character\")\n",
    "else:\n",
    "    print(f\"{check_char} is lowercase-character\")"
   ]
  },
  {
   "cell_type": "markdown",
   "id": "b9b06d34-f1bf-450f-ae6a-675d2875110c",
   "metadata": {},
   "source": [
    "#### Q.8 Check if Number is 3-digit\n",
    "#### Check if a number has exactly 3 digits.\n",
    "#### Hint: Use num >= 100 and num <= 999."
   ]
  },
  {
   "cell_type": "code",
   "execution_count": 68,
   "id": "2b5fd0ff-e347-44e0-899a-3a710cd0325a",
   "metadata": {},
   "outputs": [
    {
     "name": "stdin",
     "output_type": "stream",
     "text": [
      "Enter a number:  456\n"
     ]
    },
    {
     "name": "stdout",
     "output_type": "stream",
     "text": [
      "456 has exactly 3 digits\n"
     ]
    }
   ],
   "source": [
    "is_three_digit = int(input(\"Enter a number: \"))\n",
    "if (is_three_digit >= 100) and (is_three_digit <= 999):\n",
    "    print(f\"{is_three_digit} has exactly 3 digits\")\n",
    "else:\n",
    "    print(f\"{is_three_digit} has not exactly 3 digits\")"
   ]
  },
  {
   "cell_type": "markdown",
   "id": "24edbe07-4222-4d7c-b8d3-0ba4b532662a",
   "metadata": {},
   "source": [
    "#### Q.9 Check Equality of Three Numbers\n",
    "#### Input 3 numbers and check if all are equal.\n",
    "#### Hint: Use a == b and b == c.\n"
   ]
  },
  {
   "cell_type": "code",
   "execution_count": 75,
   "id": "06c34324-3a90-42e9-9212-0a69fa6c68a5",
   "metadata": {},
   "outputs": [
    {
     "name": "stdin",
     "output_type": "stream",
     "text": [
      "Enter first numebr:  10\n",
      "Enter second number:  20\n",
      "Enter third number:  30\n"
     ]
    },
    {
     "name": "stdout",
     "output_type": "stream",
     "text": [
      "10,20,30 numbers are not equal\n"
     ]
    }
   ],
   "source": [
    "a = int(input(\"Enter first numebr: \"))\n",
    "b = int(input(\"Enter second number: \"))\n",
    "c = int(input(\"Enter third number: \"))\n",
    "if (a == b) and (b == c):\n",
    "    print(f\"{a},{b},{c} numbers are equal\")\n",
    "else:\n",
    "    print(f\"{a},{b},{c} numbers are not equal\")"
   ]
  },
  {
   "cell_type": "markdown",
   "id": "c5c74c5b-b40c-4e93-b032-3628e459044c",
   "metadata": {},
   "source": [
    "#### Q.10 Find Largest of Three Numbers\n",
    "#### Use if-elif-else to compare.\n",
    "#### Hint: Use logical conditions like a > b and a > c."
   ]
  },
  {
   "cell_type": "code",
   "execution_count": 82,
   "id": "ac28b08a-e062-4486-8820-14a4cf3daa0f",
   "metadata": {},
   "outputs": [
    {
     "name": "stdin",
     "output_type": "stream",
     "text": [
      "Enter first number:  10\n",
      "Enter second number:  20\n",
      "Enter third number:  30\n"
     ]
    },
    {
     "name": "stdout",
     "output_type": "stream",
     "text": [
      "30 is largest than 10 and 20\n"
     ]
    }
   ],
   "source": [
    "a = int(input(\"Enter first number: \"))\n",
    "b = int(input(\"Enter second number: \"))\n",
    "c = int(input(\"Enter third number: \"))\n",
    "\n",
    "if (a > b) and (a > c):\n",
    "    print(f\"{a} is largest than {b} and {c}\")\n",
    "elif (b > a) and (b > c):\n",
    "    print(f\"{b} is largest than {a} and {c}\")\n",
    "elif (c > a) and (c > a):\n",
    "    print(f\"{c} is largest than {a} and {b}\")\n",
    "else:\n",
    "    print(\"The given numbers are not valid\")"
   ]
  },
  {
   "cell_type": "markdown",
   "id": "23f423ae-ee48-4314-b772-8033b00fec22",
   "metadata": {},
   "source": [
    "#### 🔟 Nested if, if-else Questions\n"
   ]
  },
  {
   "cell_type": "markdown",
   "id": "7b243600-c883-4844-bebc-783aae728098",
   "metadata": {},
   "source": [
    "#### Q.11 Nested: Even and Divisible by 4\n",
    "#### Check if number is even, and then if it's divisible by 4.\n",
    "#### Hint: First check num % 2 == 0, then num % 4 == 0.\n"
   ]
  },
  {
   "cell_type": "code",
   "execution_count": 94,
   "id": "476dbf3f-a57c-44af-a8e4-cbfdd29635c5",
   "metadata": {},
   "outputs": [
    {
     "name": "stdin",
     "output_type": "stream",
     "text": [
      "Enter a number:  6\n"
     ]
    },
    {
     "name": "stdout",
     "output_type": "stream",
     "text": [
      "6 is even\n",
      "6 is not divisible by 4\n"
     ]
    }
   ],
   "source": [
    "num = int(input(\"Enter a number: \"))\n",
    "if num % 2 == 0:\n",
    "    print(f\"{num} is even\")\n",
    "    if num % 4== 0:\n",
    "        print(f\"{num} is divisible by 4\")\n",
    "    else:\n",
    "        print(f\"{num} is not divisible by 4\")\n",
    "else:\n",
    "    print(f\"{num} is not even\")"
   ]
  },
  {
   "cell_type": "markdown",
   "id": "1dbdc7a6-96db-4e1e-836e-887c6257276f",
   "metadata": {},
   "source": [
    "#### Q.12 Voting Eligibility and Age Group\n",
    "#### If age >= 18, check if it's < 60 (adult) or >=60 (senior).\n",
    "#### Hint: Use nested if-else with >=, <."
   ]
  },
  {
   "cell_type": "code",
   "execution_count": 99,
   "id": "85f1b6d4-63de-47a8-b3e2-6039d4480f4c",
   "metadata": {},
   "outputs": [
    {
     "name": "stdin",
     "output_type": "stream",
     "text": [
      "Enter your age:  18\n"
     ]
    },
    {
     "name": "stdout",
     "output_type": "stream",
     "text": [
      "you are eligible to vote\n",
      "you are adult person\n",
      "you are not senior person\n"
     ]
    }
   ],
   "source": [
    "Age = int(input(\"Enter your age: \"))\n",
    "if Age >= 18:\n",
    "    print(\"you are eligible to vote\")\n",
    "    if Age < 60:\n",
    "        print(\"you are adult person\")\n",
    "        if Age >= 60:\n",
    "            print(\"you are senior person\")\n",
    "        else:\n",
    "            print(\"you are not senior person\")\n",
    "    else:\n",
    "        print(\"you are not adult person\")\n",
    "else:\n",
    "    print(\"you are not eligible to vote\")"
   ]
  },
  {
   "cell_type": "markdown",
   "id": "da7c47e5-34bf-4b7f-8fe7-87d5a6dd0bca",
   "metadata": {},
   "source": [
    "#### Q.13 Check Number Range and Even/Odd\n",
    "#### If number is between 1-100, check if it's even or odd.\n",
    "#### Hint: First if num >= 1 and num <= 100, then check evenness."
   ]
  },
  {
   "cell_type": "code",
   "execution_count": 108,
   "id": "e24d0030-65da-48b6-a791-5ca9f6720c18",
   "metadata": {},
   "outputs": [
    {
     "name": "stdin",
     "output_type": "stream",
     "text": [
      "Enter a number:  50\n"
     ]
    },
    {
     "name": "stdout",
     "output_type": "stream",
     "text": [
      "50 is between 1 and 100\n",
      "50 is Even\n"
     ]
    }
   ],
   "source": [
    "number = int(input(\"Enter a number: \"))\n",
    "if number >= 1 and number <= 100:\n",
    "    print(f\"{number} is between 1 and 100\")\n",
    "    if number % 2 == 0:\n",
    "        print(f\"{number} is Even\")\n",
    "    else:\n",
    "        print(f\"{number} is odd\")\n",
    "else:\n",
    "    print(f\"{number} is not between 1 and 100\")"
   ]
  },
  {
   "cell_type": "markdown",
   "id": "d40a7fcf-ef8a-4a31-becb-639fe3e02b20",
   "metadata": {},
   "source": [
    "#### Q.14 Check if Number is a Multiple of 3 or 5 but Not Both\n",
    "#### Print accordingly.\n",
    "#### Hint: Use and, or, not"
   ]
  },
  {
   "cell_type": "markdown",
   "id": "f0dbd06a-4547-47fe-a912-6b49bffce15b",
   "metadata": {},
   "source": [
    "###### num = int(input(\"Enter a number: \"))\n",
    "if (num % 3 == 0) and (num % 5 == 0):\n",
    "    print(f\"{num} is multiple of 3 and 5\")\n",
    "    if (num % 3 == 0) or (num % 5 == 0):\n",
    "        print(f\"{num} is multiple of either 3 or 5\")\n",
    "    else:\n",
    "        print(\"number is not multiple of either 3 or 5\")\n",
    "else:\n",
    "    print(f\"{num} is not multiple of 3 and 5\")"
   ]
  },
  {
   "cell_type": "markdown",
   "id": "a22c0b4e-4846-4d18-a8c1-d071a27fa00d",
   "metadata": {},
   "source": [
    "#### Q.15 Grade with Distinction Check\n",
    "#### If marks >= 75, check if >= 90 for “Distinction”.\n",
    "#### Hint: Use nested if after first if marks >= 75."
   ]
  },
  {
   "cell_type": "code",
   "execution_count": 136,
   "id": "e965b088-521b-43c7-89a1-ea561b919bcd",
   "metadata": {},
   "outputs": [
    {
     "name": "stdin",
     "output_type": "stream",
     "text": [
      "Enter your marks:  95\n"
     ]
    },
    {
     "name": "stdout",
     "output_type": "stream",
     "text": [
      "B grade got a district level\n",
      "A grade got a district level as well as state level\n"
     ]
    }
   ],
   "source": [
    "marks = int(input(\"Enter your marks: \"))\n",
    "if marks >= 75:\n",
    "    print(\"B grade got a district level\")\n",
    "    if marks >= 90:\n",
    "        print(\"A grade got a district level as well as state level\")\n",
    "    else:\n",
    "        print(\"you are marks only district level not state level\")\n",
    "else:\n",
    "    print(\"You are marks doesn't contain any of the grade and distinction\")"
   ]
  },
  {
   "cell_type": "markdown",
   "id": "4833a2b1-32cf-40eb-83b5-5f9d20e9fc80",
   "metadata": {},
   "source": [
    "#### Q.16 Check Leap Year\n",
    "#### If year is divisible by 4, then check not divisible by 100 or divisible by 400.\n",
    "#### Hint: Classic nested condition using %."
   ]
  },
  {
   "cell_type": "code",
   "execution_count": 168,
   "id": "39b85458-d17a-4460-a63e-20e193488716",
   "metadata": {},
   "outputs": [
    {
     "name": "stdin",
     "output_type": "stream",
     "text": [
      "Enter a year:  2024\n"
     ]
    },
    {
     "name": "stdout",
     "output_type": "stream",
     "text": [
      "2024 is leap year\n"
     ]
    }
   ],
   "source": [
    "year = int(input(\"Enter a year: \"))\n",
    "if year % 4 == 0:\n",
    "    if year % 100 != 0 or year % 400 == 0:\n",
    "        print(f\"{year} is leap year\")\n",
    "    else:\n",
    "        print(\"given year is not a leap year\")\n",
    "else:\n",
    "    print(\"not a leap year\")"
   ]
  },
  {
   "cell_type": "markdown",
   "id": "282650c3-06fd-4880-bb7a-e78d18a403fa",
   "metadata": {},
   "source": [
    "#### Q.17 Category Based on Age and Gender\n",
    "#### If gender is 'F' and age < 18 → Girl, else Woman.\n",
    "#### If gender is 'M' and age < 18 → Boy, else Man.\n",
    "#### Hint: Use nested if inside a main if gender == 'F' / 'M'."
   ]
  },
  {
   "cell_type": "code",
   "execution_count": null,
   "id": "d18968f6-0b95-445d-8f58-4608d345ebe5",
   "metadata": {},
   "outputs": [],
   "source": []
  },
  {
   "cell_type": "markdown",
   "id": "c5a7f4ed-f99a-4541-a257-64a9167f55ec",
   "metadata": {},
   "source": [
    "#### Q.18 Check Character Type (Digit, Upper, Lower)\n",
    "#### Input a character and determine its type.\n",
    "#### Hint: Use .isdigit(), .isupper(), .islower()."
   ]
  },
  {
   "cell_type": "code",
   "execution_count": 204,
   "id": "25cb6832-a376-4856-9fa7-2e26998e5423",
   "metadata": {},
   "outputs": [
    {
     "name": "stdin",
     "output_type": "stream",
     "text": [
      "Enter character :  a\n"
     ]
    },
    {
     "name": "stdout",
     "output_type": "stream",
     "text": [
      "The given character is not digit\n"
     ]
    }
   ],
   "source": [
    "input_char = input(\"Enter character : \")\n",
    "if input_char.isdigit():\n",
    "    print(\"The given character is digit\")\n",
    "    if input_char.isupper():\n",
    "        print(\"The given character is upper\")\n",
    "        if input_char.islower():\n",
    "            print(\"The given characteri is lower\")\n",
    "        else:\n",
    "            print(\"The given character is not lower\")\n",
    "    else:\n",
    "        print(\"The given character is not upper\")\n",
    "else:\n",
    "    print(\"The given character is not digit\")"
   ]
  },
  {
   "cell_type": "markdown",
   "id": "8d22c742-b65d-400a-82f1-dd894f9dfa98",
   "metadata": {},
   "source": [
    "#### Q.19 Check if Triangle is Equilateral, Isosceles or Scalene\n",
    "#### Input 3 sides and print type.\n",
    "#### Hint: Use == checks like a == b == c, etc."
   ]
  },
  {
   "cell_type": "code",
   "execution_count": 200,
   "id": "2b806729-d4a3-4a03-a9f9-b07b2d0cc82c",
   "metadata": {},
   "outputs": [
    {
     "name": "stdin",
     "output_type": "stream",
     "text": [
      "Enter your first side value:  60\n",
      "Enter your second side vlaue:  60\n",
      "Enter your thrid side value:  30\n"
     ]
    },
    {
     "name": "stdout",
     "output_type": "stream",
     "text": [
      "The given valuesa are iscoceles\n"
     ]
    }
   ],
   "source": [
    "input1 = int(input(\"Enter your first side value: \"))\n",
    "input2 = int(input(\"Enter your second side vlaue: \"))\n",
    "input3 = int(input(\"Enter your thrid side value: \"))\n",
    "if input1 == input2 == input3 :\n",
    "    print(\"The given values are Equilateral\")\n",
    "elif input1 == input2 or input2 == input3 or input3 == input1:\n",
    "    print(\"The given valuesa are iscoceles\")\n",
    "else:\n",
    "    print(\"The given values are comes under Scalene\")"
   ]
  },
  {
   "cell_type": "code",
   "execution_count": null,
   "id": "2d03679e-8b11-4faf-b771-431744417550",
   "metadata": {},
   "outputs": [],
   "source": []
  }
 ],
 "metadata": {
  "kernelspec": {
   "display_name": "Python [conda env:base] *",
   "language": "python",
   "name": "conda-base-py"
  },
  "language_info": {
   "codemirror_mode": {
    "name": "ipython",
    "version": 3
   },
   "file_extension": ".py",
   "mimetype": "text/x-python",
   "name": "python",
   "nbconvert_exporter": "python",
   "pygments_lexer": "ipython3",
   "version": "3.12.7"
  }
 },
 "nbformat": 4,
 "nbformat_minor": 5
}
