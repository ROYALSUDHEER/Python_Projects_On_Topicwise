{
 "cells": [
  {
   "cell_type": "markdown",
   "id": "f319e5e6-bdea-4003-bfb3-f93bd2c1867d",
   "metadata": {},
   "source": [
    "## Q.1 How many characters are in the string \"Python3\"?\n"
   ]
  },
  {
   "cell_type": "code",
   "execution_count": 18,
   "id": "a49f299a-e467-42ba-82ad-a43efb2a5b17",
   "metadata": {},
   "outputs": [
    {
     "name": "stdout",
     "output_type": "stream",
     "text": [
      "7\n"
     ]
    }
   ],
   "source": [
    "word = \"Python3\"\n",
    "print(len(word))"
   ]
  },
  {
   "cell_type": "markdown",
   "id": "6b6d09f6-bd62-43fa-85b6-bd0cb5becd8e",
   "metadata": {},
   "source": [
    "## Q.2 If text = \" Hello World \", what does len(text) return?\n"
   ]
  },
  {
   "cell_type": "code",
   "execution_count": 23,
   "id": "54f9c362-8e58-4014-a176-545ae11c5a83",
   "metadata": {},
   "outputs": [
    {
     "name": "stdout",
     "output_type": "stream",
     "text": [
      "13\n"
     ]
    }
   ],
   "source": [
    "text = \" Hello World \"\n",
    "print(len(text))"
   ]
  },
  {
   "cell_type": "markdown",
   "id": "4f45dff1-31ff-481a-a465-f341c4e97688",
   "metadata": {},
   "source": [
    "-- 13 is the output of len(text)"
   ]
  },
  {
   "cell_type": "markdown",
   "id": "6025f52e-57b4-4bf2-85bc-ebebf52d8911",
   "metadata": {},
   "source": [
    "## Q.3 Count the length of \" \" (a space character). Is it 0?\n"
   ]
  },
  {
   "cell_type": "code",
   "execution_count": 32,
   "id": "e5fa042b-c8eb-484d-95fd-9858e4c450e0",
   "metadata": {},
   "outputs": [
    {
     "name": "stdout",
     "output_type": "stream",
     "text": [
      "1\n"
     ]
    }
   ],
   "source": [
    "space_count = \" \"\n",
    "print(len(space_count))"
   ]
  },
  {
   "cell_type": "markdown",
   "id": "1358eaa7-a588-451b-9be9-b1aa16615e74",
   "metadata": {},
   "source": [
    "-- no 1 is the len of \" \" "
   ]
  },
  {
   "cell_type": "markdown",
   "id": "49019d9e-25e2-47d6-946c-780b2439e55c",
   "metadata": {},
   "source": [
    "## Q.4 Convert \"Good Morning\" to uppercase. What do you get?"
   ]
  },
  {
   "cell_type": "code",
   "execution_count": 40,
   "id": "c6fd1b0d-70bc-4878-b008-b316728c1e55",
   "metadata": {},
   "outputs": [
    {
     "name": "stdout",
     "output_type": "stream",
     "text": [
      "GOOD MORNING\n"
     ]
    }
   ],
   "source": [
    "Wishes = \"Good Morning\"\n",
    "print(Wishes.upper())"
   ]
  },
  {
   "cell_type": "markdown",
   "id": "5227546d-4498-4f1b-b746-47e0b10c2948",
   "metadata": {},
   "source": [
    "-- All characters are convert it into uppercase"
   ]
  },
  {
   "cell_type": "markdown",
   "id": "ed5a8711-2bfb-47f8-8c5a-bedd0407c2fb",
   "metadata": {},
   "source": [
    "## Q.5 What is \"HELLO\".lower()?"
   ]
  },
  {
   "cell_type": "code",
   "execution_count": 44,
   "id": "9d89133e-e1a0-4dcb-b2af-a930465552b8",
   "metadata": {},
   "outputs": [
    {
     "name": "stdout",
     "output_type": "stream",
     "text": [
      "hello\n"
     ]
    }
   ],
   "source": [
    "print(\"HELLO\".lower())"
   ]
  },
  {
   "cell_type": "markdown",
   "id": "52f387ce-f7ed-40ec-b8f4-cc5b24a90b8b",
   "metadata": {},
   "source": [
    "-- Note :- all characters are convert it into small characters by using lower() method"
   ]
  },
  {
   "cell_type": "markdown",
   "id": "70d513f7-b2d5-456b-bb0a-ee65b6497fc8",
   "metadata": {},
   "source": [
    "## Q.6 If msg = \"PyThOn\", what will msg.upper() and msg.lower() return?"
   ]
  },
  {
   "cell_type": "code",
   "execution_count": 48,
   "id": "e1778dab-2d53-434a-b1ee-3aaa00e856e0",
   "metadata": {},
   "outputs": [
    {
     "name": "stdout",
     "output_type": "stream",
     "text": [
      "PYTHON\n",
      "python\n"
     ]
    }
   ],
   "source": [
    "msg = \"PyThOn\"\n",
    "print(msg.upper())\n",
    "print(msg.lower())"
   ]
  },
  {
   "cell_type": "markdown",
   "id": "4f28ced0-c6ff-4c60-94ab-202cd37d13c3",
   "metadata": {},
   "source": [
    "- msg.upper() method is getting the all characters are converted it into upper\n",
    "- msg.lower() method is getting the all characters are converted it into lower`"
   ]
  },
  {
   "cell_type": "markdown",
   "id": "ef11b8af-8105-4a7f-8a3a-73d64796484a",
   "metadata": {},
   "source": [
    "## Q.7 What happens if you use .upper() on \"123abc!\"?"
   ]
  },
  {
   "cell_type": "code",
   "execution_count": 55,
   "id": "fa438ee4-b569-44ab-add7-f8e11b6c5312",
   "metadata": {},
   "outputs": [
    {
     "name": "stdout",
     "output_type": "stream",
     "text": [
      "123ABC!\n"
     ]
    }
   ],
   "source": [
    "string_number = \"123abc!\"\n",
    "print(string_number.upper())"
   ]
  },
  {
   "cell_type": "markdown",
   "id": "a6129d9d-b7d6-46b8-a3f9-87962e6057ba",
   "metadata": {},
   "source": [
    "-- All small alphabetic characters are converted it into uppercase"
   ]
  },
  {
   "cell_type": "markdown",
   "id": "d93c42b5-c06c-4054-a355-835b4a4d35f8",
   "metadata": {},
   "source": [
    "## Q.8 What does \"hello world\".capitalize() return?"
   ]
  },
  {
   "cell_type": "code",
   "execution_count": 59,
   "id": "80e3a918-889c-4cd8-b847-12a75d584628",
   "metadata": {},
   "outputs": [
    {
     "name": "stdout",
     "output_type": "stream",
     "text": [
      "Hello world\n"
     ]
    }
   ],
   "source": [
    "print(\"hello world\".capitalize())"
   ]
  },
  {
   "cell_type": "markdown",
   "id": "05e3e026-e0a2-4de1-81b4-c4d7602282ce",
   "metadata": {},
   "source": [
    "-- staring of the letter converted it into capital and the rest of the characters are small"
   ]
  },
  {
   "cell_type": "markdown",
   "id": "f664dece-7091-4a61-947f-d3fa07316d75",
   "metadata": {},
   "source": [
    "## Q.9 Convert \"hello world from python\" to title case."
   ]
  },
  {
   "cell_type": "code",
   "execution_count": 63,
   "id": "fb12f275-8368-4542-8017-56ec7d81c197",
   "metadata": {},
   "outputs": [
    {
     "name": "stdout",
     "output_type": "stream",
     "text": [
      "Hello World From Python\n"
     ]
    }
   ],
   "source": [
    "Sentence = \"hello world from python\"\n",
    "print(Sentence.title())"
   ]
  },
  {
   "cell_type": "markdown",
   "id": "00760423-008d-48eb-b5dd-0de3fae8e13d",
   "metadata": {},
   "source": [
    "## Q.10 Will \"JAVA\".capitalize() return \"Java\" or \"JAVA\"?"
   ]
  },
  {
   "cell_type": "code",
   "execution_count": 66,
   "id": "b45a892c-d971-4b30-b2b1-ada0826a8363",
   "metadata": {},
   "outputs": [
    {
     "name": "stdout",
     "output_type": "stream",
     "text": [
      "Java\n"
     ]
    }
   ],
   "source": [
    "word = \"JAVA\"\n",
    "print(word.capitalize())"
   ]
  },
  {
   "cell_type": "markdown",
   "id": "06ad9fa5-65d2-494b-b41c-1a13cd921bb9",
   "metadata": {},
   "source": [
    "-- It returns \"Java\""
   ]
  },
  {
   "cell_type": "markdown",
   "id": "8f684436-beaa-4135-b22b-d1415e65be72",
   "metadata": {},
   "source": [
    "## Q.11 What’s the difference between \"hello world\".title() and \"hello world\".capitalize()?"
   ]
  },
  {
   "cell_type": "code",
   "execution_count": 70,
   "id": "df721168-4aac-4b46-89c0-1d125cc48aac",
   "metadata": {},
   "outputs": [
    {
     "name": "stdout",
     "output_type": "stream",
     "text": [
      "Hello World\n",
      "Hello world\n"
     ]
    }
   ],
   "source": [
    "print(\"hello world\".title())\n",
    "print(\"hello world\".capitalize())"
   ]
  },
  {
   "cell_type": "markdown",
   "id": "c9ba8a5f-02f7-42f1-8c19-2733ce751872",
   "metadata": {},
   "source": [
    "- \"hello world\".title() it returns every starting word of the characters convert it into capital\n",
    "- \"hello world\".capitalize() it returns starting of the characters convert it into capital and the rest of the characters are small"
   ]
  },
  {
   "cell_type": "markdown",
   "id": "a33b834e-1651-40b3-b9aa-adf88751699d",
   "metadata": {},
   "source": [
    "## Q.12 Count how many 'o' are in \"hello, world!\"."
   ]
  },
  {
   "cell_type": "code",
   "execution_count": 82,
   "id": "d26ee7a0-ad27-4b7c-8b16-bb4d36bbfc3f",
   "metadata": {},
   "outputs": [
    {
     "name": "stdout",
     "output_type": "stream",
     "text": [
      "2\n"
     ]
    }
   ],
   "source": [
    "string_word = \"hello, world!\"\n",
    "print(string_word.count('o'))"
   ]
  },
  {
   "cell_type": "markdown",
   "id": "257f5cb9-9244-4025-8cb7-a7a890c69bdb",
   "metadata": {},
   "source": [
    "-- 2 '0' characters are there in \"hello, world!\" word"
   ]
  },
  {
   "cell_type": "markdown",
   "id": "86dbf8c6-9aeb-4875-98db-331724a86fbc",
   "metadata": {},
   "source": [
    "## Q.13 Given quote = \"Practice makes perfect\", how many times does 'p' appear?\n"
   ]
  },
  {
   "cell_type": "code",
   "execution_count": 88,
   "id": "d529fbe2-9eed-4e01-813a-d608bfc65551",
   "metadata": {},
   "outputs": [
    {
     "name": "stdout",
     "output_type": "stream",
     "text": [
      "1\n"
     ]
    }
   ],
   "source": [
    "quote = \"Practice makes perfect\"\n",
    "print(quote.count('p'))"
   ]
  },
  {
   "cell_type": "markdown",
   "id": "058bf57d-b8cd-40cd-9cb0-5a2f8cf3d94b",
   "metadata": {},
   "source": [
    "-- only 1 'p' is appear in \"Practice makes perfect\""
   ]
  },
  {
   "cell_type": "markdown",
   "id": "206de2d8-ddf8-481b-b875-61d5056f0f87",
   "metadata": {},
   "source": [
    "## Q.14 What is \"Mississippi\".count('s')?"
   ]
  },
  {
   "cell_type": "code",
   "execution_count": 94,
   "id": "cfc06e7b-f3db-4a40-aca5-9a661bd54256",
   "metadata": {},
   "outputs": [
    {
     "name": "stdout",
     "output_type": "stream",
     "text": [
      "4\n"
     ]
    }
   ],
   "source": [
    "print(\"Mississippi\".count('s'))"
   ]
  },
  {
   "cell_type": "markdown",
   "id": "e8db5781-5bb3-471f-9bdd-ad3d7e371ecf",
   "metadata": {},
   "source": [
    "-- 4 's' are repeated in \"Mississippi\" word "
   ]
  },
  {
   "cell_type": "markdown",
   "id": "4e88c290-c91a-4700-8634-e40fbaa56e19",
   "metadata": {},
   "source": [
    "## Q.15 What does \"banana\".count(\"na\") return?"
   ]
  },
  {
   "cell_type": "code",
   "execution_count": 98,
   "id": "897436bc-d1d0-40bb-b9a6-f87be3b4b972",
   "metadata": {},
   "outputs": [
    {
     "name": "stdout",
     "output_type": "stream",
     "text": [
      "2\n"
     ]
    }
   ],
   "source": [
    "print(\"banana\".count(\"na\"))"
   ]
  },
  {
   "cell_type": "markdown",
   "id": "b0f28f86-e43f-4200-abad-e2a8b4407511",
   "metadata": {},
   "source": [
    "-- 2 \"na\" are repeated in \"banana\" "
   ]
  },
  {
   "cell_type": "markdown",
   "id": "640c1143-d3d4-47c2-8198-13213342aa25",
   "metadata": {},
   "source": [
    "## Q.16 What is the position of 'e' in \"elephant\" using .find()?"
   ]
  },
  {
   "cell_type": "code",
   "execution_count": 102,
   "id": "dfc89665-ce2c-436b-a73a-ea964b23b579",
   "metadata": {},
   "outputs": [
    {
     "name": "stdout",
     "output_type": "stream",
     "text": [
      "0\n"
     ]
    }
   ],
   "source": [
    "animal = \"elephant\"\n",
    "print(animal.find(\"e\"))"
   ]
  },
  {
   "cell_type": "markdown",
   "id": "6ace90ac-e320-444d-ac1d-8ff833cfb7b9",
   "metadata": {},
   "source": [
    "-- 0 is the position of 'e' in elephant "
   ]
  },
  {
   "cell_type": "markdown",
   "id": "da8b4e21-534b-4252-a64c-2293ec0c9db2",
   "metadata": {},
   "source": [
    "## Q.17 Use .find() to locate 'z' in \"puzzle\" — what index is returned?"
   ]
  },
  {
   "cell_type": "code",
   "execution_count": 106,
   "id": "e22dd6c6-5db3-4035-9717-501302bf1014",
   "metadata": {},
   "outputs": [
    {
     "name": "stdout",
     "output_type": "stream",
     "text": [
      "2\n"
     ]
    }
   ],
   "source": [
    "word = \"puzzle\"\n",
    "print(word.find(\"z\"))"
   ]
  },
  {
   "cell_type": "markdown",
   "id": "1d49dd26-90a5-4307-ac70-cab55625e310",
   "metadata": {},
   "source": [
    "-- 2 is the index of \"z\" in \"puzzle\""
   ]
  },
  {
   "cell_type": "markdown",
   "id": "ac15a664-4029-4f41-a87b-e2843de773d4",
   "metadata": {},
   "source": [
    "## Q.18 What happens if .find() doesn’t find the character?"
   ]
  },
  {
   "cell_type": "markdown",
   "id": "afd271e8-8d8e-47b0-80ec-0c3d0dc7808f",
   "metadata": {},
   "source": [
    "- actully by using .find() method it returns the position of each characters. \n",
    "- if .find() method doesn't find the character it will return -1 value"
   ]
  },
  {
   "cell_type": "markdown",
   "id": "7a0e2164-af2a-498c-9c8a-7571d52fb8fc",
   "metadata": {},
   "source": [
    "## Q.19 How does index() behave differently from find() when the item isn’t found?\n"
   ]
  },
  {
   "cell_type": "markdown",
   "id": "101c1f39-5a10-4e77-bbd1-6943f9175f2f",
   "metadata": {},
   "source": [
    "- while using index() method if the item isn't found it will throws an error which is \"Substring is not found\".\n",
    "- while using find() method if the item isn't found it doesn't throw an error but it will return -1 value"
   ]
  },
  {
   "cell_type": "markdown",
   "id": "13494bf5-d458-4dd8-8bc0-1b8407ed65c4",
   "metadata": {},
   "source": [
    "## Q.20 What does \"hello\".index(\"e\") return?"
   ]
  },
  {
   "cell_type": "code",
   "execution_count": 126,
   "id": "746acc02-461d-46ea-8f13-d81ee5ae61c1",
   "metadata": {},
   "outputs": [
    {
     "name": "stdout",
     "output_type": "stream",
     "text": [
      "1\n"
     ]
    }
   ],
   "source": [
    "print(\"hello\".index(\"e\"))"
   ]
  },
  {
   "cell_type": "markdown",
   "id": "727d24ab-437f-44ec-9bd6-cf9c16daeb9e",
   "metadata": {},
   "source": [
    "-- 1 is the index position of \"e\" in the given word "
   ]
  },
  {
   "cell_type": "markdown",
   "id": "55a5da4a-02c3-4600-be13-99e979380728",
   "metadata": {},
   "source": [
    "## Q.21 Combine \"Hello\" and \"World\" into \"HelloWorld\"."
   ]
  },
  {
   "cell_type": "code",
   "execution_count": 132,
   "id": "1fb8a97c-6deb-475f-87cf-eaa69c687059",
   "metadata": {},
   "outputs": [
    {
     "name": "stdout",
     "output_type": "stream",
     "text": [
      "HelloWorld\n"
     ]
    }
   ],
   "source": [
    "str1 = \"Hello\"\n",
    "str2 = \"World\"\n",
    "str3 = str1 + str2\n",
    "print(str3)"
   ]
  },
  {
   "cell_type": "markdown",
   "id": "f5d32186-f3e7-43f9-a728-9747ba45cff2",
   "metadata": {},
   "source": [
    "## Q.22 Use + to add \"Hi, \" and \"Alice\" together."
   ]
  },
  {
   "cell_type": "code",
   "execution_count": 135,
   "id": "93efedfd-9cc3-4949-8a00-60f195989794",
   "metadata": {},
   "outputs": [
    {
     "name": "stdout",
     "output_type": "stream",
     "text": [
      "Hi, Alice\n"
     ]
    }
   ],
   "source": [
    "print(\"Hi, \" + \"Alice\")"
   ]
  },
  {
   "cell_type": "markdown",
   "id": "24f33104-6c8c-48d0-83e7-a0c2e0bac5e6",
   "metadata": {},
   "source": [
    "## Q.23 What is the result of \"Age: \" + str(25)?"
   ]
  },
  {
   "cell_type": "code",
   "execution_count": 138,
   "id": "2d860985-4a92-4b32-9617-d8fb2bda0827",
   "metadata": {},
   "outputs": [
    {
     "name": "stdout",
     "output_type": "stream",
     "text": [
      "Age: 25\n"
     ]
    }
   ],
   "source": [
    "print(\"Age: \" + str(25))"
   ]
  },
  {
   "cell_type": "markdown",
   "id": "b3ec678c-c28b-43d0-88a8-1e96c0788c6a",
   "metadata": {},
   "source": [
    "## Q.24 Can you concatenate \"abc\" and \"123\" to form \"abc123\"?"
   ]
  },
  {
   "cell_type": "code",
   "execution_count": 147,
   "id": "40b29424-5b38-4a00-81a1-7071fab39aab",
   "metadata": {},
   "outputs": [
    {
     "name": "stdout",
     "output_type": "stream",
     "text": [
      "1abc2abc3\n"
     ]
    }
   ],
   "source": [
    "str1 = \"abc\"\n",
    "str2 = \"123\"\n",
    "print(str1.join(str2))"
   ]
  },
  {
   "cell_type": "markdown",
   "id": "1c039c95-02d9-4dc3-ba6a-7a4014fd0d3c",
   "metadata": {},
   "source": [
    "-- No we can't concatenate \"abc\" and \"123\" to form \"abc123\""
   ]
  },
  {
   "cell_type": "markdown",
   "id": "eec929c8-1bd6-4cd6-b19c-61f17641c275",
   "metadata": {},
   "source": [
    "## Q.25 Replace \"dog\" with \"cat\" in \"The dog barks.\"."
   ]
  },
  {
   "cell_type": "code",
   "execution_count": 151,
   "id": "dbd3ccf8-c22a-4985-aa9b-3b48b82b6001",
   "metadata": {},
   "outputs": [
    {
     "name": "stdout",
     "output_type": "stream",
     "text": [
      "The cat barks.\n"
     ]
    }
   ],
   "source": [
    "Stc1 = \"The dog barks.\"\n",
    "print(Stc1.replace(\"dog\",\"cat\"))"
   ]
  },
  {
   "cell_type": "markdown",
   "id": "b66bdccc-d920-4c1d-8457-e629409e16fb",
   "metadata": {},
   "source": [
    "## Q.26 Given msg = \"rain rain go away\", replace 'rain' with 'sun'."
   ]
  },
  {
   "cell_type": "code",
   "execution_count": 154,
   "id": "fc04f74f-28f1-47f3-aafe-06b865c189cf",
   "metadata": {},
   "outputs": [
    {
     "name": "stdout",
     "output_type": "stream",
     "text": [
      "sun sun go away\n"
     ]
    }
   ],
   "source": [
    "msg = \"rain rain go away\"\n",
    "print(msg.replace(\"rain\", \"sun\"))"
   ]
  },
  {
   "cell_type": "markdown",
   "id": "0aa9a46d-3da2-4bd6-b62b-ef6f5f41d711",
   "metadata": {},
   "source": [
    "## Q.27 What happens when you replace 'a' with '@' in \"banana\"?"
   ]
  },
  {
   "cell_type": "code",
   "execution_count": 157,
   "id": "5d4608ab-ec12-4002-b8da-6e244af916b9",
   "metadata": {},
   "outputs": [
    {
     "name": "stdout",
     "output_type": "stream",
     "text": [
      "b@n@n@\n"
     ]
    }
   ],
   "source": [
    "fruit = \"banana\"\n",
    "print(fruit.replace(\"a\",\"@\"))"
   ]
  },
  {
   "cell_type": "markdown",
   "id": "36c373f6-a28e-4d7a-a5ea-8fcefb0e916b",
   "metadata": {},
   "source": [
    "## Q.28 How do you replace spaces with hyphens in \"join the party\"?"
   ]
  },
  {
   "cell_type": "code",
   "execution_count": 160,
   "id": "8655daf2-899f-4c32-971c-a74b24bbf9cc",
   "metadata": {},
   "outputs": [
    {
     "name": "stdout",
     "output_type": "stream",
     "text": [
      "Join-the-party\n"
     ]
    }
   ],
   "source": [
    "stc1 = \"Join the party\"\n",
    "print(stc1.replace(\" \", \"-\"))"
   ]
  },
  {
   "cell_type": "markdown",
   "id": "a9c1b92a-794d-4b34-a9e4-a2ae067a70d2",
   "metadata": {},
   "source": [
    "## Q.29 What does \" hello \".strip() return?"
   ]
  },
  {
   "cell_type": "code",
   "execution_count": 163,
   "id": "6c8b87c8-4479-4299-b9e5-cc44fd9a6428",
   "metadata": {},
   "outputs": [
    {
     "name": "stdout",
     "output_type": "stream",
     "text": [
      "hello\n"
     ]
    }
   ],
   "source": [
    "print(\" hello \".strip())"
   ]
  },
  {
   "cell_type": "markdown",
   "id": "aba57d60-e7af-4ad5-ae82-2acfbf6b8ab3",
   "metadata": {},
   "source": [
    "-- while using .strip() method it will remove the white spaces before starting of the word and ending of the word"
   ]
  },
  {
   "cell_type": "markdown",
   "id": "f3268a8b-3075-481e-841a-f2ada5722e95",
   "metadata": {},
   "source": [
    "## Q.30 Remove # from both ends of \"###Welcome###\" using strip()."
   ]
  },
  {
   "cell_type": "code",
   "execution_count": 168,
   "id": "edaa36d0-1257-456d-a2cd-dcb99a43aa5e",
   "metadata": {},
   "outputs": [
    {
     "name": "stdout",
     "output_type": "stream",
     "text": [
      "Welcome\n"
     ]
    }
   ],
   "source": [
    "str1 = \"###Welcome###\"\n",
    "print(str1.strip(\"#\"))"
   ]
  },
  {
   "cell_type": "markdown",
   "id": "693f7949-5d79-442f-afdb-52f2e99cfa58",
   "metadata": {},
   "source": [
    "## Q.31 Does strip() remove characters from the middle of a string?"
   ]
  },
  {
   "cell_type": "markdown",
   "id": "280c71fb-74ea-4d1f-99c2-e9465e17e229",
   "metadata": {},
   "source": [
    "-- No strip() method it doesn't remove middle of the characters from a string "
   ]
  },
  {
   "cell_type": "markdown",
   "id": "4cb0cf88-6add-47ac-8cb9-350f669c6a35",
   "metadata": {},
   "source": [
    "## Q.32 How do you remove only the trailing spaces from \"Hello \"?"
   ]
  },
  {
   "cell_type": "code",
   "execution_count": 174,
   "id": "8f63523c-eaa7-46f9-8df0-2cca70bcbb10",
   "metadata": {},
   "outputs": [
    {
     "name": "stdout",
     "output_type": "stream",
     "text": [
      "Hello\n"
     ]
    }
   ],
   "source": [
    "word = \"Hello \"\n",
    "print(word.rstrip())"
   ]
  },
  {
   "cell_type": "markdown",
   "id": "fce436b7-7575-4f74-91c1-36a825bb65c9",
   "metadata": {},
   "source": [
    "-- By using .rstrip() method we can remove trailing spaces from the end of the word "
   ]
  },
  {
   "cell_type": "markdown",
   "id": "3e93e927-60ed-4d7d-83b3-f582859e1d93",
   "metadata": {},
   "source": [
    "## Q.33 Use .format() to insert \"Alice\" into \"Hello, {}!\"."
   ]
  },
  {
   "cell_type": "code",
   "execution_count": 178,
   "id": "e4c740a9-fc49-457c-a3dc-547d8bc36e69",
   "metadata": {},
   "outputs": [
    {
     "name": "stdout",
     "output_type": "stream",
     "text": [
      "hello,Alice!\n"
     ]
    }
   ],
   "source": [
    "word = \"hello,{}!\"\n",
    "print(word.format(\"Alice\"))"
   ]
  },
  {
   "cell_type": "markdown",
   "id": "878c4c05-97e4-4228-8a15-f18ab829629c",
   "metadata": {},
   "source": [
    "## Q.34 What is \"{} scored {} marks\".format(\"John\", 95)?"
   ]
  },
  {
   "cell_type": "code",
   "execution_count": 184,
   "id": "88a41f77-ce96-44b1-a71c-1779c12e56c0",
   "metadata": {},
   "outputs": [
    {
     "name": "stdout",
     "output_type": "stream",
     "text": [
      "John scored 95 marks\n"
     ]
    }
   ],
   "source": [
    "print(\"{} scored {} marks\".format(\"John\", 95))"
   ]
  },
  {
   "cell_type": "markdown",
   "id": "a04b74d2-7655-4309-936a-597e526aae33",
   "metadata": {},
   "source": [
    "## Q.35 Fill in two blanks in \"{} is {} years old\" with \"Bob\" and 30."
   ]
  },
  {
   "cell_type": "code",
   "execution_count": 187,
   "id": "dad07d3d-947b-446c-8b6f-6d83eb9bf1a7",
   "metadata": {},
   "outputs": [
    {
     "name": "stdout",
     "output_type": "stream",
     "text": [
      "Bob is 30 years old\n"
     ]
    }
   ],
   "source": [
    "sentence1 = \"{} is {} years old\"\n",
    "print(sentence1.format(\"Bob\",30))"
   ]
  },
  {
   "cell_type": "markdown",
   "id": "0ac2393d-2889-41a1-bf0e-aa9ba10bcc83",
   "metadata": {},
   "source": [
    "## Q.36 Can you use numbers with placeholders? Try \"{}+{}={}\".format(2, 3, 5)."
   ]
  },
  {
   "cell_type": "code",
   "execution_count": 194,
   "id": "e997b117-d2e6-4bd2-9feb-6af1862bb364",
   "metadata": {},
   "outputs": [
    {
     "name": "stdout",
     "output_type": "stream",
     "text": [
      "2+3=5\n"
     ]
    }
   ],
   "source": [
    "S_word = \"{}+{}={}\"\n",
    "print(S_word.format(2,3,5))"
   ]
  },
  {
   "cell_type": "markdown",
   "id": "1565747d-65a5-4dbf-a262-fedd70bf7c03",
   "metadata": {},
   "source": [
    "-- Yes we can use numbers with placeholders"
   ]
  },
  {
   "cell_type": "markdown",
   "id": "28bb3a6e-2767-4154-ae75-7f50effb91f7",
   "metadata": {},
   "source": [
    "## Q.37 What does \"apple,banana,grape\".split(\",\") return?"
   ]
  },
  {
   "cell_type": "code",
   "execution_count": 199,
   "id": "e57ac894-13b7-4738-9dd4-c750b3f8c3e2",
   "metadata": {},
   "outputs": [
    {
     "name": "stdout",
     "output_type": "stream",
     "text": [
      "['apple', 'banana', 'grape']\n"
     ]
    }
   ],
   "source": [
    "print(\"apple,banana,grape\".split(\",\"))"
   ]
  },
  {
   "cell_type": "markdown",
   "id": "b94599da-d76b-43b1-999b-bdcdec29db7b",
   "metadata": {},
   "source": [
    "## Q.38 How many parts do you get from \"one two three\".split()?"
   ]
  },
  {
   "cell_type": "code",
   "execution_count": 202,
   "id": "10124186-29f5-4f44-9806-6a95c0769872",
   "metadata": {},
   "outputs": [
    {
     "name": "stdout",
     "output_type": "stream",
     "text": [
      "['one', 'two', 'three']\n"
     ]
    }
   ],
   "source": [
    "print(\"one two three\".split())"
   ]
  },
  {
   "cell_type": "markdown",
   "id": "dc88f5d1-1331-4e87-a4ae-d40507e7c694",
   "metadata": {},
   "source": [
    "-- getting the three parts from \"one two three\""
   ]
  },
  {
   "cell_type": "markdown",
   "id": "b473f676-e84a-4e46-a6ca-9234c596c1b7",
   "metadata": {},
   "source": [
    "## Q.39 Use split(\"-\") on \"2025-05-16\". What do you get?"
   ]
  },
  {
   "cell_type": "code",
   "execution_count": 206,
   "id": "e5c756aa-f047-40a9-89eb-5360e0b8b7ee",
   "metadata": {},
   "outputs": [
    {
     "name": "stdout",
     "output_type": "stream",
     "text": [
      "['2025', '05', '16']\n"
     ]
    }
   ],
   "source": [
    "print(\"2025-05-16\".split(\"-\"))"
   ]
  },
  {
   "cell_type": "markdown",
   "id": "88199bd4-c9be-4213-8ccc-a80cdb7fbc20",
   "metadata": {},
   "source": [
    "-- getting three individual parts from the given date"
   ]
  },
  {
   "cell_type": "markdown",
   "id": "42643044-cf03-48df-9896-8e08cbcc15a0",
   "metadata": {},
   "source": [
    "## Q.40 Can you split \"hello\" using a space as a separator?"
   ]
  },
  {
   "cell_type": "code",
   "execution_count": 210,
   "id": "03f03ac6-428d-4e9c-8849-c14d3774834d",
   "metadata": {},
   "outputs": [
    {
     "name": "stdout",
     "output_type": "stream",
     "text": [
      "['hello']\n"
     ]
    }
   ],
   "source": [
    "print(\"hello\".split(\" \"))"
   ]
  },
  {
   "cell_type": "markdown",
   "id": "4858f463-599a-4029-8510-5ef49b9c7197",
   "metadata": {},
   "source": [
    "-- No"
   ]
  },
  {
   "cell_type": "markdown",
   "id": "c33e1abb-6d3c-4eb4-88a3-fad21f2186eb",
   "metadata": {},
   "source": [
    "## Q.41 Take \" python \" and return \"PYTHON\" with whitespace removed ?"
   ]
  },
  {
   "cell_type": "code",
   "execution_count": 216,
   "id": "d489270d-6f46-4b07-93b6-1a236fb40f99",
   "metadata": {},
   "outputs": [
    {
     "name": "stdout",
     "output_type": "stream",
     "text": [
      "PYTHON\n"
     ]
    }
   ],
   "source": [
    "str = \" python \"\n",
    "str1 = str.strip()\n",
    "str2 = str1.upper()\n",
    "print(str2)"
   ]
  },
  {
   "cell_type": "markdown",
   "id": "418c98b3-1e85-44ac-9df5-7e05fae3e28f",
   "metadata": {},
   "source": [
    "## Q.42 Format and print \"Score: 100\" using .format() ?"
   ]
  },
  {
   "cell_type": "code",
   "execution_count": 223,
   "id": "3961adf6-8985-4099-b200-48c942c71ffe",
   "metadata": {},
   "outputs": [
    {
     "name": "stdout",
     "output_type": "stream",
     "text": [
      "Score: 100\n"
     ]
    }
   ],
   "source": [
    "str = \"Score: {}\"\n",
    "print(str.format(100))"
   ]
  },
  {
   "cell_type": "markdown",
   "id": "61f1f7e3-7709-40a0-969d-1bb55974fc43",
   "metadata": {},
   "source": [
    "## Q.43 Convert \"python is fun\" to \"Python Is Fun\" using any method."
   ]
  },
  {
   "cell_type": "code",
   "execution_count": 226,
   "id": "4f72c2a0-d09c-456e-b276-7bf237bcb964",
   "metadata": {},
   "outputs": [
    {
     "name": "stdout",
     "output_type": "stream",
     "text": [
      "Python Is Fun\n"
     ]
    }
   ],
   "source": [
    "Given_word = \"python is fun\"\n",
    "converted_word = Given_word.title()\n",
    "print(converted_word)"
   ]
  },
  {
   "cell_type": "markdown",
   "id": "12cb50e4-e191-47b6-b7e5-d7e9ef501a0e",
   "metadata": {},
   "source": [
    "## Q.44 Replace all 'l' in \"hello world\" with '*'."
   ]
  },
  {
   "cell_type": "code",
   "execution_count": 231,
   "id": "e925ac1e-062f-407e-b533-be19dfa0ae38",
   "metadata": {},
   "outputs": [
    {
     "name": "stdout",
     "output_type": "stream",
     "text": [
      "he**o wor*d\n"
     ]
    }
   ],
   "source": [
    "given_word = \"hello world\"\n",
    "new_word = given_word.replace(\"l\",\"*\")\n",
    "print(new_word)"
   ]
  },
  {
   "cell_type": "markdown",
   "id": "89fbcce5-680c-4ec0-a287-aed0cbe4d754",
   "metadata": {},
   "source": [
    "## Q.45 How do you get just the word \"World\" from \"Hello World\"?"
   ]
  },
  {
   "cell_type": "code",
   "execution_count": 234,
   "id": "9d5f1803-0f85-4acd-a4ac-f04815add61e",
   "metadata": {},
   "outputs": [
    {
     "name": "stdout",
     "output_type": "stream",
     "text": [
      "world\n"
     ]
    }
   ],
   "source": [
    "given_word = \"Hello world\"\n",
    "get_word = given_word.split()[1]\n",
    "print(get_word)"
   ]
  },
  {
   "cell_type": "code",
   "execution_count": 236,
   "id": "74928faa-a4bd-44ae-84c8-71ee48e0320e",
   "metadata": {},
   "outputs": [
    {
     "name": "stdout",
     "output_type": "stream",
     "text": [
      "world\n"
     ]
    }
   ],
   "source": [
    "given_word = \"Hello world\"\n",
    "print(given_word[6:])"
   ]
  },
  {
   "cell_type": "code",
   "execution_count": null,
   "id": "883044ef-29ad-4bdf-9c3f-d84ee0912aae",
   "metadata": {},
   "outputs": [],
   "source": []
  }
 ],
 "metadata": {
  "kernelspec": {
   "display_name": "Python [conda env:base] *",
   "language": "python",
   "name": "conda-base-py"
  },
  "language_info": {
   "codemirror_mode": {
    "name": "ipython",
    "version": 3
   },
   "file_extension": ".py",
   "mimetype": "text/x-python",
   "name": "python",
   "nbconvert_exporter": "python",
   "pygments_lexer": "ipython3",
   "version": "3.12.7"
  }
 },
 "nbformat": 4,
 "nbformat_minor": 5
}
