{
 "cells": [
  {
   "cell_type": "markdown",
   "id": "456b6ae4-84a2-4b06-b338-28c3ea754771",
   "metadata": {},
   "source": [
    "# Bit-wise Operator"
   ]
  },
  {
   "cell_type": "markdown",
   "id": "bcee9be1-16f5-4446-9bf8-bf84af28403a",
   "metadata": {},
   "source": [
    "- Q.1 Understanding bitwise AND"
   ]
  },
  {
   "cell_type": "code",
   "execution_count": 15,
   "id": "f80b192f-458e-407a-84b3-613dc151a379",
   "metadata": {},
   "outputs": [],
   "source": [
    "a = 5 \n",
    "b = 3\n",
    "\n",
    "# 1. What is a & b ?\n",
    "# A. Here a is  a variable and 5 is a value that 5 value is assigned to a . b is a variable and 3 is a value that 3 value is assigned to b.\n",
    "\n",
    "# 2. Write down the binary representation of both numbers and explain how the result was calculated?\n",
    "# The binary representation of 5 is 0101 , given below is the explanation how the 0101 is find out\n",
    "   #step 1:- first divide the 5 with 2 and we will get remainder 1.\n",
    "    #Step 2:- next divide coefficient 2 with 2 will get remainder 0.\n",
    "    # Step 3:- again divide coefficient of 2 value with 2 will get remainder 0 and coefficient value is 1 \n",
    "    # step 4:- Finally combine all those values 0101 \n",
    "# The binary representation of 3 is 0011 , given below is the explanation how the 0001 is find out\n",
    "   #step 1:- first divide the 3 with 2 and we will get remainder 1 and coefficent is 1.\n",
    "    #Step 2:- Comibne those 2 values 0011\n",
    "    "
   ]
  },
  {
   "cell_type": "markdown",
   "id": "d9e13b13-ef3c-47c9-8548-329db906d831",
   "metadata": {},
   "source": [
    "## Understanding Bitwise OR"
   ]
  },
  {
   "cell_type": "code",
   "execution_count": 24,
   "id": "92cb6502-b6b4-4527-b3c1-bd0288aff61a",
   "metadata": {},
   "outputs": [
    {
     "name": "stdout",
     "output_type": "stream",
     "text": [
      "5\n"
     ]
    }
   ],
   "source": [
    "a = 4\n",
    "b = 1\n",
    "print(a | b)"
   ]
  },
  {
   "cell_type": "markdown",
   "id": "a34a0199-c07c-4636-9bc5-e1d7beef246a",
   "metadata": {},
   "source": [
    "- 1. What is the result of a | b?\n",
    "-     5 is the result of a | b"
   ]
  },
  {
   "cell_type": "markdown",
   "id": "728aa065-89ed-4a90-a27c-906ccac1fde7",
   "metadata": {},
   "source": [
    "- 2. Explain how this works using binary ? \n",
    "- A. a = 4 the binary represention of 5 is 0100 \n",
    "-    b = 1 the binary represention of 1 is 0001\n",
    "-           add the two binary values of the 4 & 1 is 0101\n",
    "-           0101 is binary value of the 5"
   ]
  },
  {
   "cell_type": "markdown",
   "id": "c31303b6-58c5-4870-812b-9b65b6a0c6e1",
   "metadata": {},
   "source": [
    "## Understanding Bitwise XOR"
   ]
  },
  {
   "cell_type": "code",
   "execution_count": 33,
   "id": "b3088b01-8062-4201-820a-fe7afea8cf14",
   "metadata": {},
   "outputs": [
    {
     "name": "stdout",
     "output_type": "stream",
     "text": [
      "5\n"
     ]
    }
   ],
   "source": [
    "x = 6 \n",
    "y = 3\n",
    "print(a ^ b)"
   ]
  },
  {
   "cell_type": "markdown",
   "id": "2027d903-b4a2-44c0-a982-094b10292a43",
   "metadata": {},
   "source": [
    "- 1. What is x ^ y?\n",
    "- A. The task of x ^ y in python is to compare two bits.It returns true if the bits are different and false if they are the same\n"
   ]
  },
  {
   "cell_type": "markdown",
   "id": "01b85b7a-d33c-49f8-b7d1-b58bd7bc5b5a",
   "metadata": {},
   "source": [
    "- 2. In what situations would XOR be useful?\n",
    "- A.  The XOR function is used for swapping of two values without having a temporary variable .\n",
    "-      By using XOR function we can easily find out the error detection and correction\n",
    "-       and the one more use is for protecting the data by using the encryption"
   ]
  },
  {
   "cell_type": "markdown",
   "id": "9f80d5b4-5240-47ca-8259-00b0c8feb4b2",
   "metadata": {},
   "source": [
    "## Understanding Bitwise NOT\n"
   ]
  },
  {
   "cell_type": "code",
   "execution_count": 45,
   "id": "9c29d29f-6bd0-44e1-ac68-35603d1ac056",
   "metadata": {},
   "outputs": [
    {
     "name": "stdout",
     "output_type": "stream",
     "text": [
      "-8\n"
     ]
    }
   ],
   "source": [
    "n = 7\n",
    "print(~n)"
   ]
  },
  {
   "cell_type": "markdown",
   "id": "625cf616-ac5f-4f11-b9d9-36acab884704",
   "metadata": {},
   "source": [
    "- What is ~n in Python?\n",
    "- Bitwise ~n is to get a number by subtracting the -1"
   ]
  },
  {
   "cell_type": "markdown",
   "id": "9bf02101-7dd8-4ee6-90b3-c1a2bf3b54ef",
   "metadata": {},
   "source": [
    "- Why does the result appear negative?\n",
    "- In Python, the bitwise NOT operator (~) inverts the bits of an integer.\n",
    "- Due to the way Python handles signed integers using two's complement representation, - -\n",
    "- this inversion results in a negative value."
   ]
  },
  {
   "cell_type": "markdown",
   "id": "e4f52515-d75e-4441-bf49-08f190a5b4d1",
   "metadata": {},
   "source": [
    "## Using Left Shift\n"
   ]
  },
  {
   "cell_type": "code",
   "execution_count": 66,
   "id": "da3536f2-1854-4c65-b050-1a965e2484b1",
   "metadata": {},
   "outputs": [
    {
     "name": "stdout",
     "output_type": "stream",
     "text": [
      "32\n"
     ]
    }
   ],
   "source": [
    "n = 16\n",
    "print(n << 1)"
   ]
  },
  {
   "cell_type": "markdown",
   "id": "7c193e91-aa9a-48e1-9e75-f245688e7d15",
   "metadata": {},
   "source": [
    "- 1 .What is the result of num << 1?\n",
    "- A .32 is the result of 16 value"
   ]
  },
  {
   "cell_type": "code",
   "execution_count": 72,
   "id": "5a8ee327-b60b-4940-9935-142a8d631a87",
   "metadata": {},
   "outputs": [
    {
     "name": "stdout",
     "output_type": "stream",
     "text": [
      "64\n"
     ]
    }
   ],
   "source": [
    "n = 16 \n",
    "print(n << 2)"
   ]
  },
  {
   "cell_type": "markdown",
   "id": "297f3cd8-b29e-4343-8a77-fbc1833ca178",
   "metadata": {},
   "source": [
    "- 2. In the first shift getting the 32 value \n",
    "-     in the second shift the value becomes increased becuase increased the shift position"
   ]
  },
  {
   "cell_type": "markdown",
   "id": "4026f8d2-57a8-4e62-b208-3238732db291",
   "metadata": {},
   "source": [
    "# Using Right Shift\n"
   ]
  },
  {
   "cell_type": "code",
   "execution_count": 78,
   "id": "fde88203-a3c6-4a6f-8943-6f2cee927db7",
   "metadata": {},
   "outputs": [
    {
     "name": "stdout",
     "output_type": "stream",
     "text": [
      "8\n"
     ]
    }
   ],
   "source": [
    "num = 16\n",
    "print(num >> 1)"
   ]
  },
  {
   "cell_type": "markdown",
   "id": "ea74ef25-bfe6-48cb-9c6c-73215576bfae",
   "metadata": {},
   "source": [
    "- Q.What is num >> 1?\n",
    "- A. 8 is the num >> 1"
   ]
  },
  {
   "cell_type": "code",
   "execution_count": 83,
   "id": "baeaa9cf-b362-4a0c-84e3-7a102a23f036",
   "metadata": {},
   "outputs": [
    {
     "name": "stdout",
     "output_type": "stream",
     "text": [
      "2\n"
     ]
    }
   ],
   "source": [
    "Num = 16 \n",
    "print(Num >> 3)"
   ]
  },
  {
   "cell_type": "markdown",
   "id": "1cd29873-bd5b-415d-8a34-7253a5945e50",
   "metadata": {},
   "source": [
    "- 2.What is num >> 3? What pattern do you see?\n",
    "- A. In the first shift getting the 8 value \n",
    "-     in the second shift the value becomes decreased becuase increased the shift position"
   ]
  },
  {
   "cell_type": "markdown",
   "id": "d28ee5cf-017c-4071-8061-10227b1bc466",
   "metadata": {},
   "source": [
    "## Check if number is even"
   ]
  },
  {
   "cell_type": "code",
   "execution_count": 7,
   "id": "95fdd2bc-2fee-4722-ad8c-78605db455f7",
   "metadata": {},
   "outputs": [
    {
     "name": "stdout",
     "output_type": "stream",
     "text": [
      "0\n",
      "1\n"
     ]
    }
   ],
   "source": [
    "n = 12\n",
    "print(12 & 1)\n",
    "print(13 & 1)"
   ]
  },
  {
   "cell_type": "markdown",
   "id": "807e1ae4-1ed0-4fcd-bccc-7e01d3b27ea3",
   "metadata": {},
   "source": [
    "- 1 . Use n & 1 to check if it's even.\n",
    "- A . 0 is the output and that is even "
   ]
  },
  {
   "cell_type": "markdown",
   "id": "2379e07c-8056-4791-9545-fccc09d337fc",
   "metadata": {},
   "source": [
    "- 2 . Try it with n = 13 and compare results.\n",
    "- A . By using 13 getting the 1 output so 1 is odd number.first i tried with 12 gettig the 0 that is even "
   ]
  },
  {
   "cell_type": "markdown",
   "id": "d397ba58-c9ea-4459-a9b6-0e27e087e51b",
   "metadata": {},
   "source": [
    "## Q.8 Set a Specific Bit "
   ]
  },
  {
   "cell_type": "code",
   "execution_count": 12,
   "id": "ab8f1291-8064-4eca-b73d-5c191bac66b2",
   "metadata": {},
   "outputs": [
    {
     "name": "stdout",
     "output_type": "stream",
     "text": [
      "9\n"
     ]
    }
   ],
   "source": [
    "n = 8 \n",
    "print( n | 1)"
   ]
  },
  {
   "cell_type": "markdown",
   "id": "956b377e-8443-487a-bbb1-ad340676323b",
   "metadata": {},
   "source": [
    "- 1.Use bitwise OR to set the 1st bit (from the right).\n",
    "- A.9 is the output"
   ]
  },
  {
   "cell_type": "markdown",
   "id": "81fd8604-5d1b-4311-b22c-c9bf1d9b1ee1",
   "metadata": {},
   "source": [
    "- Q2.What is the new value of n?\n",
    "- A. 9 is the new value of n"
   ]
  },
  {
   "cell_type": "markdown",
   "id": "d2396a10-10fa-4cf0-b5e1-4eb790cfed85",
   "metadata": {},
   "source": [
    "## Q.9 Clear a Specific Bit\n"
   ]
  },
  {
   "cell_type": "code",
   "execution_count": 21,
   "id": "8c819bdb-42a0-4603-9093-ad6781609c92",
   "metadata": {},
   "outputs": [
    {
     "name": "stdout",
     "output_type": "stream",
     "text": [
      "2\n",
      "-16\n"
     ]
    }
   ],
   "source": [
    "n = 15\n",
    "print(n & 2)\n",
    "print(~n)"
   ]
  },
  {
   "cell_type": "markdown",
   "id": "661efd79-0052-4696-ab70-b1505a2da09f",
   "metadata": {},
   "source": [
    "- 1.Use bitwise AND and NOT to clear the 2nd bit.\n",
    "\n",
    "- A. By using bitwise AND getting the 2 output and -16 is the output of the bitwise NOT.\n"
   ]
  },
  {
   "cell_type": "markdown",
   "id": "c8b9b656-7020-4fb6-9ca7-cc725ca2afc7",
   "metadata": {},
   "source": [
    "- 2. What is the binary result?\n",
    "- A. 0010 is the binary result of n = 15 "
   ]
  },
  {
   "cell_type": "markdown",
   "id": "3728ba5e-6396-4035-8517-633e2a7ec78c",
   "metadata": {},
   "source": [
    "## Q.10 Toggle a Bit\n"
   ]
  },
  {
   "cell_type": "code",
   "execution_count": 40,
   "id": "e27b1d5e-f20e-4950-b93c-160b201696ea",
   "metadata": {},
   "outputs": [
    {
     "name": "stdout",
     "output_type": "stream",
     "text": [
      "11\n",
      "10\n"
     ]
    }
   ],
   "source": [
    "n = 10\n",
    "n = n ^ 1\n",
    "print(n)\n",
    "n = n ^ 1\n",
    "print(n)"
   ]
  },
  {
   "cell_type": "markdown",
   "id": "9a2239e8-d149-4870-9a77-100cee3d70bc",
   "metadata": {},
   "source": [
    "- 1.Toggle the 1st bit using XOR.\n",
    "- A. 11 is the first bit usin XOR"
   ]
  },
  {
   "cell_type": "markdown",
   "id": "ec042e93-813c-4375-bf9c-eb216dc8e392",
   "metadata": {},
   "source": [
    "- 2.Toggle it again. What do you observe?\n",
    " - A. Again i tried with the same value in that time i am getting the 10 output . Clearly what i observed that in the first toggle \n",
    " - i got the 11 and next time 10 there is slight decriment will happen by doing the again and again toggles."
   ]
  },
  {
   "cell_type": "markdown",
   "id": "e8916fac-cbbb-4fb7-91a2-3d34c0505986",
   "metadata": {},
   "source": [
    "## Q11. Compare Two Numbers"
   ]
  },
  {
   "cell_type": "code",
   "execution_count": 45,
   "id": "a968c0b8-f93e-42d8-ab2e-f90701662a39",
   "metadata": {},
   "outputs": [
    {
     "name": "stdout",
     "output_type": "stream",
     "text": [
      "0\n"
     ]
    }
   ],
   "source": [
    "a = 6 \n",
    "b = 6\n",
    "print(a ^ b)"
   ]
  },
  {
   "cell_type": "markdown",
   "id": "ac7a8679-ce80-45ea-bf56-0f6ed843733c",
   "metadata": {},
   "source": [
    "- 1. Use a ^ b to check if they are equal.\n",
    "- A. Since the result of a ^ b is 0, it means that a and b are equal."
   ]
  },
  {
   "cell_type": "code",
   "execution_count": 50,
   "id": "0a0a1de3-ffa6-420d-978a-34781c22b49d",
   "metadata": {},
   "outputs": [
    {
     "name": "stdout",
     "output_type": "stream",
     "text": [
      "1\n"
     ]
    }
   ],
   "source": [
    "a = 6\n",
    "b = 7\n",
    "print(a ^ b )"
   ]
  },
  {
   "cell_type": "markdown",
   "id": "2ee6988f-32fd-4d7c-a404-0a5df35bf4f5",
   "metadata": {},
   "source": [
    "- 2. What is the output if b = 7 ?\n",
    "- A. 1 is the output of a = 6 and b = 7"
   ]
  },
  {
   "cell_type": "markdown",
   "id": "b1e17075-b13d-4fc3-a06d-670453568fa5",
   "metadata": {},
   "source": [
    "## Q12. Shift and Multiply"
   ]
  },
  {
   "cell_type": "code",
   "execution_count": 56,
   "id": "617c9589-52ac-4668-a372-5064d3a0d3fa",
   "metadata": {},
   "outputs": [
    {
     "name": "stdout",
     "output_type": "stream",
     "text": [
      "12\n"
     ]
    }
   ],
   "source": [
    "x = 3\n",
    "print(x << 2)"
   ]
  },
  {
   "cell_type": "markdown",
   "id": "5a083d0a-5dcb-443d-b14d-877f0c9cf09f",
   "metadata": {},
   "source": [
    "- 1.Multiply x by 4 using left shift?\n",
    "- A.12 is the output"
   ]
  },
  {
   "cell_type": "code",
   "execution_count": 61,
   "id": "799a3557-32d0-4e57-b538-6acc5e90ffe2",
   "metadata": {},
   "outputs": [
    {
     "name": "stdout",
     "output_type": "stream",
     "text": [
      "1\n"
     ]
    }
   ],
   "source": [
    "x = 3\n",
    "print(x >> 1)"
   ]
  },
  {
   "cell_type": "markdown",
   "id": "fe0a6535-4386-424b-a2f1-2490f4a2c2d5",
   "metadata": {},
   "source": [
    "- 2.Divide x by 2 using right shift?\n",
    "- A. 1 is the output"
   ]
  },
  {
   "cell_type": "markdown",
   "id": "fc2c5b03-84f2-47de-bd74-63022a7f9d33",
   "metadata": {},
   "source": [
    "## Q13. Print Binary"
   ]
  },
  {
   "cell_type": "code",
   "execution_count": 69,
   "id": "716939e5-8288-4395-94b8-cfd867d53647",
   "metadata": {},
   "outputs": [
    {
     "name": "stdout",
     "output_type": "stream",
     "text": [
      "0b1001\n"
     ]
    }
   ],
   "source": [
    "n = 9\n",
    "print(bin(n))"
   ]
  },
  {
   "cell_type": "markdown",
   "id": "b3be86fc-f12a-4c1f-a341-3e0e8f21e19e",
   "metadata": {},
   "source": [
    "- 1. Use bin(n) to print its binary representation.\n",
    "- A. 0b1001 is the binary representation of value n = 9"
   ]
  },
  {
   "cell_type": "code",
   "execution_count": 74,
   "id": "b2d321ec-ed76-4244-8cc6-879feb7f7f66",
   "metadata": {},
   "outputs": [
    {
     "name": "stdout",
     "output_type": "stream",
     "text": [
      "72\n",
      "0b1001\n"
     ]
    }
   ],
   "source": [
    "n = 9\n",
    "print(n << 3)\n",
    "print(bin(n))"
   ]
  },
  {
   "cell_type": "markdown",
   "id": "98a5dd22-ec4b-4ef1-b2d3-8d6fe43d8a8f",
   "metadata": {},
   "source": [
    "- 2.Use bitwise shift to multiply it by 8 and print that too.\n",
    "- 72 is the bitwise shift value and 0b1001 is the binary represenatin of n = 9"
   ]
  },
  {
   "cell_type": "markdown",
   "id": "0f10ef26-7416-4824-9649-db9a4195d6ad",
   "metadata": {},
   "source": [
    "## Q14. Bit Count with Loop\n"
   ]
  },
  {
   "cell_type": "code",
   "execution_count": 87,
   "id": "195944f2-dc92-44f3-8c66-08ea31228076",
   "metadata": {},
   "outputs": [
    {
     "name": "stdout",
     "output_type": "stream",
     "text": [
      "Count using bitwise AND: 3\n"
     ]
    }
   ],
   "source": [
    "num = 13\n",
    "count = 0\n",
    "n = num \n",
    "\n",
    "while n > 0:\n",
    "    if n & 1:\n",
    "        count += 1\n",
    "    n >>= 1 \n",
    "\n",
    "print(\"Count using bitwise AND:\", count)"
   ]
  },
  {
   "cell_type": "markdown",
   "id": "e647a4c4-8ce1-4d34-9324-c362583408bb",
   "metadata": {},
   "source": [
    "- 1.Write a loop to count the number of 1s in its binary using & ?\n",
    "- A.3"
   ]
  },
  {
   "cell_type": "code",
   "execution_count": 84,
   "id": "44e8abca-ab72-4246-a22d-b0aea6ee9a33",
   "metadata": {},
   "outputs": [
    {
     "name": "stdout",
     "output_type": "stream",
     "text": [
      "count of number of 1's in num :  3\n"
     ]
    }
   ],
   "source": [
    "num = 13\n",
    "print(\"count of number of 1's in num : \",bin(num).count('1'))"
   ]
  },
  {
   "cell_type": "markdown",
   "id": "08e04f72-5616-4ac4-9b9a-ece3ec6293e2",
   "metadata": {},
   "source": [
    "- 2.Write a loop to count the number of 1s in its binary using & ?\n",
    "- A. 3"
   ]
  },
  {
   "cell_type": "markdown",
   "id": "a0453bdb-e6c1-4453-9e57-8059d152c7c4",
   "metadata": {},
   "source": [
    "## Q15. Flip All Bits\n"
   ]
  },
  {
   "cell_type": "code",
   "execution_count": 94,
   "id": "0f72e5ba-7858-46ad-9da9-95d71b70e63e",
   "metadata": {},
   "outputs": [
    {
     "name": "stdout",
     "output_type": "stream",
     "text": [
      "-5\n"
     ]
    }
   ],
   "source": [
    "x = 4\n",
    "print(~x)"
   ]
  },
  {
   "cell_type": "markdown",
   "id": "3729bcac-57f5-4858-b96b-8b3e4b041201",
   "metadata": {},
   "source": [
    "- 1. What is ~x?\n",
    "- A. -5 is the output of x = 4 "
   ]
  },
  {
   "cell_type": "code",
   "execution_count": 103,
   "id": "a078f525-b971-4573-9a8f-176d1a080b68",
   "metadata": {},
   "outputs": [
    {
     "name": "stdout",
     "output_type": "stream",
     "text": [
      "-4\n"
     ]
    }
   ],
   "source": [
    "x = -5 + 1\n",
    "print(x)"
   ]
  },
  {
   "cell_type": "markdown",
   "id": "11fae6a9-48fa-428d-8042-e81af58724fe",
   "metadata": {},
   "source": [
    "- 2. What happens if you add 1 to the result?\n",
    "- A. The output will become -4 "
   ]
  },
  {
   "cell_type": "markdown",
   "id": "bf25e3d5-e01d-436a-a389-de435cef2779",
   "metadata": {},
   "source": [
    "## Q16. Bitwise Operations on List\n"
   ]
  },
  {
   "cell_type": "code",
   "execution_count": 117,
   "id": "6951627a-0b8d-456d-a649-0fda7041c94b",
   "metadata": {},
   "outputs": [
    {
     "name": "stdout",
     "output_type": "stream",
     "text": [
      "Bitwise OR result: 3\n"
     ]
    }
   ],
   "source": [
    "nums = [1, 2, 3]\n",
    "result_or = nums[0] # 1\n",
    "for num in nums[1:]:\n",
    "    result_or |= num\n",
    "\n",
    "print(\"Bitwise OR result:\", result_or)\n"
   ]
  },
  {
   "cell_type": "markdown",
   "id": "c9b36bbb-d6d6-4a15-b3df-0f3721b400e0",
   "metadata": {},
   "source": [
    "- 1. Apply bitwise OR on all values ?\n",
    "- A. 3 is the output of bitwise OR on all values"
   ]
  },
  {
   "cell_type": "code",
   "execution_count": 125,
   "id": "0063b14d-5f06-4c89-b43b-6ae6cb98788c",
   "metadata": {},
   "outputs": [
    {
     "name": "stdout",
     "output_type": "stream",
     "text": [
      "Bitwise AND result: 0\n"
     ]
    }
   ],
   "source": [
    "nums = [1, 2, 3]\n",
    "result_AND = nums[0] # 1\n",
    "for num in nums[1:]:\n",
    "    result_AND &= num\n",
    "\n",
    "print(\"Bitwise AND result:\", result_AND)"
   ]
  },
  {
   "cell_type": "markdown",
   "id": "c7ea79a6-1a08-433f-b5db-0daf0423c91c",
   "metadata": {},
   "source": [
    "- 2. Apply bitwise AND on all values. What are the results?\n",
    "- A. 0 is the output of bitwise AND on all values. 3 is the output of bitwise OR"
   ]
  },
  {
   "cell_type": "markdown",
   "id": "6847faf6-e55b-4a27-9e1f-eaec3cc064af",
   "metadata": {},
   "source": [
    "## Q 17. Swapping Values\n"
   ]
  },
  {
   "cell_type": "code",
   "execution_count": null,
   "id": "80da942b-1487-4d38-8c01-6c7785f8a315",
   "metadata": {},
   "outputs": [],
   "source": []
  }
 ],
 "metadata": {
  "kernelspec": {
   "display_name": "Python [conda env:base] *",
   "language": "python",
   "name": "conda-base-py"
  },
  "language_info": {
   "codemirror_mode": {
    "name": "ipython",
    "version": 3
   },
   "file_extension": ".py",
   "mimetype": "text/x-python",
   "name": "python",
   "nbconvert_exporter": "python",
   "pygments_lexer": "ipython3",
   "version": "3.12.7"
  }
 },
 "nbformat": 4,
 "nbformat_minor": 5
}
