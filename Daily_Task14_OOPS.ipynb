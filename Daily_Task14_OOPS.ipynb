{
 "cells": [
  {
   "cell_type": "markdown",
   "id": "75892ea6-9ae1-4b41-8391-a06e1fd949ec",
   "metadata": {},
   "source": [
    "## Q.1. Create a Class for a BTask:\n",
    "## Create a class Book with attributes title and author. Create an object for the book \"1984\" by George Orwell and print its details.\n",
    "\n"
   ]
  },
  {
   "cell_type": "code",
   "execution_count": 3,
   "id": "2690884a-67b0-4867-bf43-13e0adf4996e",
   "metadata": {},
   "outputs": [
    {
     "name": "stdout",
     "output_type": "stream",
     "text": [
      "Title: 1984\n",
      "Author: George Orwell\n"
     ]
    }
   ],
   "source": [
    "class Book:\n",
    "    def __init__(self, title, author):\n",
    "        self.title = title\n",
    "        self.author = author\n",
    "    def print_details(self):\n",
    "        print(f\"Title: {self.title}\")\n",
    "        print(f\"Author: {self.author}\")\n",
    "\n",
    "book1 = Book(\"1984\", \"George Orwell\")\n",
    "book1.print_details()"
   ]
  },
  {
   "cell_type": "markdown",
   "id": "ccc51a3e-c89d-4ffd-b798-5bff7dedf9c0",
   "metadata": {},
   "source": [
    "## Q.2. Class with a Method\n",
    "## Task:\n",
    "## Create a class Greeting with a method say_hello() that prints \"Hello, welcome!\". Create an object and call the method.\n"
   ]
  },
  {
   "cell_type": "code",
   "execution_count": 6,
   "id": "aa3c3bd7-d3cc-4aa5-a5b0-40d6e6586bf3",
   "metadata": {},
   "outputs": [
    {
     "name": "stdout",
     "output_type": "stream",
     "text": [
      "Hello, welcome! Sudheer\n"
     ]
    }
   ],
   "source": [
    "class Greeting:\n",
    "    def __init__(self,greet):\n",
    "        self.greet = greet\n",
    "    def say_hello(self):\n",
    "        print(f\"Hello, welcome! {self.greet}\")\n",
    "\n",
    "greetings = Greeting(\"Sudheer\")\n",
    "greetings.say_hello()"
   ]
  },
  {
   "cell_type": "markdown",
   "id": "9187d33d-9368-4fd4-9b6c-1ba963965a46",
   "metadata": {},
   "source": [
    "## Q.3. Initialize with Constructor\n",
    "## Task:\n",
    "## Create a class Car with a constructor that takes brand and year. Create an object of Car with brand Toyota and year 2020, and print both values."
   ]
  },
  {
   "cell_type": "code",
   "execution_count": 15,
   "id": "9c94177c-5463-430b-a272-40c6ed0378d5",
   "metadata": {},
   "outputs": [
    {
     "name": "stdout",
     "output_type": "stream",
     "text": [
      "Car Brand: Toyota\n",
      "Car Year: 2020\n"
     ]
    }
   ],
   "source": [
    "class Car:\n",
    "    def __init__(self, brand, year):\n",
    "        self.brand = brand\n",
    "        self.year = year\n",
    "\n",
    "    def car_deitails(self):\n",
    "        print(f\"Car Brand: {self.brand}\")\n",
    "        print(f\"Car Year: {self.year}\")\n",
    "\n",
    "car = Car(\"Toyota\", \"2020\")\n",
    "car.car_deitails()"
   ]
  },
  {
   "cell_type": "markdown",
   "id": "eaec8874-c276-4ad3-a8cd-378ccf185df3",
   "metadata": {},
   "source": [
    "## Q.4. Class with Multiple Methods\n",
    "## Task:\n",
    "## Create a class Rectangle with attributes length and width. Add a method area() that returns the area. Create an object and print the area.\n"
   ]
  },
  {
   "cell_type": "code",
   "execution_count": 18,
   "id": "4aa5c327-fc42-4bfa-8f56-2e0221546052",
   "metadata": {},
   "outputs": [
    {
     "name": "stdout",
     "output_type": "stream",
     "text": [
      "Area of the rectangle: 30\n"
     ]
    }
   ],
   "source": [
    "class Rectangle:\n",
    "    def __init__(self, length, width):\n",
    "        self.length = length\n",
    "        self.width = width\n",
    "    def area(self):\n",
    "        Area = self.length * self.width\n",
    "        print(f\"Area of the rectangle: {Area}\")\n",
    "rectangle = Rectangle(5,6)\n",
    "rectangle.area()"
   ]
  },
  {
   "cell_type": "markdown",
   "id": "36686249-5041-421f-9f57-46cf479f1805",
   "metadata": {},
   "source": [
    "## Q.5. Update Object Attribute\n",
    "## Task:\n",
    "## Create a class Person with an attribute name. Create an object, print the name, update it to a new name, and print again.\n"
   ]
  },
  {
   "cell_type": "code",
   "execution_count": 23,
   "id": "63ba0fee-52bc-4dc2-bd24-473ab2ebc308",
   "metadata": {},
   "outputs": [
    {
     "name": "stdout",
     "output_type": "stream",
     "text": [
      "Name : Python\n",
      "Name : Java\n"
     ]
    }
   ],
   "source": [
    "class Person:\n",
    "    def __init__(self,name):\n",
    "        self.name = name\n",
    "    def print_name(self):\n",
    "        print(f\"Name : {self.name}\")\n",
    "\n",
    "person = Person(\"Python\")\n",
    "person.print_name()\n",
    "\n",
    "person.name = \"Java\"\n",
    "person.print_name()"
   ]
  },
  {
   "cell_type": "markdown",
   "id": "f3ed1032-c9f8-480a-93cf-6e7ac9cedd87",
   "metadata": {},
   "source": [
    "## Q.6. Create Multiple Objects\n",
    "## Task:\n",
    "## Create a class Fruit with an attribute name. Create three objects for fruits: apple, banana, and mango. Print the name of each fruit using the object."
   ]
  },
  {
   "cell_type": "code",
   "execution_count": 38,
   "id": "3af228a4-8a65-4b9f-9428-69b49a7ba693",
   "metadata": {},
   "outputs": [
    {
     "name": "stdout",
     "output_type": "stream",
     "text": [
      "fruit name : apple\n",
      "fruit name : banana\n",
      "fruit name : mango\n"
     ]
    }
   ],
   "source": [
    "class Fruit:\n",
    "    def __init__(self, fruit_name):\n",
    "        self.fruit_name = fruit_name\n",
    "    def f_name(self):\n",
    "        print(f\"fruit name : {self.fruit_name}\")\n",
    "\n",
    "fruit1 = Fruit(\"apple\")\n",
    "fruit1.f_name()\n",
    "fruit1 = Fruit(\"banana\")\n",
    "fruit1.f_name()\n",
    "fruit1 = Fruit(\"mango\")\n",
    "fruit1.f_name()"
   ]
  },
  {
   "cell_type": "markdown",
   "id": "4b17a285-64b7-470f-8f5d-c7032f358587",
   "metadata": {},
   "source": [
    "## Q.7. Class with Default Values\n",
    "## Task:\n",
    "## Create a class Laptop with attributes brand and RAM (default value = \"8GB\"). Create an object by passing only brand and print both attributes.\n"
   ]
  },
  {
   "cell_type": "code",
   "execution_count": 44,
   "id": "e7ab6c7d-f260-4dc5-94a9-41f96990abf1",
   "metadata": {},
   "outputs": [
    {
     "name": "stdout",
     "output_type": "stream",
     "text": [
      "Laptop brand: HP\n",
      "Laptop RAM: 8GB\n"
     ]
    }
   ],
   "source": [
    "class Laptop:\n",
    "    def __init__(self, brand, RAM = \"8GB\"):\n",
    "        self.brand = brand\n",
    "        self.RAM = RAM\n",
    "    def lap_details(self):\n",
    "        print(f\"Laptop brand: {self.brand}\")\n",
    "        print(f\"Laptop RAM: {self.RAM}\")\n",
    "\n",
    "laptop = Laptop(\"HP\")\n",
    "laptop.lap_details()"
   ]
  },
  {
   "cell_type": "markdown",
   "id": "d9bebda6-d1be-4fd3-9271-f856b3a40af6",
   "metadata": {},
   "source": [
    "## Q.8. Object Method Returning a Value\n",
    "## Task:\n",
    "## Create a class Circle with attribute radius. Add a method diameter() that returns twice the radius. Create an object and print the diameter.\n"
   ]
  },
  {
   "cell_type": "code",
   "execution_count": null,
   "id": "e955dc20-81ce-4c58-8cf5-ab68d6c0fe14",
   "metadata": {},
   "outputs": [],
   "source": []
  },
  {
   "cell_type": "markdown",
   "id": "44db0cfc-6c74-4aa6-8a24-05dd3dc5c732",
   "metadata": {},
   "source": [
    "## Q.9. Pass Object as Function Argument\n",
    "## Task:\n",
    "## Create a class Movie with an attribute name. Write a function show_movie(m) that takes a Movie object and prints its name. Test it."
   ]
  },
  {
   "cell_type": "code",
   "execution_count": 46,
   "id": "1f8f9555-4d95-4476-96de-b713d84f5477",
   "metadata": {},
   "outputs": [
    {
     "name": "stdout",
     "output_type": "stream",
     "text": [
      "Movie name: Radheshyam\n"
     ]
    }
   ],
   "source": [
    "class Movie:\n",
    "    def __init__(self,name):\n",
    "        self.name = name\n",
    "    def show_movie(self):\n",
    "        print(f\"Movie name: {self.name}\")\n",
    "\n",
    "movie = Movie(\"Radheshyam\")\n",
    "movie.show_movie()"
   ]
  },
  {
   "cell_type": "markdown",
   "id": "1fafc0b3-0e15-409f-ae51-9076bf97890d",
   "metadata": {},
   "source": [
    "## Q.10. Object with Boolean Attribute\n",
    "## Task:\n",
    "## Create a class Light with an attribute is_on set to False by default. Add a method turn_on() that changes it to True. Create an object and check the value before and after calling the method.\n"
   ]
  },
  {
   "cell_type": "code",
   "execution_count": 48,
   "id": "acd50b29-9315-4fc6-b559-60b57eb24c93",
   "metadata": {},
   "outputs": [
    {
     "name": "stdout",
     "output_type": "stream",
     "text": [
      "Turn on : True\n"
     ]
    }
   ],
   "source": [
    "class Light:\n",
    "    def __init__(self, turn_on = False):\n",
    "        self.turn_on = turn_on\n",
    "    def Turn_on(self):\n",
    "        print(f\"Turn on : {self.turn_on}\")\n",
    "\n",
    "light = Light(True)\n",
    "light.Turn_on()"
   ]
  },
  {
   "cell_type": "code",
   "execution_count": null,
   "id": "b2652811-09d8-4fe8-8980-64ea341448ba",
   "metadata": {},
   "outputs": [],
   "source": []
  }
 ],
 "metadata": {
  "kernelspec": {
   "display_name": "Python [conda env:base] *",
   "language": "python",
   "name": "conda-base-py"
  },
  "language_info": {
   "codemirror_mode": {
    "name": "ipython",
    "version": 3
   },
   "file_extension": ".py",
   "mimetype": "text/x-python",
   "name": "python",
   "nbconvert_exporter": "python",
   "pygments_lexer": "ipython3",
   "version": "3.12.7"
  }
 },
 "nbformat": 4,
 "nbformat_minor": 5
}
