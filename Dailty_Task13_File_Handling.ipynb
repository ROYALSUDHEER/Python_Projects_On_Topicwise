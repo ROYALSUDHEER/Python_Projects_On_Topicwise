{
 "cells": [
  {
   "cell_type": "markdown",
   "id": "b50d31ca-d568-4a3f-bda5-658a7c12da5a",
   "metadata": {},
   "source": [
    "## Q.1. Open a file named data.txt and read its contents.\n"
   ]
  },
  {
   "cell_type": "code",
   "execution_count": null,
   "id": "ae447419-6095-4236-be78-258048c60967",
   "metadata": {},
   "outputs": [],
   "source": [
    "x = open(\"data.txt\")\n",
    "x = open(\"data.txt\", mode = \"r\")\n",
    "x.read()"
   ]
  },
  {
   "cell_type": "markdown",
   "id": "296be340-6dcc-47cd-8158-a0cb00733405",
   "metadata": {},
   "source": [
    "## Q.2. Write the text \"Hello, World!\" into a file named hello.txt.\n"
   ]
  },
  {
   "cell_type": "code",
   "execution_count": null,
   "id": "b95b5d98-ba82-4013-a02a-3a8c996e66bf",
   "metadata": {},
   "outputs": [],
   "source": [
    "x = open(\"hello.txt\")\n",
    "x = open(\"hello.txt\", mode = 'w')\n",
    "y = \"Hello, World!\"\n",
    "x.write(y)\n",
    "x.close()"
   ]
  },
  {
   "cell_type": "markdown",
   "id": "787fcf8f-e112-4a29-8a28-49ba07701bae",
   "metadata": {},
   "source": [
    "## Q.3 Append the line \"This is a new line.\" to notes.txt."
   ]
  },
  {
   "cell_type": "code",
   "execution_count": null,
   "id": "23018066-abfb-4075-a006-75fc96cf3722",
   "metadata": {},
   "outputs": [],
   "source": [
    "x = open(\"notes.txt\")\n",
    "x = open(\"notes.txt\", mode = 'a')\n",
    "y = \"This is a new line.\"\n",
    "x.write(y)\n",
    "x.close()"
   ]
  },
  {
   "cell_type": "markdown",
   "id": "6d0c3e15-488f-453e-ae4b-7090729dd198",
   "metadata": {},
   "source": [
    "## Q.4. Read a file line by line using a loop.\n"
   ]
  },
  {
   "cell_type": "markdown",
   "id": "cfa3b8d1-8232-46a4-b877-ba19ade397ec",
   "metadata": {},
   "source": [
    "file = open(\"notes.txt\", mode = 'r')\n",
    "\n",
    "for line in file:\n",
    "    print(line, end = \" \")"
   ]
  },
  {
   "cell_type": "markdown",
   "id": "714eeee8-e75e-4382-9798-6de0312b7c3d",
   "metadata": {},
   "source": [
    "## Q.5. Count how many lines are in data.txt.\n"
   ]
  },
  {
   "cell_type": "code",
   "execution_count": null,
   "id": "c97fc5cd-c6f7-4e13-adba-b65902a8c2d7",
   "metadata": {},
   "outputs": [],
   "source": [
    "file = open(\"data.txt\" , mode = 'r')\n",
    "\n",
    "line_count = 0\n",
    "for line in file:\n",
    "    line_count += 1\n",
    "\n",
    "print(line_count)"
   ]
  },
  {
   "cell_type": "markdown",
   "id": "99f313a3-10ca-4b64-b0e3-d4ce0b9ab48b",
   "metadata": {},
   "source": [
    "## Q.6. Create a file named numbers.txt and write numbers from 1 to 10, each on a new line."
   ]
  },
  {
   "cell_type": "code",
   "execution_count": 21,
   "id": "3a8a1181-0c2c-4a80-b341-964eb9c6de76",
   "metadata": {},
   "outputs": [],
   "source": [
    "file = open(\"numbers.txt\", mode = 'w')\n",
    "\n",
    "for i in range(1,11):\n",
    "    file.write(str(i) + '\\n')\n",
    "\n"
   ]
  },
  {
   "cell_type": "markdown",
   "id": "ae210630-80a2-4ad6-a906-dd2b2389f46a",
   "metadata": {},
   "source": [
    "## Q.7 Read and print only the first line of a file."
   ]
  },
  {
   "cell_type": "code",
   "execution_count": null,
   "id": "6624dfbf-f0cd-44b3-a339-48e91243d2de",
   "metadata": {},
   "outputs": [],
   "source": [
    "x = open(\"data.txt\", mode = 'r')\n",
    "x.readline()\n",
    "x.close()"
   ]
  },
  {
   "cell_type": "markdown",
   "id": "60cc21b8-25b9-462b-bb7f-24144c14727b",
   "metadata": {},
   "source": [
    "## Q.8. Write a list ['apple', 'banana', 'cherry'] to a file, each item on a new line."
   ]
  },
  {
   "cell_type": "code",
   "execution_count": null,
   "id": "4f798d5f-eb6f-4f2a-b173-5c03f8e61297",
   "metadata": {},
   "outputs": [],
   "source": [
    "x = open(\"data.txt\", mode = 'w')\n",
    "list = ['apple','banana','cherry']\n",
    "\n",
    "for item in list:\n",
    "    x.write(item + '\\n')"
   ]
  },
  {
   "cell_type": "markdown",
   "id": "b507f970-5e33-4485-a714-e4df7aa6b402",
   "metadata": {},
   "source": [
    "## Q.9. Read a file and remove all whitespace from each line before printing."
   ]
  },
  {
   "cell_type": "code",
   "execution_count": 4,
   "id": "5e1c3717-614d-4d30-acc4-08c5990d4569",
   "metadata": {},
   "outputs": [
    {
     "name": "stdout",
     "output_type": "stream",
     "text": [
      "HiSudheerKumar\n",
      "Howareyou\n",
      "whereareyou?\n"
     ]
    }
   ],
   "source": [
    "x = open(\"Trail.txt\", mode = 'r')\n",
    "\n",
    "for line in x:\n",
    "    clean_line = ''.join(line.split())\n",
    "    print(clean_line)"
   ]
  },
  {
   "cell_type": "markdown",
   "id": "4b781e3c-d8eb-4dfb-adf9-a9c414c49be3",
   "metadata": {},
   "source": [
    "## Q.10. Open a file, read its contents, and convert it to uppercase before printing."
   ]
  },
  {
   "cell_type": "code",
   "execution_count": 9,
   "id": "b1581683-1670-4393-baed-722759648b83",
   "metadata": {},
   "outputs": [
    {
     "name": "stdout",
     "output_type": "stream",
     "text": [
      "HI SUDHEER KUMAR\n",
      "\n",
      "\tHOW ARE YOU \n",
      "\n",
      "\t\tWHERE ARE YOU ?\n"
     ]
    }
   ],
   "source": [
    "x = open(\"Trail.txt\", mode = 'r')\n",
    "\n",
    "for line in x:\n",
    "    print(line.upper())"
   ]
  },
  {
   "cell_type": "markdown",
   "id": "66caae0a-3ff5-416f-a267-aa4aafc92bd9",
   "metadata": {},
   "source": [
    "## Q.11. Copy the contents of source.txt to destination.txt."
   ]
  },
  {
   "cell_type": "code",
   "execution_count": 12,
   "id": "b7b252e6-e056-48c8-9494-061d590a6c71",
   "metadata": {},
   "outputs": [
    {
     "name": "stdout",
     "output_type": "stream",
     "text": [
      "Content copied successfully\n"
     ]
    }
   ],
   "source": [
    "x = open(\"Trail.txt\", mode = 'r')\n",
    "y = x.read()\n",
    "\n",
    "z = open(\"copy.txt\", mode = 'w')\n",
    "z.write(y)\n",
    "print(\"Content copied successfully\")"
   ]
  },
  {
   "cell_type": "markdown",
   "id": "25fe9eb0-a1f1-442b-8728-fc29b6fc7c2a",
   "metadata": {},
   "source": [
    "## Q.12. Read a file and count how many times the word \"python\" appears."
   ]
  },
  {
   "cell_type": "code",
   "execution_count": 17,
   "id": "20a1bafe-1e3a-4189-944b-a670e3c34979",
   "metadata": {},
   "outputs": [
    {
     "name": "stdout",
     "output_type": "stream",
     "text": [
      "The word 'python' appears 1 times.\n"
     ]
    }
   ],
   "source": [
    "x = open(\"Trail.txt\", mode = 'r')\n",
    "content = x.read().lower()\n",
    "count = content.count('python')\n",
    "print(f\"The word 'python' appears {count} times.\")"
   ]
  },
  {
   "cell_type": "markdown",
   "id": "c96b02e7-e3de-431b-96ea-21587849ecef",
   "metadata": {},
   "source": [
    "## Q.13. Use a with statement to open and read a file safely."
   ]
  },
  {
   "cell_type": "code",
   "execution_count": 20,
   "id": "8daa8d71-2c44-4d10-b979-b3e2d39d8d60",
   "metadata": {},
   "outputs": [
    {
     "name": "stdout",
     "output_type": "stream",
     "text": [
      "Hi Sudheer Kumar\n",
      "\tHow are you \n",
      "\t\twhere are you ? python\n"
     ]
    }
   ],
   "source": [
    "with open(\"Trail.txt\", 'r') as file:\n",
    "    content = file.read()\n",
    "print(content)"
   ]
  },
  {
   "cell_type": "markdown",
   "id": "2ff1e7dc-159e-4df4-b308-f587fd63418e",
   "metadata": {},
   "source": [
    "## Q.14. Check if a file named sample.txt exists before trying to open it.\n"
   ]
  },
  {
   "cell_type": "code",
   "execution_count": 27,
   "id": "41d2766e-bcbb-432c-8842-18436cb43adb",
   "metadata": {},
   "outputs": [
    {
     "name": "stdout",
     "output_type": "stream",
     "text": [
      "The file 'sample.txt' does not exist\n"
     ]
    }
   ],
   "source": [
    "import os\n",
    "\n",
    "if os.path.exists(\"sample.txt\"):\n",
    "    with open(\"sample.txt\", 'r') as file:\n",
    "        content = file.read()\n",
    "    print(content)\n",
    "else:\n",
    "    print(\"The file 'sample.txt' does not exist\")"
   ]
  },
  {
   "cell_type": "markdown",
   "id": "c46930e5-fbda-4765-9539-5eefb080b4d4",
   "metadata": {},
   "source": [
    "## Q.15. Remove a file named delete_me.txt."
   ]
  },
  {
   "cell_type": "code",
   "execution_count": 32,
   "id": "f22117e3-dd08-42ba-a0f9-76224b725bc4",
   "metadata": {},
   "outputs": [],
   "source": [
    "import os\n",
    "\n",
    "os.remove(\"delete.txt\")"
   ]
  },
  {
   "cell_type": "markdown",
   "id": "c7ba139c-254f-4362-86a8-963afcfe7cfe",
   "metadata": {},
   "source": [
    "## Q.16. Read the last line of a file."
   ]
  },
  {
   "cell_type": "code",
   "execution_count": 35,
   "id": "710a31e8-bf86-4391-a4c3-519e69341a6d",
   "metadata": {},
   "outputs": [
    {
     "name": "stdout",
     "output_type": "stream",
     "text": [
      "where are you ? python\n"
     ]
    }
   ],
   "source": [
    "with open(\"Trail.txt\", 'r') as lines:\n",
    "    line = lines.readlines()\n",
    "\n",
    "if line:\n",
    "    last_line = line[-1].strip()\n",
    "    print(last_line)\n",
    "else:\n",
    "    print(\"The file is empty\")"
   ]
  },
  {
   "cell_type": "markdown",
   "id": "6314726c-76ab-416d-b47d-c90bbac86bbf",
   "metadata": {},
   "source": [
    "## Q.17. Write user input to a file until they type \"stop\".\n"
   ]
  },
  {
   "cell_type": "code",
   "execution_count": 59,
   "id": "c0b07833-13a6-435d-88c7-667e77c9744e",
   "metadata": {},
   "outputs": [
    {
     "name": "stdin",
     "output_type": "stream",
     "text": [
      "Enter text (type 'stop' to 'end') which course are you present ?\n",
      "Enter text (type 'stop' to 'end') which institute also\n",
      "Enter text (type 'stop' to 'end') stop\n"
     ]
    },
    {
     "name": "stdout",
     "output_type": "stream",
     "text": [
      " User input saved to 'copy.txt' \n"
     ]
    }
   ],
   "source": [
    "with open(\"copy.txt\", 'w') as line:\n",
    "    while True:\n",
    "        user_input = input(\"Enter text (type 'stop' to 'end')\")\n",
    "        if user_input == 'stop':\n",
    "            break\n",
    "            \n",
    "        line.write(user_input + \"\\n\")\n",
    "\n",
    "\n",
    "print(\" User input saved to 'copy.txt' \")"
   ]
  },
  {
   "cell_type": "code",
   "execution_count": 63,
   "id": "94fdb1b0-b77c-4cc0-8545-a788301358ca",
   "metadata": {},
   "outputs": [
    {
     "name": "stdout",
     "output_type": "stream",
     "text": [
      "which course are you present ?\n",
      "which institute also\n",
      "\n"
     ]
    }
   ],
   "source": [
    "with open(\"copy.txt\", 'r') as line:\n",
    "    content = line.read()\n",
    "    print(content)"
   ]
  },
  {
   "cell_type": "markdown",
   "id": "2e2f4f4c-2989-44a8-a7a3-932ce4773e23",
   "metadata": {},
   "source": [
    "## Q.18. Merge two files a.txt and b.txt into merged.txt."
   ]
  },
  {
   "cell_type": "code",
   "execution_count": 74,
   "id": "6e148a59-6bfa-4864-ad75-55faf695d79d",
   "metadata": {},
   "outputs": [
    {
     "name": "stdout",
     "output_type": "stream",
     "text": [
      "Files merged into 'Merged.txt' \n"
     ]
    }
   ],
   "source": [
    "with open(\"Trail.txt\", 'r') as file1, open(\"copy.txt\", 'r') as file2, open(\"Merged.txt\", 'w') as merged_file:\n",
    "    merged_file.write(file1.read())\n",
    "\n",
    "    merged_file.write(\"\\n\")\n",
    "\n",
    "    merged_file.write(file2.read())\n",
    "\n",
    "print(\"Files merged into 'Merged.txt' \")"
   ]
  },
  {
   "cell_type": "code",
   "execution_count": 76,
   "id": "934f9f41-60cb-4b86-ad16-b922172020af",
   "metadata": {},
   "outputs": [
    {
     "name": "stdout",
     "output_type": "stream",
     "text": [
      "Hi Sudheer Kumar\n",
      "\tHow are you \n",
      "\t\twhere are you ? python\n",
      "Copy text\n"
     ]
    }
   ],
   "source": [
    "with open(\"Merged.txt\" , 'r') as file:\n",
    "    \n",
    "    content = file.read()\n",
    "    print(content)"
   ]
  },
  {
   "cell_type": "markdown",
   "id": "5e4dc3f0-ba54-472a-82b8-59b88faf934e",
   "metadata": {},
   "source": [
    "## Q.19. Count and print the number of characters in a file.\n"
   ]
  },
  {
   "cell_type": "code",
   "execution_count": 79,
   "id": "8de4a5a6-9c7f-4e37-982e-36bfdbb050f1",
   "metadata": {},
   "outputs": [
    {
     "name": "stdout",
     "output_type": "stream",
     "text": [
      "Total 65 characters are available in the file\n"
     ]
    }
   ],
   "source": [
    "with open(\"Merged.txt\", 'r') as file:\n",
    "    content = file.read()\n",
    "    char_len = len(content)\n",
    "\n",
    "print(f\"Total {char_len} characters are available in the file\")"
   ]
  },
  {
   "cell_type": "markdown",
   "id": "ec8a4265-4558-46dd-844e-5d0a17d2ef5a",
   "metadata": {},
   "source": [
    "## Q.20. Replace all instances of \"bad\" with \"good\" in a file and save to a new file.\n"
   ]
  },
  {
   "cell_type": "code",
   "execution_count": 82,
   "id": "64791009-a87c-4976-9a20-05e80ea4153d",
   "metadata": {},
   "outputs": [
    {
     "name": "stdout",
     "output_type": "stream",
     "text": [
      "All instances 'bad' replaced with 'good' in 'copy.txt' \n"
     ]
    }
   ],
   "source": [
    "with open(\"Trail.txt\", 'r') as file1:\n",
    "    content = file1.read()\n",
    "\n",
    "updated_content = content.replace(\"bad\", \"good\")\n",
    "\n",
    "with open(\"copy.txt\", 'w') as file2:\n",
    "    file2.write(updated_content)\n",
    "\n",
    "print(\"All instances 'bad' replaced with 'good' in 'copy.txt' \")"
   ]
  },
  {
   "cell_type": "code",
   "execution_count": 84,
   "id": "fd8cab6d-c254-49d9-a24b-c6a46db61ff7",
   "metadata": {},
   "outputs": [
    {
     "name": "stdout",
     "output_type": "stream",
     "text": [
      "Hi Sudheer Kumar\n",
      "\tHow are you \n",
      "\t\twhere are you ? python \n",
      "\n",
      "\n",
      "very good\n",
      "good content\n",
      "good boy\n"
     ]
    }
   ],
   "source": [
    "with open(\"copy.txt\", 'r') as file3:\n",
    "    content = file3.read()\n",
    "    print(content)"
   ]
  },
  {
   "cell_type": "markdown",
   "id": "def55aee-da44-46e9-9f81-e2e98e94a667",
   "metadata": {},
   "source": [
    "## Exception Handling"
   ]
  },
  {
   "cell_type": "markdown",
   "id": "e8fa9dcd-45e2-4ff6-baa2-a6bb5864d18b",
   "metadata": {},
   "source": [
    "## Q.21. Write code that divides two numbers and handles division by zero"
   ]
  },
  {
   "cell_type": "code",
   "execution_count": 90,
   "id": "203c7a44-5c22-434e-ae1b-7e68b6cca84e",
   "metadata": {},
   "outputs": [
    {
     "name": "stdin",
     "output_type": "stream",
     "text": [
      "Enter first number:  1\n",
      "Enter second number:  0\n"
     ]
    },
    {
     "name": "stdout",
     "output_type": "stream",
     "text": [
      "number is not divisble by zero\n",
      "Successfully Completed\n"
     ]
    }
   ],
   "source": [
    "a = int(input(\"Enter first number: \"))\n",
    "b = int(input(\"Enter second number: \"))\n",
    "\n",
    "try :\n",
    "    c = a/b\n",
    "    print(c)\n",
    "\n",
    "except ZeroDivisionError:\n",
    "    print(\"number is not divisble by zero\")\n",
    "\n",
    "finally:\n",
    "    print(\"Successfully Completed\")"
   ]
  },
  {
   "cell_type": "markdown",
   "id": "acaca706-04b9-4303-ab30-ebef03001554",
   "metadata": {},
   "source": [
    "## Q.22. Ask user for a number and handle non-integer input."
   ]
  },
  {
   "cell_type": "code",
   "execution_count": 99,
   "id": "70f10964-bc35-4e17-b216-3d1823089cf4",
   "metadata": {},
   "outputs": [
    {
     "name": "stdin",
     "output_type": "stream",
     "text": [
      "Enter a number:  fafa\n"
     ]
    },
    {
     "name": "stdout",
     "output_type": "stream",
     "text": [
      "Only numbers are allowed\n",
      "Block of the code successfully executed\n"
     ]
    }
   ],
   "source": [
    "\n",
    "\n",
    "try:\n",
    "    user_input = int(input(\"Enter a number: \"))\n",
    "    print(user_input)\n",
    "\n",
    "except ValueError:\n",
    "    print(\"Only numbers are allowed\")\n",
    "\n",
    "finally:\n",
    "    print(\"Block of the code successfully executed\")"
   ]
  },
  {
   "cell_type": "markdown",
   "id": "53b9d327-8f57-4dc4-8e98-dd625e2f39d1",
   "metadata": {},
   "source": [
    "## Q.23. Access an index in a list, and handle index out of range?"
   ]
  },
  {
   "cell_type": "code",
   "execution_count": 102,
   "id": "32ef6532-82b0-4b8b-915f-a5cdeaffba24",
   "metadata": {},
   "outputs": [
    {
     "name": "stdout",
     "output_type": "stream",
     "text": [
      "Index out of range\n",
      "Successfully completed\n"
     ]
    }
   ],
   "source": [
    "fruits = [\"apple\", \"banana\", \"Orange\", \"grapes\"]\n",
    "\n",
    "try:\n",
    "    result = fruits[5]\n",
    "    print(result)\n",
    "\n",
    "except IndexError:\n",
    "    print(\"Index out of range\")\n",
    "\n",
    "finally:\n",
    "    print(\"Successfully completed\")"
   ]
  },
  {
   "cell_type": "markdown",
   "id": "5ea3bcab-2dd0-436d-8662-0d2aac702b9d",
   "metadata": {},
   "source": [
    "## Q.24. Handle a missing file error when trying to read a file.\n"
   ]
  },
  {
   "cell_type": "code",
   "execution_count": 105,
   "id": "b713549c-28b6-4977-a151-c8ad37903aae",
   "metadata": {},
   "outputs": [
    {
     "name": "stdout",
     "output_type": "stream",
     "text": [
      "The file doesn't exist in the current instance\n",
      "Successfully Completed\n"
     ]
    }
   ],
   "source": [
    "try:\n",
    "    x = open(\"sample.txt\", 'r')\n",
    "    x.read()\n",
    "except FileNotFoundError:\n",
    "    print(\"The file doesn't exist in the current instance\")\n",
    "\n",
    "finally:\n",
    "    print(\"Successfully Completed\")"
   ]
  },
  {
   "cell_type": "markdown",
   "id": "7627c33d-6335-4bda-977b-ca4e1f8648bc",
   "metadata": {},
   "source": [
    "## Q.25. Open a file, and always close it—even if an error occurs.\n"
   ]
  },
  {
   "cell_type": "code",
   "execution_count": 120,
   "id": "af814920-378e-460a-9caf-e9d0c4685b4d",
   "metadata": {},
   "outputs": [
    {
     "name": "stdout",
     "output_type": "stream",
     "text": [
      "An error occured:  [Errno 2] No such file or directory: 'Trail1.txt'\n"
     ]
    }
   ],
   "source": [
    "file = None\n",
    "try:\n",
    "    file = open(\"Trail1.txt\", 'r')\n",
    "    content = file.read()\n",
    "    print(content)\n",
    "except Exception as e:\n",
    "    print(\"An error occured: \",e)\n",
    "\n",
    "finally:\n",
    "    if file:\n",
    "        file.close()"
   ]
  },
  {
   "cell_type": "markdown",
   "id": "1bb470bc-11ca-49ec-bbdd-276650062961",
   "metadata": {},
   "source": [
    "## Q.26. Write a function that takes a filename and handles all exceptions when reading it.\n"
   ]
  },
  {
   "cell_type": "code",
   "execution_count": 127,
   "id": "6503ab96-8a11-4621-9269-48aa8e3e2cac",
   "metadata": {},
   "outputs": [
    {
     "name": "stdout",
     "output_type": "stream",
     "text": [
      "File doesn't exists in the current instances\n"
     ]
    }
   ],
   "source": [
    "def error_fun(file_name):\n",
    "    try:\n",
    "        file = open(file_name , 'r')\n",
    "        content = file.read()\n",
    "        print(content)\n",
    "    except FileNotFoundError:\n",
    "        print(\"File doesn't exists in the current instances\")\n",
    "    except PermissionError:\n",
    "        print(\"You don't have to access this file\")\n",
    "    except Exception as e:\n",
    "        print(\"An error occured: \",e)\n",
    "\n",
    "error_fun(\"Trail1.txt\")"
   ]
  },
  {
   "cell_type": "markdown",
   "id": "2c87e101-aad8-4ad7-a249-70430d609098",
   "metadata": {},
   "source": [
    "## Q.27. Use assert to check if a number is positive.\n"
   ]
  },
  {
   "cell_type": "code",
   "execution_count": 140,
   "id": "7b6aa228-0b88-49f0-ae08-18187b2fbdae",
   "metadata": {},
   "outputs": [
    {
     "name": "stdout",
     "output_type": "stream",
     "text": [
      "The number is positive\n",
      "The number is positive\n"
     ]
    }
   ],
   "source": [
    "def check_positive(number):\n",
    "    assert number > 0, \"Number must be positive\"\n",
    "    print(\"The number is positive\")\n",
    "\n",
    "check_positive(5)\n",
    "check_positive(3)"
   ]
  },
  {
   "cell_type": "markdown",
   "id": "44a53afb-4fcb-4786-a25e-cacb73700117",
   "metadata": {},
   "source": [
    "## Q.28. Create a custom exception class MyError and raise it."
   ]
  },
  {
   "cell_type": "code",
   "execution_count": 145,
   "id": "dd02524a-8d99-4179-9204-ba43363763a7",
   "metadata": {},
   "outputs": [
    {
     "name": "stdout",
     "output_type": "stream",
     "text": [
      "Caught MyError:  This is a custom error.\n"
     ]
    }
   ],
   "source": [
    "class MyError(Exception):\n",
    "    def __init__(self, message = \"something went wrong!\"):\n",
    "        self.message = message\n",
    "        super().__init__(self.message)\n",
    "\n",
    "try:\n",
    "    raise MyError(\"This is a custom error.\")\n",
    "\n",
    "except MyError as e:\n",
    "    print(\"Caught MyError: \",e)"
   ]
  },
  {
   "cell_type": "markdown",
   "id": "09d5fbc1-421a-4387-bbab-11df1b109668",
   "metadata": {},
   "source": [
    "## Q.29. Handle multiple exceptions: divide numbers and convert strings to int."
   ]
  },
  {
   "cell_type": "code",
   "execution_count": 152,
   "id": "8609d202-bf62-48aa-acde-4cf268441c66",
   "metadata": {},
   "outputs": [
    {
     "name": "stdout",
     "output_type": "stream",
     "text": [
      "Result of division:  0.6666666666666666\n",
      "Error: Division by zero not allowed\n",
      "Error: Please enter valid integers\n"
     ]
    }
   ],
   "source": [
    "def safe_divide_and_convert(a,b):\n",
    "    try:\n",
    "        c = int(a)\n",
    "        d = int(b)\n",
    "        e = c/d\n",
    "        print(\"Result of division: \",e)\n",
    "    except ValueError:\n",
    "        print(\"Error: Please enter valid integers\")\n",
    "    except ZeroDivisionError:\n",
    "        print(\"Error: Division by zero not allowed\")\n",
    "    except Exception as e:\n",
    "        print(\"An unexpected error occured\")\n",
    "\n",
    "safe_divide_and_convert(\"10\",\"15\")\n",
    "safe_divide_and_convert(\"10\",\"0\")\n",
    "safe_divide_and_convert(\"number\",\"0\")"
   ]
  },
  {
   "cell_type": "markdown",
   "id": "2e110295-9148-4d00-9dbc-ff6756558095",
   "metadata": {},
   "source": [
    "## Q.30. Log an exception message instead of printing it."
   ]
  },
  {
   "cell_type": "code",
   "execution_count": 173,
   "id": "4851fa92-7933-44b8-bab8-b8d7133b858e",
   "metadata": {},
   "outputs": [],
   "source": [
    "import logging\n",
    "\n",
    "logging.basicConfig(filename = \"error.log\", level = logging.ERROR, format = '%(asctime)s - %(levelname)s - %(message)s')\n",
    "\n",
    "\n",
    "try:\n",
    "    result = 1/0\n",
    "except Exception as e:\n",
    "    logging.exception(f\"Exception occured {e}\")\n",
    "\n"
   ]
  },
  {
   "cell_type": "markdown",
   "id": "ff6ee8e8-eb83-44f0-b8fa-9e69ac7466f3",
   "metadata": {},
   "source": [
    "## Q.31. Use try-except-else to perform an operation only if no error occurs.\n"
   ]
  },
  {
   "cell_type": "code",
   "execution_count": 176,
   "id": "47bca341-6610-4c8a-af91-826f4b6525c6",
   "metadata": {},
   "outputs": [
    {
     "name": "stdout",
     "output_type": "stream",
     "text": [
      "Cannot divide by zero!\n"
     ]
    }
   ],
   "source": [
    "try:\n",
    "    result = 10/0\n",
    "\n",
    "except ZeroDivisionError:\n",
    "    print(\"Cannot divide by zero!\")\n",
    "else:\n",
    "    print(\"Division successful, result is: \",result)"
   ]
  },
  {
   "cell_type": "markdown",
   "id": "6d4b582a-68d3-444c-89a4-5d730f6d42be",
   "metadata": {},
   "source": [
    "## Q.32. Use try-except-finally to always print \"Done\".\n"
   ]
  },
  {
   "cell_type": "code",
   "execution_count": 179,
   "id": "52e9d659-6b6f-40aa-99a2-24a04c637a32",
   "metadata": {},
   "outputs": [
    {
     "name": "stdin",
     "output_type": "stream",
     "text": [
      "Enter a number:  5\n"
     ]
    },
    {
     "name": "stdout",
     "output_type": "stream",
     "text": [
      "Result:  2.0\n",
      "done\n"
     ]
    }
   ],
   "source": [
    "try:\n",
    "    number = int(input(\"Enter a number: \"))\n",
    "    result = 10 / number\n",
    "    print(\"Result: \",result)\n",
    "except ZeroDivisionError:\n",
    "    print(\"You cannot divide by zero\")\n",
    "except ValueError:\n",
    "    print(\"Please enter a valid number: \")\n",
    "finally:\n",
    "    print(\"done\")"
   ]
  },
  {
   "cell_type": "markdown",
   "id": "e45025b5-8cf8-43df-8055-56188be03087",
   "metadata": {},
   "source": [
    "## Q.33. Raise a ValueError if a function gets an empty string."
   ]
  },
  {
   "cell_type": "code",
   "execution_count": 192,
   "id": "9dec77ae-95ba-4654-8abc-ba5adb045345",
   "metadata": {},
   "outputs": [
    {
     "name": "stdin",
     "output_type": "stream",
     "text": [
      "Enter something:  \n"
     ]
    },
    {
     "name": "stdout",
     "output_type": "stream",
     "text": [
      "Error:  Input cannot be an empty string.\n"
     ]
    }
   ],
   "source": [
    "def process_input(text):\n",
    "    if text == \"\":\n",
    "        raise ValueError(\"Input cannot be an empty string.\")\n",
    "    print(\"You entered: \",text)\n",
    "\n",
    "try:\n",
    "    user_input = input(\"Enter something: \")\n",
    "    process_input(user_input)\n",
    "except ValueError as ve:\n",
    "    print(\"Error: \",ve)"
   ]
  },
  {
   "cell_type": "markdown",
   "id": "593a3ed4-4c57-4349-bb77-5dd25258193d",
   "metadata": {},
   "source": [
    "## Q.34. Catch and display the exact type of an unknown exception.\n"
   ]
  },
  {
   "cell_type": "code",
   "execution_count": 195,
   "id": "26a4640a-d906-4273-9af1-0a0b48241220",
   "metadata": {},
   "outputs": [
    {
     "name": "stdout",
     "output_type": "stream",
     "text": [
      "Caught an exception of type:  ValueError\n",
      "Error message:  invalid literal for int() with base 10: 'abc'\n"
     ]
    }
   ],
   "source": [
    "try:\n",
    "    x = int(\"abc\")\n",
    "\n",
    "except Exception as e:\n",
    "    print(\"Caught an exception of type: \",type(e).__name__)\n",
    "    print(\"Error message: \",e)"
   ]
  },
  {
   "cell_type": "markdown",
   "id": "67d462ad-6af5-4b28-ae6b-03f41dc7b393",
   "metadata": {},
   "source": [
    "## Q.35. Retry user input until it's a valid integer.\n"
   ]
  },
  {
   "cell_type": "code",
   "execution_count": 200,
   "id": "4a8b0dbd-f5ba-44ba-a4d5-885df9a52e30",
   "metadata": {},
   "outputs": [
    {
     "name": "stdin",
     "output_type": "stream",
     "text": [
      "Enter a valid integer:  cdsfkdsjsd\n"
     ]
    },
    {
     "name": "stdout",
     "output_type": "stream",
     "text": [
      "Invalid input. Please enter an integer.\n"
     ]
    },
    {
     "name": "stdin",
     "output_type": "stream",
     "text": [
      "Enter a valid integer:  sjfdsjfsda\n"
     ]
    },
    {
     "name": "stdout",
     "output_type": "stream",
     "text": [
      "Invalid input. Please enter an integer.\n"
     ]
    },
    {
     "name": "stdin",
     "output_type": "stream",
     "text": [
      "Enter a valid integer:  sa\n"
     ]
    },
    {
     "name": "stdout",
     "output_type": "stream",
     "text": [
      "Invalid input. Please enter an integer.\n"
     ]
    },
    {
     "name": "stdin",
     "output_type": "stream",
     "text": [
      "Enter a valid integer:  fsd\n"
     ]
    },
    {
     "name": "stdout",
     "output_type": "stream",
     "text": [
      "Invalid input. Please enter an integer.\n"
     ]
    },
    {
     "name": "stdin",
     "output_type": "stream",
     "text": [
      "Enter a valid integer:  2\n"
     ]
    },
    {
     "name": "stdout",
     "output_type": "stream",
     "text": [
      "You entered:  2\n"
     ]
    }
   ],
   "source": [
    "while True:\n",
    "    try:\n",
    "        user_input = input(\"Enter a valid integer: \")\n",
    "        number = int(user_input)\n",
    "        print(\"You entered: \",number)\n",
    "        break\n",
    "    except ValueError:\n",
    "        print(\"Invalid input. Please enter an integer.\")"
   ]
  },
  {
   "cell_type": "markdown",
   "id": "dfce4133-afe5-4604-8a6e-7682be7c19d5",
   "metadata": {},
   "source": [
    "## Q.36. Handle an error when converting a string to a float.\n"
   ]
  },
  {
   "cell_type": "code",
   "execution_count": 205,
   "id": "75b34a74-41c6-4c88-acd6-89a96fbe14c2",
   "metadata": {},
   "outputs": [
    {
     "name": "stdin",
     "output_type": "stream",
     "text": [
      "Enter a number:  5\n"
     ]
    },
    {
     "name": "stdout",
     "output_type": "stream",
     "text": [
      "You entered:  5.0\n"
     ]
    }
   ],
   "source": [
    "try:\n",
    "    user_input = input(\"Enter a number: \")\n",
    "    number = float(user_input)\n",
    "    print(\"You entered: \",number)\n",
    "except ValueError:\n",
    "    print(\"Invalid input. Please enter a valid number.\")"
   ]
  },
  {
   "cell_type": "markdown",
   "id": "c781a037-dba9-4244-ad70-50f406ab7966",
   "metadata": {},
   "source": [
    "## Q.37. Catch file permission errors"
   ]
  },
  {
   "cell_type": "code",
   "execution_count": 212,
   "id": "7da22544-7a66-4fb7-b7f6-e64f69469864",
   "metadata": {},
   "outputs": [],
   "source": [
    "try:\n",
    "    with open(\"Trail.txt\", \"w\") as f:\n",
    "        f.write(\"Testing permission Error. \")\n",
    "except PermissionError:\n",
    "    print(\"Permission denied: You don't have access to this file.\")"
   ]
  },
  {
   "cell_type": "markdown",
   "id": "519a6ef5-1bd9-4e8f-a1ec-2a81b263d6ca",
   "metadata": {},
   "source": [
    "## Q.38. Catch an error when trying to convert a string to a date."
   ]
  },
  {
   "cell_type": "code",
   "execution_count": 217,
   "id": "44367131-b0ca-401c-a95b-bc7da3170966",
   "metadata": {},
   "outputs": [
    {
     "name": "stdin",
     "output_type": "stream",
     "text": [
      "Enter a date (YYYY-MM_DD):  2025/06/10\n"
     ]
    },
    {
     "name": "stdout",
     "output_type": "stream",
     "text": [
      "Invalid date format. Please use YYYY-MM_DD.\n"
     ]
    }
   ],
   "source": [
    "from datetime import datetime\n",
    "\n",
    "date_string = input(\"Enter a date (YYYY-MM_DD): \")\n",
    "\n",
    "try:\n",
    "    date_obj = datetime.strptime(date_string,\"%Y-%m-%d\")\n",
    "    print(\"Valid date: \",date_obj)\n",
    "except ValueError:\n",
    "    print(\"Invalid date format. Please use YYYY-MM_DD.\")"
   ]
  },
  {
   "cell_type": "markdown",
   "id": "538a409d-4b9a-4dd4-86e3-ace5f519e116",
   "metadata": {},
   "source": [
    "## Q.39. Read a JSON file and handle malformed JSON.\n"
   ]
  },
  {
   "cell_type": "code",
   "execution_count": 222,
   "id": "a9573e0c-82ef-4db2-aaf4-20bdbedbf47e",
   "metadata": {},
   "outputs": [
    {
     "name": "stdout",
     "output_type": "stream",
     "text": [
      "Maiformed JSON. Please check the file content.\n"
     ]
    }
   ],
   "source": [
    "import json\n",
    "\n",
    "try:\n",
    "    with open(\"Trail.txt\", \"r\") as file:\n",
    "        data = json.load(file)\n",
    "        print(\"JSON data: \",data)\n",
    "except FileNotFoundError:\n",
    "    print(\"File not found.\")\n",
    "except json.JSONDecodeError:\n",
    "    print(\"Maiformed JSON. Please check the file content.\")"
   ]
  },
  {
   "cell_type": "markdown",
   "id": "afc3dbe5-e542-48cd-bee8-5249d31f0d20",
   "metadata": {},
   "source": [
    "## Q.40. Write a wrapper function that catches any exception and returns \"error occurred\" if something fails.\n"
   ]
  },
  {
   "cell_type": "code",
   "execution_count": 227,
   "id": "1a518dfa-f17b-459c-b045-8bb1ea7ce69a",
   "metadata": {},
   "outputs": [],
   "source": [
    "def safe_wrapper(func):\n",
    "    def wrapper(*args, **kwargs):\n",
    "        try:\n",
    "            return func(*args, **kwargs)\n",
    "        except Exception:\n",
    "            return \"Error occured\"\n",
    "    return wrapper"
   ]
  },
  {
   "cell_type": "code",
   "execution_count": null,
   "id": "b006b7cd-9ebd-4739-b2f1-75adc057c975",
   "metadata": {},
   "outputs": [],
   "source": []
  }
 ],
 "metadata": {
  "kernelspec": {
   "display_name": "Python [conda env:base] *",
   "language": "python",
   "name": "conda-base-py"
  },
  "language_info": {
   "codemirror_mode": {
    "name": "ipython",
    "version": 3
   },
   "file_extension": ".py",
   "mimetype": "text/x-python",
   "name": "python",
   "nbconvert_exporter": "python",
   "pygments_lexer": "ipython3",
   "version": "3.12.7"
  }
 },
 "nbformat": 4,
 "nbformat_minor": 5
}
