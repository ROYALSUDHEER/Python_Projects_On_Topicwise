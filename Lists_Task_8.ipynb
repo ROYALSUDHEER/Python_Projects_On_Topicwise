{
 "cells": [
  {
   "cell_type": "markdown",
   "id": "fba0659b-37e3-4d71-8f40-e303e015fc10",
   "metadata": {},
   "source": [
    "# Lists"
   ]
  },
  {
   "cell_type": "markdown",
   "id": "d418e560-40ee-4240-9811-a0f2643e6b04",
   "metadata": {},
   "source": [
    "## list Creation & Indexing"
   ]
  },
  {
   "cell_type": "markdown",
   "id": "e4547d89-2261-463b-9fee-01c3b9b2520f",
   "metadata": {},
   "source": [
    "### 1.Create a list of 5 fruits. print the third fruit ?"
   ]
  },
  {
   "cell_type": "code",
   "execution_count": 7,
   "id": "ee7a629d-c5a2-4a2b-a381-b15092d1345e",
   "metadata": {},
   "outputs": [
    {
     "name": "stdout",
     "output_type": "stream",
     "text": [
      "Grapes\n"
     ]
    }
   ],
   "source": [
    "fruit_list = [\"banana\", \"Orange\", \"Grapes\", \"papaya\", \"guava\"]\n",
    "Third_fruit = fruit_list[2]\n",
    "print(Third_fruit)"
   ]
  },
  {
   "cell_type": "markdown",
   "id": "4bc7a844-c635-4c4b-991e-04f9ab5c6244",
   "metadata": {},
   "source": [
    "### 2.Given colors = [\"red\", \"blue\", \"green\"] replace \"blue with \"yellow\" using indexing ?"
   ]
  },
  {
   "cell_type": "code",
   "execution_count": 10,
   "id": "79f20829-5a11-493b-9204-811d9175e0df",
   "metadata": {},
   "outputs": [
    {
     "name": "stdout",
     "output_type": "stream",
     "text": [
      "['red', 'yellow', 'green']\n"
     ]
    }
   ],
   "source": [
    "Given_colors = [\"red\", \"blue\", \"green\"]\n",
    "Given_colors[1] = \"yellow\"\n",
    "print(Given_colors)"
   ]
  },
  {
   "cell_type": "markdown",
   "id": "f0e870ca-7ba9-4aa8-aaeb-f5cf2f6debeb",
   "metadata": {},
   "source": [
    "### 3.Print the last element of the list x = [10, 20, 30, 40,] using negative indexing ?"
   ]
  },
  {
   "cell_type": "code",
   "execution_count": 15,
   "id": "fbc5ecc9-5999-4fd6-89fe-06e5d0945d75",
   "metadata": {},
   "outputs": [
    {
     "name": "stdout",
     "output_type": "stream",
     "text": [
      "40\n"
     ]
    }
   ],
   "source": [
    "x = [10, 20, 30, 40]\n",
    "Negaive_indexing_value = x[-1]\n",
    "print(Negaive_indexing_value)"
   ]
  },
  {
   "cell_type": "markdown",
   "id": "154733ce-7517-47ba-bc9e-8add9db83741",
   "metadata": {},
   "source": [
    "### 4.Create a list with a single string: \"python\".Convert it to a list of characters ?"
   ]
  },
  {
   "cell_type": "code",
   "execution_count": 34,
   "id": "669902e9-900c-4ecb-9e44-83a2a9f25ad8",
   "metadata": {},
   "outputs": [
    {
     "name": "stdout",
     "output_type": "stream",
     "text": [
      "['p', 'y', 't', 'h', 'o', 'n']\n"
     ]
    }
   ],
   "source": [
    "list1 = [\"python\"]\n",
    "list2 = list(list1[0])\n",
    "print(list2)"
   ]
  },
  {
   "cell_type": "markdown",
   "id": "0c8fdd55-e4dc-47e7-a68e-cd148df9b0b9",
   "metadata": {},
   "source": [
    "### 5.From the list a = ['a', 'b', 'c', 'd'], create a new list with only the first and last elements ?"
   ]
  },
  {
   "cell_type": "code",
   "execution_count": 68,
   "id": "5323d8ec-ea0b-420c-9af3-0b7d043c3c70",
   "metadata": {},
   "outputs": [
    {
     "name": "stdout",
     "output_type": "stream",
     "text": [
      "['a', 'c']\n"
     ]
    }
   ],
   "source": [
    "a = ['a', 'b', 'c', 'd']\n",
    "b = a[0],a[2]\n",
    "#c = list(b)\n",
    "print(c)"
   ]
  },
  {
   "cell_type": "markdown",
   "id": "360bf399-9411-4959-82a9-dda4f6b5f5a5",
   "metadata": {},
   "source": [
    "## List methods: append(), insert()"
   ]
  },
  {
   "cell_type": "markdown",
   "id": "d065224d-e9cd-4a83-9887-05f9ac0564ac",
   "metadata": {},
   "source": [
    "### 6.Create an empty list and append 3 strings into it, one by one."
   ]
  },
  {
   "cell_type": "code",
   "execution_count": 76,
   "id": "ce9ccc9a-86ab-4cdb-92d0-c1d985d3b5bc",
   "metadata": {},
   "outputs": [
    {
     "name": "stdout",
     "output_type": "stream",
     "text": [
      "['pytho', 'sql', 'excel']\n"
     ]
    }
   ],
   "source": [
    "Empty_list = []\n",
    "Empty_list.append(\"pytho\")\n",
    "Empty_list.append(\"sql\")\n",
    "Empty_list.append(\"excel\")\n",
    "print(Empty_list)"
   ]
  },
  {
   "cell_type": "markdown",
   "id": "0d53cd69-49bb-4afb-bc61-d77119be1ff5",
   "metadata": {},
   "source": [
    "### 7.Insert \"apple\" at the beginning of the list fruits = [\"banana\", \"mango\"]"
   ]
  },
  {
   "cell_type": "code",
   "execution_count": 99,
   "id": "af5b6707-2be6-4b1e-aecb-21ea455c0c2d",
   "metadata": {},
   "outputs": [
    {
     "name": "stdout",
     "output_type": "stream",
     "text": [
      "['apple', 'banana', 'mango']\n"
     ]
    }
   ],
   "source": [
    "fruits = [\"banana\", \"mango\"]\n",
    "fruits.insert(0, 'apple')\n",
    "print(fruits)"
   ]
  },
  {
   "cell_type": "markdown",
   "id": "28aadb2c-9cb5-4fc1-969b-ade66f48ce54",
   "metadata": {},
   "source": [
    "### 8.Given nums = [1, 2, 4] ,insert 3 between 2 and 4"
   ]
  },
  {
   "cell_type": "code",
   "execution_count": 107,
   "id": "115522da-d4d8-4aea-84e6-e22ed84b6561",
   "metadata": {},
   "outputs": [
    {
     "name": "stdout",
     "output_type": "stream",
     "text": [
      "[1, 2, 3, 4]\n"
     ]
    }
   ],
   "source": [
    "nums = [1, 2, 4]\n",
    "nums.insert(2,3)\n",
    "print(nums)"
   ]
  },
  {
   "cell_type": "markdown",
   "id": "80528993-a38f-4c11-a72b-4068b32f8d04",
   "metadata": {},
   "source": [
    "### 9.Append a list [4,5] to x = [1,2,3] Obseve the structure of x."
   ]
  },
  {
   "cell_type": "code",
   "execution_count": 110,
   "id": "6182d8af-011b-4d70-96ed-17fd4e870651",
   "metadata": {},
   "outputs": [
    {
     "name": "stdout",
     "output_type": "stream",
     "text": [
      "[1, 2, 3, [4, 5]]\n"
     ]
    }
   ],
   "source": [
    "x = [1,2,3]\n",
    "x.append([4,5])\n",
    "print(x)"
   ]
  },
  {
   "cell_type": "markdown",
   "id": "0e1ba57b-5995-40fe-8715-53b0f4b9b04f",
   "metadata": {},
   "source": [
    "### 10.Insert a list[4,5] into x = [1,2,3] at index1. what does the final list look like ?"
   ]
  },
  {
   "cell_type": "code",
   "execution_count": 113,
   "id": "6b22b2d3-ddf5-4a80-bac0-5b4a76f8c4de",
   "metadata": {},
   "outputs": [
    {
     "name": "stdout",
     "output_type": "stream",
     "text": [
      "[1, [4, 5], 2, 3]\n"
     ]
    }
   ],
   "source": [
    "x = [1,2,3]\n",
    "x.insert(1,[4,5])\n",
    "print(x)"
   ]
  },
  {
   "cell_type": "markdown",
   "id": "39bb49a4-2e74-4e1f-8e96-810f3c452ece",
   "metadata": {},
   "source": [
    "## List methods : extend() vs append()"
   ]
  },
  {
   "cell_type": "markdown",
   "id": "1ef8861e-6b6d-470c-9a42-9685b33f0658",
   "metadata": {},
   "source": [
    "### 11. Create two lists and merge them using extend() ?"
   ]
  },
  {
   "cell_type": "code",
   "execution_count": 119,
   "id": "cc212385-a6b8-4a9d-bb08-9b5784904761",
   "metadata": {},
   "outputs": [
    {
     "name": "stdout",
     "output_type": "stream",
     "text": [
      "['Python', 'sql', 'excel', 1, 2, 3]\n"
     ]
    }
   ],
   "source": [
    "list1 = [\"Python\", \"sql\", \"excel\"]\n",
    "list2 = [1,2,3]\n",
    "list1.extend(list2)\n",
    "print(list1)"
   ]
  },
  {
   "cell_type": "markdown",
   "id": "60a228d7-b299-457a-8fe0-62cc3f209eca",
   "metadata": {},
   "source": [
    "## 12. What's the difference between using x.append(y) and x.extend(y)?"
   ]
  },
  {
   "cell_type": "markdown",
   "id": "4f2dbf1d-c787-452e-8e7b-c34545733ad1",
   "metadata": {},
   "source": [
    "- The difference between x.append(y) and x.extend(y) lies in how add elements to the list x:\n",
    "- x.append()\n",
    "- adds the entire object y as a single elements at the end of the list.\n",
    "- Ex :- x = [1,2]\n",
    "-       x.append([3,4])\n",
    "-       print(x)\n",
    "-x.extend(y)\n",
    "- iteres over y and adds each elements of y to list individually\n",
    "- Ex :- x = [1,2]\n",
    "-       x.extend([3,4])\n",
    "-       print(x)\n"
   ]
  },
  {
   "cell_type": "markdown",
   "id": "31ca757d-0b74-4335-9e88-c54a9a16a71c",
   "metadata": {},
   "source": [
    "### 13.Given a = [1,2] and b = [3,4] apply both a.append(b) and a.extend(b) seperately.Observe the result."
   ]
  },
  {
   "cell_type": "code",
   "execution_count": 126,
   "id": "ab3c3dee-d36e-4b31-9f06-227eee4e4e32",
   "metadata": {},
   "outputs": [
    {
     "name": "stdout",
     "output_type": "stream",
     "text": [
      "[1, 2, [3, 4]]\n"
     ]
    }
   ],
   "source": [
    "a = [1,2]\n",
    "b = [3,4]\n",
    "a.append(b)\n",
    "print(a)"
   ]
  },
  {
   "cell_type": "markdown",
   "id": "6d8cc3cd-04e0-4db2-97e5-a2fd29fb18fd",
   "metadata": {},
   "source": [
    "- b is added as a single element(a nested list)"
   ]
  },
  {
   "cell_type": "code",
   "execution_count": 128,
   "id": "795d5b4c-1a86-481c-a72d-f921826fa17e",
   "metadata": {},
   "outputs": [
    {
     "name": "stdout",
     "output_type": "stream",
     "text": [
      "[1, 2, [3, 4], 3, 4]\n"
     ]
    }
   ],
   "source": [
    "a.extend(b)\n",
    "print(a)"
   ]
  },
  {
   "cell_type": "markdown",
   "id": "cec3fb5c-a256-4419-8c77-cec96e5ab239",
   "metadata": {},
   "source": [
    "- The elements of b are added individually to the end of a "
   ]
  },
  {
   "cell_type": "markdown",
   "id": "2a1383bd-b5dd-42db-ad51-2e0b4b78214c",
   "metadata": {},
   "source": [
    "## List methods: remove(), pop(), clear()"
   ]
  },
  {
   "cell_type": "markdown",
   "id": "17d617b4-1d12-4b58-8017-c37a84d376ad",
   "metadata": {},
   "source": [
    "### 14. Given items = [\"pen\", \"book\", \"eraser\"], remove \"book\" ?"
   ]
  },
  {
   "cell_type": "code",
   "execution_count": 137,
   "id": "10923c7b-9d1a-4f8f-b869-494e9ba93d87",
   "metadata": {},
   "outputs": [
    {
     "name": "stdout",
     "output_type": "stream",
     "text": [
      "['pen', 'eraser']\n"
     ]
    }
   ],
   "source": [
    "items = [\"pen\", \"book\", \"eraser\"]\n",
    "items.remove(\"book\")\n",
    "print(items)"
   ]
  },
  {
   "cell_type": "markdown",
   "id": "983837a9-6fd9-4575-b085-afda0738f685",
   "metadata": {},
   "source": [
    "### 15.pop the last element from x = [10, 20, 30,40] and print the popped value ?"
   ]
  },
  {
   "cell_type": "code",
   "execution_count": 141,
   "id": "93c51a91-8c9c-475d-8cb2-7b2e3f4a3b4c",
   "metadata": {},
   "outputs": [
    {
     "name": "stdout",
     "output_type": "stream",
     "text": [
      "[10, 20, 30]\n"
     ]
    }
   ],
   "source": [
    "x = [10, 20,30,40]\n",
    "x.pop()\n",
    "print(x)"
   ]
  },
  {
   "cell_type": "markdown",
   "id": "8e4a19e8-ca8b-4b8e-ba26-313f67925c79",
   "metadata": {},
   "source": [
    "### 16.Remove the element at index 1 in names = ['john', 'Jane', 'Jake'] ?"
   ]
  },
  {
   "cell_type": "code",
   "execution_count": 150,
   "id": "77504be9-973d-48a0-8449-6424b4249028",
   "metadata": {},
   "outputs": [
    {
     "name": "stdout",
     "output_type": "stream",
     "text": [
      "['john', 'Jake']\n"
     ]
    }
   ],
   "source": [
    "names = ['john', 'Jane', 'Jake']\n",
    "names.remove('Jane')\n",
    "print(names)"
   ]
  },
  {
   "cell_type": "markdown",
   "id": "cd790300-f9ea-4760-829c-94593d3cc06c",
   "metadata": {},
   "source": [
    "### 17.Clear all items from cities = ['delhi', 'mumbai', 'chennai'] using one method ?"
   ]
  },
  {
   "cell_type": "code",
   "execution_count": 153,
   "id": "e24929a6-4bc5-4204-b33c-f9ff534e35cf",
   "metadata": {},
   "outputs": [
    {
     "name": "stdout",
     "output_type": "stream",
     "text": [
      "[]\n"
     ]
    }
   ],
   "source": [
    "cities = ['delhi', 'mumbai', 'chennai']\n",
    "cities.clear()\n",
    "print(cities)"
   ]
  },
  {
   "cell_type": "markdown",
   "id": "eec11d0d-cb6f-48c8-a932-6071e7d9a568",
   "metadata": {},
   "source": [
    "### 18. Try removing an element that doesn't exist in the list. What happens?"
   ]
  },
  {
   "cell_type": "code",
   "execution_count": 156,
   "id": "eeab7370-7334-421c-b13e-5246edb760f9",
   "metadata": {},
   "outputs": [
    {
     "ename": "ValueError",
     "evalue": "list.remove(x): x not in list",
     "output_type": "error",
     "traceback": [
      "\u001b[1;31m---------------------------------------------------------------------------\u001b[0m",
      "\u001b[1;31mValueError\u001b[0m                                Traceback (most recent call last)",
      "Cell \u001b[1;32mIn[156], line 2\u001b[0m\n\u001b[0;32m      1\u001b[0m l1 \u001b[38;5;241m=\u001b[39m [\u001b[38;5;241m1\u001b[39m,\u001b[38;5;241m2\u001b[39m,\u001b[38;5;241m3\u001b[39m,\u001b[38;5;241m4\u001b[39m]\n\u001b[1;32m----> 2\u001b[0m l1\u001b[38;5;241m.\u001b[39mremove(\u001b[38;5;241m5\u001b[39m)\n\u001b[0;32m      3\u001b[0m \u001b[38;5;28mprint\u001b[39m(l1)\n",
      "\u001b[1;31mValueError\u001b[0m: list.remove(x): x not in list"
     ]
    }
   ],
   "source": [
    "l1 = [1,2,3,4]\n",
    "l1.remove(5)\n",
    "print(l1)"
   ]
  },
  {
   "cell_type": "markdown",
   "id": "7dfe4579-ec5a-480d-bee0-bf83f95cfeb9",
   "metadata": {},
   "source": [
    "# List methods: count(), index()"
   ]
  },
  {
   "cell_type": "markdown",
   "id": "6bcffef3-9395-4d53-bcce-e9c09b2d2f78",
   "metadata": {},
   "source": [
    "### 19.Count how many times 0 appears in a = [0, 1, 0, 2, 0, 3]"
   ]
  },
  {
   "cell_type": "code",
   "execution_count": 162,
   "id": "c30b9959-9252-404d-8c8c-a5cc75a41ac2",
   "metadata": {},
   "outputs": [
    {
     "data": {
      "text/plain": [
       "3"
      ]
     },
     "execution_count": 162,
     "metadata": {},
     "output_type": "execute_result"
    }
   ],
   "source": [
    "a = [0, 1, 0, 2, 0, 3]\n",
    "a.count(0)"
   ]
  },
  {
   "cell_type": "markdown",
   "id": "99a6889e-ea82-4fef-923b-e163761c463b",
   "metadata": {},
   "source": [
    "### 20.Find the index of 'cat' in the list an animals = ['dog', 'cat', 'mouse']`"
   ]
  },
  {
   "cell_type": "code",
   "execution_count": 165,
   "id": "44ac4fd3-33c4-4777-b48c-d8f64e0fb7c5",
   "metadata": {},
   "outputs": [
    {
     "data": {
      "text/plain": [
       "1"
      ]
     },
     "execution_count": 165,
     "metadata": {},
     "output_type": "execute_result"
    }
   ],
   "source": [
    "animals = ['dog', 'cat', 'mouse']\n",
    "animals.index('cat')"
   ]
  },
  {
   "cell_type": "markdown",
   "id": "8b88cc76-2fa3-461b-825b-66ef8e95a669",
   "metadata": {},
   "source": [
    "### 21. Try finding the index of an item that appears multiple times . which index is returned ?"
   ]
  },
  {
   "cell_type": "code",
   "execution_count": 172,
   "id": "10de5e22-100d-443b-bed9-0bc23e59496e",
   "metadata": {},
   "outputs": [
    {
     "name": "stdout",
     "output_type": "stream",
     "text": [
      "1\n"
     ]
    }
   ],
   "source": [
    "a = [0, 2, 2, 0, 2]\n",
    "index_postion = a.index(2)\n",
    "print(index_postion)"
   ]
  },
  {
   "cell_type": "markdown",
   "id": "8f58f2a3-c8fe-4609-886b-2099afc6135d",
   "metadata": {},
   "source": [
    "### 22.use .count() to check if a value exists in the list or not(returns 0 or more)"
   ]
  },
  {
   "cell_type": "code",
   "execution_count": 175,
   "id": "cf95001d-c13f-447c-866b-d1b83ecbbdc6",
   "metadata": {},
   "outputs": [
    {
     "data": {
      "text/plain": [
       "0"
      ]
     },
     "execution_count": 175,
     "metadata": {},
     "output_type": "execute_result"
    }
   ],
   "source": [
    "a = [1,2,3,4,5,5]\n",
    "a.count(6)"
   ]
  },
  {
   "cell_type": "markdown",
   "id": "0291c4e6-29e7-4d03-ad35-76d3ffd09768",
   "metadata": {},
   "source": [
    "# List Methods: copy() vs Assignment"
   ]
  },
  {
   "cell_type": "markdown",
   "id": "6faa0096-c027-42db-8833-6c6abde0b50d",
   "metadata": {},
   "source": [
    "### 23. Create a list a, and assign it to b. Modify b and see if a is affected. ?"
   ]
  },
  {
   "cell_type": "code",
   "execution_count": 187,
   "id": "7fd60b34-647b-4bfe-92d0-c3c5d6948452",
   "metadata": {},
   "outputs": [
    {
     "name": "stdout",
     "output_type": "stream",
     "text": [
      "['python', 'Java', 'C#', 'C']\n",
      "['python', 'Java', 'C#', 'C']\n"
     ]
    }
   ],
   "source": [
    "a = [\"python\", \"Java\", \"C#\"]\n",
    "b = a \n",
    "a.append(\"C\")\n",
    "print(a)\n",
    "print(b)"
   ]
  },
  {
   "cell_type": "markdown",
   "id": "b1f747ed-ce61-4f5e-bd23-98aeb1cf9f36",
   "metadata": {},
   "source": [
    "### 24.Create a list a, copy it into b using .copy(). Modify b and check a."
   ]
  },
  {
   "cell_type": "code",
   "execution_count": 190,
   "id": "3b5548b6-ed8c-4922-998b-fc8b4c5854b3",
   "metadata": {},
   "outputs": [
    {
     "name": "stdout",
     "output_type": "stream",
     "text": [
      "['python', 'java', 'C#', 'C']\n",
      "['python', 'java', 'C#']\n"
     ]
    }
   ],
   "source": [
    "a = [\"python\", \"java\", \"C#\"]\n",
    "b = a.copy()\n",
    "a.append(\"C\")\n",
    "print(a)\n",
    "print(b)"
   ]
  },
  {
   "cell_type": "markdown",
   "id": "60961e92-ba86-45d4-8c49-16d0e6fbef95",
   "metadata": {},
   "source": [
    "# List methods: sort() and reverse()"
   ]
  },
  {
   "cell_type": "markdown",
   "id": "63bb2ca4-ab36-44f3-8443-3692f86666ed",
   "metadata": {},
   "source": [
    "### 25.Sort x = [5,3,9,1] in ascending order ?"
   ]
  },
  {
   "cell_type": "code",
   "execution_count": 195,
   "id": "3bd4deaf-f291-4235-9e4c-2c5cd273ebeb",
   "metadata": {},
   "outputs": [
    {
     "name": "stdout",
     "output_type": "stream",
     "text": [
      "[1, 3, 5, 9]\n"
     ]
    }
   ],
   "source": [
    "x = [5, 3, 9, 1]\n",
    "x.sort()\n",
    "print(x)"
   ]
  },
  {
   "cell_type": "markdown",
   "id": "78c3e038-e387-420f-b338-d963941a487f",
   "metadata": {},
   "source": [
    "### 26.Reverse the order of elements in x = [10, 20,30] ?"
   ]
  },
  {
   "cell_type": "code",
   "execution_count": 207,
   "id": "845769d9-cc17-404e-8106-630ebc9a6b96",
   "metadata": {},
   "outputs": [
    {
     "name": "stdout",
     "output_type": "stream",
     "text": [
      "[30, 20, 10]\n"
     ]
    }
   ],
   "source": [
    "x = [10, 20, 30]\n",
    "x.reverse()\n",
    "print(x)"
   ]
  },
  {
   "cell_type": "markdown",
   "id": "8b080df4-2c5f-4693-bd84-da9ed5970a9c",
   "metadata": {},
   "source": [
    "### 27. Sort names = ['Alice', 'Bob', 'Charlie'] in reverse albhabetical order ?"
   ]
  },
  {
   "cell_type": "code",
   "execution_count": 216,
   "id": "2831bd82-fe41-4b77-9f22-50a28fa894ad",
   "metadata": {},
   "outputs": [
    {
     "name": "stdout",
     "output_type": "stream",
     "text": [
      "['Charlie', 'Bob', 'Alice']\n"
     ]
    }
   ],
   "source": [
    "names = ['Alice', 'Bob', 'Charlie']\n",
    "names.sort(reverse = True)\n",
    "print(names)"
   ]
  },
  {
   "cell_type": "markdown",
   "id": "1b6b4b94-9728-4d7c-a4c9-a981362582fa",
   "metadata": {},
   "source": [
    "### 28. Try sorting a list with mixed types: [1,'two', 3]. What happens?`"
   ]
  },
  {
   "cell_type": "code",
   "execution_count": 220,
   "id": "d3c62488-e9b9-43dc-862b-f1a6935e5bcc",
   "metadata": {},
   "outputs": [
    {
     "ename": "TypeError",
     "evalue": "'<' not supported between instances of 'str' and 'int'",
     "output_type": "error",
     "traceback": [
      "\u001b[1;31m---------------------------------------------------------------------------\u001b[0m",
      "\u001b[1;31mTypeError\u001b[0m                                 Traceback (most recent call last)",
      "Cell \u001b[1;32mIn[220], line 2\u001b[0m\n\u001b[0;32m      1\u001b[0m types \u001b[38;5;241m=\u001b[39m [\u001b[38;5;241m1\u001b[39m, \u001b[38;5;124m'\u001b[39m\u001b[38;5;124mtwo\u001b[39m\u001b[38;5;124m'\u001b[39m, \u001b[38;5;241m3\u001b[39m]\n\u001b[1;32m----> 2\u001b[0m types\u001b[38;5;241m.\u001b[39msort()\n\u001b[0;32m      3\u001b[0m \u001b[38;5;28mprint\u001b[39m(types)\n",
      "\u001b[1;31mTypeError\u001b[0m: '<' not supported between instances of 'str' and 'int'"
     ]
    }
   ],
   "source": [
    "types = [1, 'two', 3]\n",
    "types.sort()\n",
    "print(types)"
   ]
  },
  {
   "cell_type": "markdown",
   "id": "0d0c8112-5d35-4267-8c43-29a866ba21a9",
   "metadata": {},
   "source": [
    "# Slicing and Sub-list Creation"
   ]
  },
  {
   "cell_type": "markdown",
   "id": "9856d2a2-c63d-4f69-855f-bdbf190be8b5",
   "metadata": {},
   "source": [
    "### 29.From x = [10, 20, 30, 40, 50] print only the middle 3 values ?"
   ]
  },
  {
   "cell_type": "code",
   "execution_count": 224,
   "id": "158cd8a6-7d0b-4417-88a7-93ea43a533f7",
   "metadata": {},
   "outputs": [
    {
     "name": "stdout",
     "output_type": "stream",
     "text": [
      "[20, 30, 40]\n"
     ]
    }
   ],
   "source": [
    "x = [10, 20,30,40,50]\n",
    "y = x[1:4]\n",
    "print(y)"
   ]
  },
  {
   "cell_type": "markdown",
   "id": "157a8ff2-b58a-418e-b1ef-22ac3de823a0",
   "metadata": {},
   "source": [
    "### 30.Reverse a list using slicing(without .reverse()) ?"
   ]
  },
  {
   "cell_type": "code",
   "execution_count": 229,
   "id": "f2ca615b-d3af-4956-9e00-7052224fb3ef",
   "metadata": {},
   "outputs": [
    {
     "name": "stdout",
     "output_type": "stream",
     "text": [
      "[50, 40, 30, 20, 10]\n"
     ]
    }
   ],
   "source": [
    "x = [10,20,30,40,50]\n",
    "y = x[::-1]\n",
    "print(y)"
   ]
  },
  {
   "cell_type": "markdown",
   "id": "d27ea600-487b-4a89-a586-f06b567a6ff3",
   "metadata": {},
   "source": [
    "### 31.from a = [100, 200, 300, 400, 500] create a new list containing every second element ?"
   ]
  },
  {
   "cell_type": "code",
   "execution_count": 232,
   "id": "7a80fe7d-5346-4e3a-8067-19e08bb0239d",
   "metadata": {},
   "outputs": [
    {
     "name": "stdout",
     "output_type": "stream",
     "text": [
      "[100, 300, 500]\n"
     ]
    }
   ],
   "source": [
    "a = [100, 200, 300, 400, 500]\n",
    "b = a[::2]\n",
    "print(b)"
   ]
  },
  {
   "cell_type": "markdown",
   "id": "0e9631d5-e556-400b-83d8-4c44b10e7c4e",
   "metadata": {},
   "source": [
    "# Nested Lists "
   ]
  },
  {
   "cell_type": "markdown",
   "id": "9983de60-308c-4bfc-8730-ac3b6f11ee47",
   "metadata": {},
   "source": [
    "### 32. Create a nested list = [['a', 'b'], [1, 2]] and print 'b'"
   ]
  },
  {
   "cell_type": "code",
   "execution_count": 246,
   "id": "71033c58-687d-4a4f-8629-ee6c5e0ecf1e",
   "metadata": {},
   "outputs": [
    {
     "name": "stdout",
     "output_type": "stream",
     "text": [
      "b\n"
     ]
    }
   ],
   "source": [
    "nested_list = [['a', 'b'], [1, 2]]\n",
    "print(nested_list[0][1])"
   ]
  },
  {
   "cell_type": "markdown",
   "id": "b44c1591-6310-47af-af1a-146af005f742",
   "metadata": {},
   "source": [
    "### 33.from the list data = [['jan', 100], ['feb' , 200]]"
   ]
  },
  {
   "cell_type": "code",
   "execution_count": 250,
   "id": "50231085-dd95-41bc-b283-0d79d4a9d4cd",
   "metadata": {},
   "outputs": [
    {
     "name": "stdout",
     "output_type": "stream",
     "text": [
      "jan feb\n"
     ]
    }
   ],
   "source": [
    "data = [['jan', 100], ['feb', 200]]\n",
    "print(data[0][0], data[1][0])"
   ]
  },
  {
   "cell_type": "markdown",
   "id": "85ed6cd2-5c26-4e16-b8cc-1cf8a7b8f172",
   "metadata": {},
   "source": [
    "### 34.Append a new inner list to data = [[1,2], [3, 4]].print the result"
   ]
  },
  {
   "cell_type": "code",
   "execution_count": 253,
   "id": "e487c858-82c0-4979-9457-6c9104ef4e3f",
   "metadata": {},
   "outputs": [
    {
     "name": "stdout",
     "output_type": "stream",
     "text": [
      "[[1, 2], [3, 4], [5, 6]]\n"
     ]
    }
   ],
   "source": [
    "data = [[1, 2],[3, 4]]\n",
    "data.append([5, 6])\n",
    "print(data)"
   ]
  },
  {
   "cell_type": "markdown",
   "id": "1ba8c734-c5b0-4229-88e9-f7fa1ad8f604",
   "metadata": {},
   "source": [
    "### 35.Access the second element of the second inner list in nested = [[10, 20], [30, 40]]"
   ]
  },
  {
   "cell_type": "code",
   "execution_count": 256,
   "id": "2b0afe4a-c4f8-46e2-9eb9-b575060348a0",
   "metadata": {},
   "outputs": [
    {
     "name": "stdout",
     "output_type": "stream",
     "text": [
      "40\n"
     ]
    }
   ],
   "source": [
    "nested = [[10, 20], [30, 40]]\n",
    "print(nested[1][1])"
   ]
  },
  {
   "cell_type": "code",
   "execution_count": null,
   "id": "06def08b-20a0-4690-985d-1add1ab8c0aa",
   "metadata": {},
   "outputs": [],
   "source": []
  }
 ],
 "metadata": {
  "kernelspec": {
   "display_name": "Python [conda env:base] *",
   "language": "python",
   "name": "conda-base-py"
  },
  "language_info": {
   "codemirror_mode": {
    "name": "ipython",
    "version": 3
   },
   "file_extension": ".py",
   "mimetype": "text/x-python",
   "name": "python",
   "nbconvert_exporter": "python",
   "pygments_lexer": "ipython3",
   "version": "3.12.7"
  }
 },
 "nbformat": 4,
 "nbformat_minor": 5
}
