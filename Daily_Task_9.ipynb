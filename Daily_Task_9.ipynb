{
 "cells": [
  {
   "cell_type": "markdown",
   "id": "0775db0c-b3e9-42ab-bac2-ff152b5bf4a2",
   "metadata": {},
   "source": [
    "# SETS"
   ]
  },
  {
   "cell_type": "markdown",
   "id": "fc6e77c2-ebb4-4f0e-a08a-597a9b69c835",
   "metadata": {},
   "source": [
    "#### Q.1 Data: set_a = {\"red\", \"blue\", \"green\"}\n",
    "#### Question: Add \"yellow\" to the list of available colors in set_a.\n",
    "#### Hint: Use a method that inserts a new element."
   ]
  },
  {
   "cell_type": "code",
   "execution_count": 10,
   "id": "8addea63-2d00-4c75-abcf-66d0844a4e08",
   "metadata": {},
   "outputs": [
    {
     "name": "stdout",
     "output_type": "stream",
     "text": [
      "{'yellow', 'red', 'green', 'blue'}\n"
     ]
    }
   ],
   "source": [
    "set_a = {\"red\", \"blue\", \"green\"}\n",
    "set_a.add(\"yellow\")\n",
    "print(set_a)"
   ]
  },
  {
   "cell_type": "markdown",
   "id": "481e39dd-0f3d-43f1-8d8c-c0f03ebfb447",
   "metadata": {},
   "source": [
    "#### Q.2 Data: x = {\"a\", \"b\", \"c\"}, y = {\"b\", \"c\", \"d\"}\n",
    "#### Question: Create a new set with all elements from both x and y.\n",
    "#### Hint: Use the method that unifies two sets."
   ]
  },
  {
   "cell_type": "code",
   "execution_count": 17,
   "id": "62458b4b-9e47-474e-87a9-118ed093c8b5",
   "metadata": {},
   "outputs": [
    {
     "data": {
      "text/plain": [
       "{'a', 'b', 'c', 'd'}"
      ]
     },
     "execution_count": 17,
     "metadata": {},
     "output_type": "execute_result"
    }
   ],
   "source": [
    "x = {\"a\", \"b\", \"c\"}\n",
    "y = {\"b\", \"c\", \"d\"}\n",
    "x.union(y)"
   ]
  },
  {
   "cell_type": "markdown",
   "id": "59a53855-3f7e-4267-aa78-15dcfaee40a3",
   "metadata": {},
   "source": [
    "#### Q.3Data: x = {\"a\", \"b\", \"c\"}, y = {\"b\", \"c\", \"d\"}\n",
    "#### Question: Find elements that are only in x, not in y.\n",
    "#### Hint: Think difference, not overlap."
   ]
  },
  {
   "cell_type": "code",
   "execution_count": 23,
   "id": "f7226878-e46b-4b82-80ef-acfa275087b0",
   "metadata": {},
   "outputs": [
    {
     "data": {
      "text/plain": [
       "{'a'}"
      ]
     },
     "execution_count": 23,
     "metadata": {},
     "output_type": "execute_result"
    }
   ],
   "source": [
    "x = {\"a\", \"b\", \"c\"} \n",
    "y = {\"b\", \"c\", \"d\"}\n",
    "x.difference(y)"
   ]
  },
  {
   "cell_type": "markdown",
   "id": "afd9a25a-82ac-4377-a46e-58c712076c12",
   "metadata": {},
   "source": [
    "#### Q.4 Data: s = {\"apple\", \"banana\", \"cherry\"}\n",
    "#### Question: Remove \"banana\" from the set without causing an error if it's not there.\n",
    "#### Hint: Use a method that doesn’t complain."
   ]
  },
  {
   "cell_type": "code",
   "execution_count": 28,
   "id": "aaa6dfd7-7b01-4999-8c4d-901da557d15a",
   "metadata": {},
   "outputs": [],
   "source": [
    "s = {\"apple\", \"banana\", \"cherry\"}\n",
    "s.discard(\"banana\")"
   ]
  },
  {
   "cell_type": "markdown",
   "id": "4a2b0df4-b127-457d-a67a-43cf5b43ab46",
   "metadata": {},
   "source": [
    "#### Q.5 Data: a = {\"lion\", \"tiger\"}, b = {\"tiger\", \"leopard\"}\n",
    "#### Question: Which animals are common in both sets?\n",
    "#### Hint: Find the intersection."
   ]
  },
  {
   "cell_type": "code",
   "execution_count": 34,
   "id": "d16a33e9-4977-4343-aecb-54c0f19d265f",
   "metadata": {},
   "outputs": [
    {
     "data": {
      "text/plain": [
       "{'tiger'}"
      ]
     },
     "execution_count": 34,
     "metadata": {},
     "output_type": "execute_result"
    }
   ],
   "source": [
    "a = {\"lion\", \"tiger\"}\n",
    "b = {\"tiger\", \"leopard\"}\n",
    "a.intersection(b)"
   ]
  },
  {
   "cell_type": "markdown",
   "id": "da3bf595-46bb-4424-a068-2920ea9f9dae",
   "metadata": {},
   "source": [
    "#### Q.6 Data: s = {\"one\", \"two\", \"three\"}\n",
    "#### Question: Remove a random element from the set and return it.\n",
    "#### Hint: There's only one method that gives and takes at the same time."
   ]
  },
  {
   "cell_type": "code",
   "execution_count": 40,
   "id": "b4d1ccef-102d-4591-9a81-df37f35d7f6e",
   "metadata": {},
   "outputs": [
    {
     "name": "stdout",
     "output_type": "stream",
     "text": [
      "{'two', 'one'}\n"
     ]
    }
   ],
   "source": [
    "s = {\"one\", \"two\", \"three\"}\n",
    "s.pop()\n",
    "print(s)"
   ]
  },
  {
   "cell_type": "markdown",
   "id": "ebf0eb92-7170-4062-aebc-9ce19f47eb74",
   "metadata": {},
   "source": [
    "#### Q.7 Data: s = {\"car\", \"bike\", \"bus\"}\n",
    "#### Question: Remove all elements from s.\n",
    "#### Hint: Use a method that makes the set empty."
   ]
  },
  {
   "cell_type": "code",
   "execution_count": 44,
   "id": "00dc0948-b8e7-47d5-80c4-5f3ef247d11e",
   "metadata": {},
   "outputs": [],
   "source": [
    "s = {\"car\", \"bike\", \"bus\"}\n",
    "s.clear()"
   ]
  },
  {
   "cell_type": "code",
   "execution_count": 46,
   "id": "26601d9f-86ce-4070-a5a6-67a4237e47b5",
   "metadata": {},
   "outputs": [
    {
     "name": "stdout",
     "output_type": "stream",
     "text": [
      "set()\n"
     ]
    }
   ],
   "source": [
    "print(s)"
   ]
  },
  {
   "cell_type": "markdown",
   "id": "e8298e98-575f-4ee1-a3cb-f7ce9a652cb7",
   "metadata": {},
   "source": [
    "#### Q.8 Data: colors = {\"red\", \"green\"}, more_colors = {\"blue\", \"yellow\"}\n",
    "#### Question: Add all colors from more_colors into colors.\n",
    "#### Hint: Use a method that modifies the set in-place with multiple values."
   ]
  },
  {
   "cell_type": "code",
   "execution_count": 58,
   "id": "28661b45-7e33-4eed-9b75-7fb6686cd0eb",
   "metadata": {},
   "outputs": [
    {
     "data": {
      "text/plain": [
       "{'blue', 'green', 'red', 'yellow'}"
      ]
     },
     "execution_count": 58,
     "metadata": {},
     "output_type": "execute_result"
    }
   ],
   "source": [
    "colors = {\"red\", \"green\"}\n",
    "more_colors = {\"blue\", \"yellow\"}\n",
    "colors.union(more_colors)"
   ]
  },
  {
   "cell_type": "markdown",
   "id": "3816c6af-d382-4af3-afbb-f743e7e85bdf",
   "metadata": {},
   "source": [
    "#### Q.9 Data: a = {\"x\", \"y\"}, b = {\"x\", \"y\", \"z\"}\n",
    "#### Question: Check if a is a subset of b.\n",
    "#### Hint: Is everything in a also in b?"
   ]
  },
  {
   "cell_type": "code",
   "execution_count": 62,
   "id": "9df5c646-2ba0-4d20-b1be-8f42627511c2",
   "metadata": {},
   "outputs": [
    {
     "data": {
      "text/plain": [
       "True"
      ]
     },
     "execution_count": 62,
     "metadata": {},
     "output_type": "execute_result"
    }
   ],
   "source": [
    "a = {\"x\", \"y\"}\n",
    "b = {\"x\", \"y\", \"z\"}\n",
    "a.issubset(b)"
   ]
  },
  {
   "cell_type": "markdown",
   "id": "508da13d-48e6-4232-8606-47015c4cf871",
   "metadata": {},
   "source": [
    "#### Q.10 Data: main_set = {\"python\", \"java\", \"c++\"}\n",
    "#### Question: Try adding the value \"python\" again. What happens?\n",
    "#### Hint: Sets avoid duplication."
   ]
  },
  {
   "cell_type": "code",
   "execution_count": 74,
   "id": "a65ecf6b-fb65-4466-9233-8bf4e6c94e75",
   "metadata": {},
   "outputs": [],
   "source": [
    "main_set = {\"python\", \"java\", \"c++\"}\n",
    "main_set.add(\"python\")"
   ]
  },
  {
   "cell_type": "code",
   "execution_count": 76,
   "id": "4bd5ec61-0a45-4da5-a50e-c3e1ae99be9d",
   "metadata": {},
   "outputs": [
    {
     "name": "stdout",
     "output_type": "stream",
     "text": [
      "{'python', 'c++', 'java'}\n"
     ]
    }
   ],
   "source": [
    "print(main_set)"
   ]
  },
  {
   "cell_type": "markdown",
   "id": "3128c588-46f8-4c01-ac0e-0faf50b06b3e",
   "metadata": {},
   "source": [
    "#### Q.11 Data: x = {\"hello\", \"hi\", \"hey\"}, y = {\"hi\", \"hola\"}\n",
    "#### Question: Keep only elements in both x and y inside x.\n",
    "#### Hint: Use an in-place intersection."
   ]
  },
  {
   "cell_type": "code",
   "execution_count": 80,
   "id": "3a1bc390-31bc-4c05-8dbc-ed9ddf656695",
   "metadata": {},
   "outputs": [
    {
     "data": {
      "text/plain": [
       "{'hi'}"
      ]
     },
     "execution_count": 80,
     "metadata": {},
     "output_type": "execute_result"
    }
   ],
   "source": [
    "x = {\"hello\", \"hi\", \"hey\"}\n",
    "y = {\"hi\", \"hola\"}\n",
    "x.intersection(y)"
   ]
  },
  {
   "cell_type": "markdown",
   "id": "2f5149e6-0ffa-4861-886a-a0b62a854c51",
   "metadata": {},
   "source": [
    "#### Q.12 Data: languages = {\"english\", \"french\", \"spanish\"}\n",
    "#### Question: Safely remove a non-existing value \"german\".\n",
    "#### Hint: Avoid remove() to prevent error."
   ]
  },
  {
   "cell_type": "code",
   "execution_count": 88,
   "id": "2d52f7d0-bf16-4411-b650-75a280e204b8",
   "metadata": {},
   "outputs": [],
   "source": [
    "languages = {\"english\", \"french\", \"spanish\"}\n",
    "languages.discard(\"Telugu\")"
   ]
  },
  {
   "cell_type": "markdown",
   "id": "4f85e917-fe71-4a43-b311-8c59ed022ffb",
   "metadata": {},
   "source": [
    "#### Q.13 Data: a = {\"A\", \"B\", \"C\"}\n",
    "#### Question: Make a duplicate of a into a new set b.\n",
    "#### Hint: You need to clone it."
   ]
  },
  {
   "cell_type": "code",
   "execution_count": 92,
   "id": "311c0699-bf0e-4ae7-83f7-3e6ead8ff6a7",
   "metadata": {},
   "outputs": [
    {
     "name": "stdout",
     "output_type": "stream",
     "text": [
      "{'A', 'B', 'C'}\n"
     ]
    }
   ],
   "source": [
    "a = {\"A\", \"B\", \"C\"}\n",
    "b = a.copy()\n",
    "print(b)"
   ]
  },
  {
   "cell_type": "markdown",
   "id": "8941a5f8-ae58-47e4-bb4c-3558a1c74e36",
   "metadata": {},
   "source": [
    "#### Q.14 Data: x = {\"a\", \"b\"}, y = {\"b\", \"c\"}, z = {\"c\", \"d\"}\n",
    "#### Question: Find all elements across the three sets without repetition.\n",
    "#### Hint: Combine all of them into one."
   ]
  },
  {
   "cell_type": "code",
   "execution_count": 99,
   "id": "75e2322c-e94b-4a8d-9b00-86446bb918f4",
   "metadata": {},
   "outputs": [
    {
     "data": {
      "text/plain": [
       "{'a', 'b', 'c', 'd'}"
      ]
     },
     "execution_count": 99,
     "metadata": {},
     "output_type": "execute_result"
    }
   ],
   "source": [
    "x = {\"a\", \"b\"}\n",
    "y = {\"b\", \"c\"}\n",
    "z = {\"c\", \"d\"}\n",
    "x.union(y, z)"
   ]
  },
  {
   "cell_type": "markdown",
   "id": "978fc1b0-fbc8-4db8-b224-fd74fbb80658",
   "metadata": {},
   "source": [
    "#### Q.15 Data: set_1 = {\"ant\", \"bee\", \"cat\"}, set_2 = {\"dog\", \"bee\", \"cat\"}\n",
    "#### Question: What animals are only in set_1 or set_2, but not in both?\n",
    "#### Hint: Symmetric difference is your friend."
   ]
  },
  {
   "cell_type": "code",
   "execution_count": 107,
   "id": "a8a2f3c2-e65b-4204-95fe-3478ac8e2a15",
   "metadata": {},
   "outputs": [
    {
     "data": {
      "text/plain": [
       "{'ant', 'dog'}"
      ]
     },
     "execution_count": 107,
     "metadata": {},
     "output_type": "execute_result"
    }
   ],
   "source": [
    "set_1 = {\"ant\", \"bee\", \"cat\"}\n",
    "set_2 = {\"dog\", \"bee\", \"cat\"}\n",
    "set_1.symmetric_difference(set_2)"
   ]
  },
  {
   "cell_type": "code",
   "execution_count": null,
   "id": "4a7b94b2-ad33-4ec9-b6e4-ccceb1c39c28",
   "metadata": {},
   "outputs": [],
   "source": []
  },
  {
   "cell_type": "markdown",
   "id": "a6b40f7c-b123-4c6b-aed0-d36f953adbd1",
   "metadata": {},
   "source": [
    "# DICTIONARIES "
   ]
  },
  {
   "cell_type": "markdown",
   "id": "f3526664-d459-4932-92f2-f59e1419b773",
   "metadata": {},
   "source": [
    "#### Q.16 Data: info = {\"name\": \"Alice\", \"age\": 28}\n",
    "#### Question: Add \"city\": \"Paris\" to this dictionary.\n",
    "#### Hint: Use assignment with a new key.v"
   ]
  },
  {
   "cell_type": "code",
   "execution_count": 114,
   "id": "0b1f73ef-07a9-4935-9f99-06b27820dcd6",
   "metadata": {},
   "outputs": [
    {
     "name": "stdout",
     "output_type": "stream",
     "text": [
      "{'name': 'Alice', 'age': 28, 'city': 'Paris'}\n"
     ]
    }
   ],
   "source": [
    "info = {\"name\": \"Alice\", \"age\": 28}\n",
    "info.update({\"city\": \"Paris\"})\n",
    "print(info)"
   ]
  },
  {
   "cell_type": "markdown",
   "id": "141eac1a-e3e2-494a-a876-ac45bf44467a",
   "metadata": {},
   "source": [
    "#### Q.17 Data: record = {\"math\": 80, \"science\": 90}\n",
    "#### Question: Update the score in math to 85.\n",
    "#### Hint: Direct assignment is enough."
   ]
  },
  {
   "cell_type": "code",
   "execution_count": 119,
   "id": "4f423efd-eaef-45da-b84e-169c5333ef40",
   "metadata": {},
   "outputs": [],
   "source": [
    "record = {\"math\": 80, \"science\": 90}\n",
    "record.update({\"math\":85})"
   ]
  },
  {
   "cell_type": "code",
   "execution_count": 121,
   "id": "8bdff472-ed15-4fa5-8c05-143719e8e206",
   "metadata": {},
   "outputs": [
    {
     "name": "stdout",
     "output_type": "stream",
     "text": [
      "{'math': 85, 'science': 90}\n"
     ]
    }
   ],
   "source": [
    "print(record)"
   ]
  },
  {
   "cell_type": "markdown",
   "id": "020b4fe7-76bc-4507-a1d6-a495aa73a614",
   "metadata": {},
   "source": [
    "#### Q.18 Data: grades = {\"John\": 75, \"Jane\": 88}\n",
    "#### Question: Remove \"Jane\" from the dictionary and get her score.\n",
    "#### Hint: Use the method that returns the value on deletion.\n"
   ]
  },
  {
   "cell_type": "code",
   "execution_count": 129,
   "id": "cb5f8d7d-73df-4ca4-bd05-f9a933b86310",
   "metadata": {},
   "outputs": [
    {
     "data": {
      "text/plain": [
       "88"
      ]
     },
     "execution_count": 129,
     "metadata": {},
     "output_type": "execute_result"
    }
   ],
   "source": [
    "grades = {\"John\": 75, \"Jane\": 88}\n",
    "grades.pop(\"Jane\")"
   ]
  },
  {
   "cell_type": "markdown",
   "id": "bb231a7b-7a15-426c-8f33-de1195908dfc",
   "metadata": {},
   "source": [
    "#### Q.19 Data: config = {\"mode\": \"dark\", \"timeout\": 30}\n",
    "#### Question: Safely fetch the value for \"language\" without error.\n",
    "#### Hint: Use .get() with a default."
   ]
  },
  {
   "cell_type": "code",
   "execution_count": 133,
   "id": "a57f1d11-f76c-4855-95c2-b3885ae9a581",
   "metadata": {},
   "outputs": [],
   "source": [
    "config = {\"mode\": \"dark\", \"timeout\": 30}\n",
    "config.get(\"language\")"
   ]
  },
  {
   "cell_type": "code",
   "execution_count": 135,
   "id": "b43327b1-23fe-4fa0-92fd-9b75da0116e9",
   "metadata": {},
   "outputs": [
    {
     "data": {
      "text/plain": [
       "{'mode': 'dark', 'timeout': 30}"
      ]
     },
     "execution_count": 135,
     "metadata": {},
     "output_type": "execute_result"
    }
   ],
   "source": [
    "config"
   ]
  },
  {
   "cell_type": "markdown",
   "id": "71b34056-ac5a-419d-909a-33e4e7fcf9e2",
   "metadata": {},
   "source": [
    "#### Q.20 Data: user = {\"username\": \"abc\", \"status\": \"active\"}\n",
    "#### Question: List all the keys in this dictionary.\n",
    "#### Hint: Think .keys()."
   ]
  },
  {
   "cell_type": "code",
   "execution_count": 145,
   "id": "5c832c0d-1235-4204-ab71-fd2e602606b4",
   "metadata": {},
   "outputs": [
    {
     "data": {
      "text/plain": [
       "dict_keys(['username', 'status'])"
      ]
     },
     "execution_count": 145,
     "metadata": {},
     "output_type": "execute_result"
    }
   ],
   "source": [
    "user = {\"username\": \"abc\", \"status\": \"active\"}\n",
    "user.keys()"
   ]
  },
  {
   "cell_type": "markdown",
   "id": "b9d566c8-417c-4ad5-9e43-84960af83db7",
   "metadata": {},
   "source": [
    "#### Q.21 Data: user = {\"username\": \"abc\", \"status\": \"active\"}\n",
    "#### Question: List all values in the dictionary.\n",
    "#### Hint: Use .values()."
   ]
  },
  {
   "cell_type": "code",
   "execution_count": 149,
   "id": "681a12bc-7d1b-4425-acad-39cb06906714",
   "metadata": {},
   "outputs": [
    {
     "name": "stdout",
     "output_type": "stream",
     "text": [
      "dict_values(['abc', 'active'])\n"
     ]
    }
   ],
   "source": [
    "user = {\"username\": \"abc\", \"status\": \"active\"}\n",
    "print(user.values())"
   ]
  },
  {
   "cell_type": "markdown",
   "id": "e5852cc3-d189-4eed-80c0-c49f7dd820fe",
   "metadata": {},
   "source": [
    "#### Q.22 Data: user = {\"username\": \"abc\", \"status\": \"active\"}\n",
    "#### Question: Show both keys and values together.\n",
    "#### Hint: Pairs? Think .items()."
   ]
  },
  {
   "cell_type": "code",
   "execution_count": 153,
   "id": "e638867c-91f0-42fa-9cd1-ebb6a0f99f23",
   "metadata": {},
   "outputs": [
    {
     "name": "stdout",
     "output_type": "stream",
     "text": [
      "dict_items([('username', 'abc'), ('status', 'active')])\n"
     ]
    }
   ],
   "source": [
    "user = {\"username\": \"abc\", \"status\": \"active\"}\n",
    "print(user.items())"
   ]
  },
  {
   "cell_type": "markdown",
   "id": "a4c627c9-ef92-44c2-ad7d-ee44d1403adb",
   "metadata": {},
   "source": [
    "#### Q.23 Data: book = {\"title\": \"1984\", \"author\": \"Orwell\"}\n",
    "#### Question: Check if the key \"publisher\" exists in book.\n",
    "#### Hint: Use the in keyword."
   ]
  },
  {
   "cell_type": "code",
   "execution_count": 161,
   "id": "3246cb48-3d9f-483d-bd7e-6ba004d85df9",
   "metadata": {},
   "outputs": [
    {
     "data": {
      "text/plain": [
       "False"
      ]
     },
     "execution_count": 161,
     "metadata": {},
     "output_type": "execute_result"
    }
   ],
   "source": [
    "book = {\"title\": \"1984\", \"author\": \"Orwell\"}\n",
    "\"publisher\" in book"
   ]
  },
  {
   "cell_type": "markdown",
   "id": "e4bf240c-49b3-4cb5-986c-582d207494a3",
   "metadata": {},
   "source": [
    "#### Q.24 Data: data = {\"a\": 1, \"b\": 2}, extra = {\"c\": 3}\n",
    "####  Question: Merge extra into data.\n",
    "#### Hint: .update() brings more data in."
   ]
  },
  {
   "cell_type": "code",
   "execution_count": 167,
   "id": "8bbace1d-9141-4113-962e-16f9301acedd",
   "metadata": {},
   "outputs": [],
   "source": [
    "data = {\"a\": 1, \"b\": 2}\n",
    "extra = {\"c\": 3}\n",
    "data.update(extra)"
   ]
  },
  {
   "cell_type": "code",
   "execution_count": 169,
   "id": "4d3ce6e3-6f28-4bdd-b371-06b5052899a9",
   "metadata": {},
   "outputs": [
    {
     "name": "stdout",
     "output_type": "stream",
     "text": [
      "{'a': 1, 'b': 2, 'c': 3}\n"
     ]
    }
   ],
   "source": [
    "print(data)"
   ]
  },
  {
   "cell_type": "markdown",
   "id": "d4fc08c9-baed-4abf-9d8e-94733390443e",
   "metadata": {},
   "source": [
    "#### Q.25 Data: d = {\"x\": 10, \"y\": 20}\n",
    "#### Question: Clear all entries from d.\n",
    "#### Hint: Use the method that deletes everything."
   ]
  },
  {
   "cell_type": "code",
   "execution_count": 173,
   "id": "c2b65daf-27cb-43f9-bef7-b9816edc994a",
   "metadata": {},
   "outputs": [
    {
     "name": "stdout",
     "output_type": "stream",
     "text": [
      "{}\n"
     ]
    }
   ],
   "source": [
    "d = {\"x\": 10, \"y\": 20}\n",
    "d.clear()\n",
    "print(d)"
   ]
  },
  {
   "cell_type": "markdown",
   "id": "3b8f1231-1def-4e85-8031-d4a0299fa35a",
   "metadata": {},
   "source": [
    "#### Q.26 Data: d = {\"x\": 10, \"y\": 20}\n",
    "#### Question: Copy this dictionary into a new one.\n",
    "#### Hint: Use .copy()."
   ]
  },
  {
   "cell_type": "code",
   "execution_count": 177,
   "id": "a9b3437a-79fc-4b59-b584-6b02ef3ab0f8",
   "metadata": {},
   "outputs": [
    {
     "name": "stdout",
     "output_type": "stream",
     "text": [
      "{'x': 10, 'y': 20}\n"
     ]
    }
   ],
   "source": [
    "d = {\"x\": 10, \"y\": 20}\n",
    "e = d.copy()\n",
    "print(e)"
   ]
  },
  {
   "cell_type": "markdown",
   "id": "3cde42e7-4bbb-45c3-9821-b4b803af4d35",
   "metadata": {},
   "source": [
    "#### Q.27 Data: student = {\"name\": \"Zara\", \"score\": 95}\n",
    "#### Question: Provide a default gender as \"female\" only if not present.\n",
    "#### Hint: Think of .setdefault()"
   ]
  },
  {
   "cell_type": "code",
   "execution_count": 185,
   "id": "ef2e8dd2-9d34-401f-9c2f-547720758715",
   "metadata": {},
   "outputs": [
    {
     "name": "stdout",
     "output_type": "stream",
     "text": [
      "{'name': 'Zara', 'score': 95, 'gender': 'female'}\n"
     ]
    }
   ],
   "source": [
    "student = {\"name\": \"Zara\", \"score\": 95}\n",
    "student.setdefault(\"gender\",\"female\")\n",
    "print(student)"
   ]
  },
  {
   "cell_type": "markdown",
   "id": "72dc3b00-2c0c-4fc7-8193-5b07e404fd0d",
   "metadata": {},
   "source": [
    "#### Q.28 Data: values = [(\"a\", 1), (\"b\", 2)]\n",
    "#### Question: Convert this list of pairs into a dictionary.\n",
    "#### Hint: Use the dict() constructor"
   ]
  },
  {
   "cell_type": "code",
   "execution_count": 188,
   "id": "0f75379d-8d78-4961-8ee1-c1d939d4d248",
   "metadata": {},
   "outputs": [
    {
     "data": {
      "text/plain": [
       "{'a': 1, 'b': 2}"
      ]
     },
     "execution_count": 188,
     "metadata": {},
     "output_type": "execute_result"
    }
   ],
   "source": [
    "values = [(\"a\", 1), (\"b\", 2)]\n",
    "dict(values)"
   ]
  },
  {
   "cell_type": "markdown",
   "id": "7db30e6b-003e-417b-8811-c0caa7e8680e",
   "metadata": {},
   "source": [
    "#### Q.29 Data: words = [\"apple\", \"banana\", \"apple\"]\n",
    "#### Question: Manually build a dictionary showing how many times each word occurs.\n",
    "#### Hint: You'll need to use repeated assignments — no loops, so do it step by step."
   ]
  },
  {
   "cell_type": "code",
   "execution_count": 204,
   "id": "fbb3aa94-d359-4ecb-ac5d-ab64f615e2cf",
   "metadata": {},
   "outputs": [
    {
     "name": "stdout",
     "output_type": "stream",
     "text": [
      "{'apple': 2, 'banana': 1}\n"
     ]
    }
   ],
   "source": [
    "words = [\"apple\", \"banana\", \"apple\"]\n",
    "word_count = {}\n",
    "word_count[\"apple\"] = 1\n",
    "word_count[\"banana\"] = 1\n",
    "word_count[\"apple\"] += 1\n",
    "print(word_count)"
   ]
  },
  {
   "cell_type": "markdown",
   "id": "813047ef-a6db-45b2-bf8b-2ef384e8ef6f",
   "metadata": {},
   "source": [
    "#### Q.30 Data: d = {\"one\": \"apple\", \"two\": \"banana\", \"three\": \"carrot\"}\n",
    "#### Question: Count how many values contain the letter \"a\".\n",
    "#### Hint: Manually check each value — no loops allowed."
   ]
  },
  {
   "cell_type": "code",
   "execution_count": 243,
   "id": "e1340913-45e3-4803-934e-662342fe3238",
   "metadata": {},
   "outputs": [
    {
     "name": "stdout",
     "output_type": "stream",
     "text": [
      "3\n"
     ]
    }
   ],
   "source": [
    "d = {\"one\": \"apple\", \"two\": \"banana\", \"three\": \"carrot\"}\n",
    "count = (\"a\" in d[\"one\"]) + (\"a\" in d[\"two\"]) + (\"a\" in d[\"three\"])\n",
    "print(count)"
   ]
  },
  {
   "cell_type": "code",
   "execution_count": null,
   "id": "c4700b73-10e4-45ad-8082-6b145d2151a4",
   "metadata": {},
   "outputs": [],
   "source": []
  }
 ],
 "metadata": {
  "kernelspec": {
   "display_name": "Python [conda env:base] *",
   "language": "python",
   "name": "conda-base-py"
  },
  "language_info": {
   "codemirror_mode": {
    "name": "ipython",
    "version": 3
   },
   "file_extension": ".py",
   "mimetype": "text/x-python",
   "name": "python",
   "nbconvert_exporter": "python",
   "pygments_lexer": "ipython3",
   "version": "3.12.7"
  }
 },
 "nbformat": 4,
 "nbformat_minor": 5
}
